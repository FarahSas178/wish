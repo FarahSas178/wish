{
 "cells": [
  {
   "cell_type": "markdown",
   "metadata": {
    "id": "a-cMApGHJjJT"
   },
   "source": [
    "# Problem formulation\n",
    "This project is about Wish.com Product Rating Prediction.The data is uncleaned with some missing values which need preprocessing. Our goal is to predict the product ratings given the other features known for a product on Wish.com. Ratings  should in categories from 1 to 5. For one product, the higher the rating is, the more the customers like the product. In this way, when you have a new product to be put on wish.com, you can estimate how likely people will like your product, without actually listing out there. Also, by doing this, it helps us to understand under what certain conditions that a product will be highly rated, as a way to understand the customer base of the wish.com.\n",
    "We have 1095 training samples and 480 test sample to predict. We have 34 features. the output is the predicted rating  \n",
    "Data mining function required is classfication.\n",
    "We have many challenges as data requires many preprocessing due to the existence of dirty data and also we need hyperparameter tuning to find out the best paramter that will reults the best performance \n",
    "By predicting the rating wish.com will be able to predict which product will help in improving customer experience and increase their sales. What is an ideal solution?\n"
   ]
  },
  {
   "cell_type": "markdown",
   "metadata": {
    "id": "MhO3SQYXJjJW"
   },
   "source": [
    "### Data Loading and Exploration\n",
    "##### let's load a simple dataframe.\n",
    "#### Training set"
   ]
  },
  {
   "cell_type": "markdown",
   "metadata": {
    "id": "YOTWCN3SJjJX"
   },
   "source": [
    "# First trial"
   ]
  },
  {
   "cell_type": "code",
   "execution_count": 1,
   "metadata": {
    "colab": {
     "base_uri": "https://localhost:8080/",
     "height": 696
    },
    "id": "XJ5I-xW_JjJX",
    "outputId": "77a3a879-684d-466f-ae8e-1a06d3bd78fb"
   },
   "outputs": [
    {
     "name": "stdout",
     "output_type": "stream",
     "text": [
      "(1094, 34)\n"
     ]
    },
    {
     "data": {
      "text/html": [
       "\n",
       "  <div id=\"df-01158346-81e5-4ced-8f7c-d4c448ad1f0a\">\n",
       "    <div class=\"colab-df-container\">\n",
       "      <div>\n",
       "<style scoped>\n",
       "    .dataframe tbody tr th:only-of-type {\n",
       "        vertical-align: middle;\n",
       "    }\n",
       "\n",
       "    .dataframe tbody tr th {\n",
       "        vertical-align: top;\n",
       "    }\n",
       "\n",
       "    .dataframe thead th {\n",
       "        text-align: right;\n",
       "    }\n",
       "</style>\n",
       "<table border=\"1\" class=\"dataframe\">\n",
       "  <thead>\n",
       "    <tr style=\"text-align: right;\">\n",
       "      <th></th>\n",
       "      <th>price</th>\n",
       "      <th>retail_price</th>\n",
       "      <th>currency_buyer</th>\n",
       "      <th>units_sold</th>\n",
       "      <th>uses_ad_boosts</th>\n",
       "      <th>rating</th>\n",
       "      <th>rating_count</th>\n",
       "      <th>badges_count</th>\n",
       "      <th>badge_local_product</th>\n",
       "      <th>badge_product_quality</th>\n",
       "      <th>badge_fast_shipping</th>\n",
       "      <th>tags</th>\n",
       "      <th>product_color</th>\n",
       "      <th>product_variation_size_id</th>\n",
       "      <th>product_variation_inventory</th>\n",
       "      <th>shipping_option_name</th>\n",
       "      <th>shipping_option_price</th>\n",
       "      <th>shipping_is_express</th>\n",
       "      <th>countries_shipped_to</th>\n",
       "      <th>inventory_total</th>\n",
       "      <th>has_urgency_banner</th>\n",
       "      <th>urgency_text</th>\n",
       "      <th>origin_country</th>\n",
       "      <th>merchant_title</th>\n",
       "      <th>merchant_name</th>\n",
       "      <th>merchant_info_subtitle</th>\n",
       "      <th>merchant_rating_count</th>\n",
       "      <th>merchant_rating</th>\n",
       "      <th>merchant_id</th>\n",
       "      <th>merchant_has_profile_picture</th>\n",
       "      <th>merchant_profile_picture</th>\n",
       "      <th>theme</th>\n",
       "      <th>crawl_month</th>\n",
       "      <th>id</th>\n",
       "    </tr>\n",
       "  </thead>\n",
       "  <tbody>\n",
       "    <tr>\n",
       "      <th>0</th>\n",
       "      <td>8.00</td>\n",
       "      <td>7</td>\n",
       "      <td>EUR</td>\n",
       "      <td>10000</td>\n",
       "      <td>1</td>\n",
       "      <td>4.0</td>\n",
       "      <td>1670</td>\n",
       "      <td>0</td>\n",
       "      <td>0</td>\n",
       "      <td>0</td>\n",
       "      <td>0</td>\n",
       "      <td>Summer,soildcolor,Plus Size,Tank,camisole,Tops...</td>\n",
       "      <td>yellow</td>\n",
       "      <td>M</td>\n",
       "      <td>50</td>\n",
       "      <td>Livraison standard</td>\n",
       "      <td>3</td>\n",
       "      <td>0</td>\n",
       "      <td>30</td>\n",
       "      <td>50</td>\n",
       "      <td>NaN</td>\n",
       "      <td>NaN</td>\n",
       "      <td>CN</td>\n",
       "      <td>keepahorse</td>\n",
       "      <td>keepahorse</td>\n",
       "      <td>88 % avis positifs (66,644 notes)</td>\n",
       "      <td>66644</td>\n",
       "      <td>4.137582</td>\n",
       "      <td>577fb2b368116418674befd9</td>\n",
       "      <td>1</td>\n",
       "      <td>https://s3-us-west-1.amazonaws.com/sweeper-pro...</td>\n",
       "      <td>summer</td>\n",
       "      <td>2020-08</td>\n",
       "      <td>272</td>\n",
       "    </tr>\n",
       "    <tr>\n",
       "      <th>1</th>\n",
       "      <td>8.00</td>\n",
       "      <td>7</td>\n",
       "      <td>EUR</td>\n",
       "      <td>1000</td>\n",
       "      <td>0</td>\n",
       "      <td>4.0</td>\n",
       "      <td>843</td>\n",
       "      <td>1</td>\n",
       "      <td>1</td>\n",
       "      <td>0</td>\n",
       "      <td>0</td>\n",
       "      <td>bathing suit,Plus Size,bikini set,sexy swimsui...</td>\n",
       "      <td>black</td>\n",
       "      <td>L</td>\n",
       "      <td>50</td>\n",
       "      <td>Livraison standard</td>\n",
       "      <td>3</td>\n",
       "      <td>0</td>\n",
       "      <td>37</td>\n",
       "      <td>50</td>\n",
       "      <td>NaN</td>\n",
       "      <td>NaN</td>\n",
       "      <td>CN</td>\n",
       "      <td>shanghaimingqidianqikejiyouxiangongsi</td>\n",
       "      <td>上海铭启电气科技有限公司</td>\n",
       "      <td>91 % avis positifs (25,752 notes)</td>\n",
       "      <td>25752</td>\n",
       "      <td>4.256873</td>\n",
       "      <td>566a3ef17233ff2686443082</td>\n",
       "      <td>0</td>\n",
       "      <td>NaN</td>\n",
       "      <td>summer</td>\n",
       "      <td>2020-08</td>\n",
       "      <td>1515</td>\n",
       "    </tr>\n",
       "    <tr>\n",
       "      <th>2</th>\n",
       "      <td>6.00</td>\n",
       "      <td>34</td>\n",
       "      <td>EUR</td>\n",
       "      <td>100</td>\n",
       "      <td>0</td>\n",
       "      <td>4.0</td>\n",
       "      <td>10</td>\n",
       "      <td>0</td>\n",
       "      <td>0</td>\n",
       "      <td>0</td>\n",
       "      <td>0</td>\n",
       "      <td>Summer,Vest,momshirt,Get,summer t-shirts,funny...</td>\n",
       "      <td>white</td>\n",
       "      <td>L</td>\n",
       "      <td>50</td>\n",
       "      <td>Livraison standard</td>\n",
       "      <td>2</td>\n",
       "      <td>0</td>\n",
       "      <td>41</td>\n",
       "      <td>50</td>\n",
       "      <td>NaN</td>\n",
       "      <td>NaN</td>\n",
       "      <td>CN</td>\n",
       "      <td>zhaodongmei</td>\n",
       "      <td>zhaodongmei</td>\n",
       "      <td>83 % avis positifs (3,897 notes)</td>\n",
       "      <td>3897</td>\n",
       "      <td>3.928920</td>\n",
       "      <td>5aacd6c1ccf0c83e5a6f3de0</td>\n",
       "      <td>0</td>\n",
       "      <td>NaN</td>\n",
       "      <td>summer</td>\n",
       "      <td>2020-08</td>\n",
       "      <td>940</td>\n",
       "    </tr>\n",
       "    <tr>\n",
       "      <th>3</th>\n",
       "      <td>4.67</td>\n",
       "      <td>4</td>\n",
       "      <td>EUR</td>\n",
       "      <td>100</td>\n",
       "      <td>1</td>\n",
       "      <td>3.0</td>\n",
       "      <td>82</td>\n",
       "      <td>0</td>\n",
       "      <td>0</td>\n",
       "      <td>0</td>\n",
       "      <td>0</td>\n",
       "      <td>Summer,Shorts,pants,Beach,Plus Size,beachpant,...</td>\n",
       "      <td>lakeblue</td>\n",
       "      <td>XS</td>\n",
       "      <td>5</td>\n",
       "      <td>Livraison standard</td>\n",
       "      <td>1</td>\n",
       "      <td>0</td>\n",
       "      <td>25</td>\n",
       "      <td>50</td>\n",
       "      <td>NaN</td>\n",
       "      <td>NaN</td>\n",
       "      <td>CN</td>\n",
       "      <td>pookie0331</td>\n",
       "      <td>pookie0331</td>\n",
       "      <td>87 % avis positifs (7,497 notes)</td>\n",
       "      <td>7497</td>\n",
       "      <td>4.079365</td>\n",
       "      <td>583141fbfef4094e51453d9b</td>\n",
       "      <td>0</td>\n",
       "      <td>NaN</td>\n",
       "      <td>summer</td>\n",
       "      <td>2020-08</td>\n",
       "      <td>309</td>\n",
       "    </tr>\n",
       "    <tr>\n",
       "      <th>4</th>\n",
       "      <td>8.00</td>\n",
       "      <td>11</td>\n",
       "      <td>EUR</td>\n",
       "      <td>1000</td>\n",
       "      <td>0</td>\n",
       "      <td>4.0</td>\n",
       "      <td>127</td>\n",
       "      <td>0</td>\n",
       "      <td>0</td>\n",
       "      <td>0</td>\n",
       "      <td>0</td>\n",
       "      <td>Summer,Floral print,women dresses,fashion dres...</td>\n",
       "      <td>apricot</td>\n",
       "      <td>S</td>\n",
       "      <td>50</td>\n",
       "      <td>Livraison standard</td>\n",
       "      <td>3</td>\n",
       "      <td>0</td>\n",
       "      <td>15</td>\n",
       "      <td>50</td>\n",
       "      <td>1.0</td>\n",
       "      <td>Quantité limitée !</td>\n",
       "      <td>CN</td>\n",
       "      <td>shitongyi12683626</td>\n",
       "      <td>shitongyi12683626</td>\n",
       "      <td>91 % avis positifs (173 notes)</td>\n",
       "      <td>173</td>\n",
       "      <td>4.306358</td>\n",
       "      <td>5d3bc9f8e13a7e654424a4cb</td>\n",
       "      <td>0</td>\n",
       "      <td>NaN</td>\n",
       "      <td>summer</td>\n",
       "      <td>2020-08</td>\n",
       "      <td>226</td>\n",
       "    </tr>\n",
       "    <tr>\n",
       "      <th>...</th>\n",
       "      <td>...</td>\n",
       "      <td>...</td>\n",
       "      <td>...</td>\n",
       "      <td>...</td>\n",
       "      <td>...</td>\n",
       "      <td>...</td>\n",
       "      <td>...</td>\n",
       "      <td>...</td>\n",
       "      <td>...</td>\n",
       "      <td>...</td>\n",
       "      <td>...</td>\n",
       "      <td>...</td>\n",
       "      <td>...</td>\n",
       "      <td>...</td>\n",
       "      <td>...</td>\n",
       "      <td>...</td>\n",
       "      <td>...</td>\n",
       "      <td>...</td>\n",
       "      <td>...</td>\n",
       "      <td>...</td>\n",
       "      <td>...</td>\n",
       "      <td>...</td>\n",
       "      <td>...</td>\n",
       "      <td>...</td>\n",
       "      <td>...</td>\n",
       "      <td>...</td>\n",
       "      <td>...</td>\n",
       "      <td>...</td>\n",
       "      <td>...</td>\n",
       "      <td>...</td>\n",
       "      <td>...</td>\n",
       "      <td>...</td>\n",
       "      <td>...</td>\n",
       "      <td>...</td>\n",
       "    </tr>\n",
       "    <tr>\n",
       "      <th>1089</th>\n",
       "      <td>4.00</td>\n",
       "      <td>4</td>\n",
       "      <td>EUR</td>\n",
       "      <td>10000</td>\n",
       "      <td>0</td>\n",
       "      <td>4.0</td>\n",
       "      <td>2150</td>\n",
       "      <td>0</td>\n",
       "      <td>0</td>\n",
       "      <td>0</td>\n",
       "      <td>0</td>\n",
       "      <td>corset top,Fashion,crop top,camisole,knittop,T...</td>\n",
       "      <td>red</td>\n",
       "      <td>S</td>\n",
       "      <td>50</td>\n",
       "      <td>Livraison standard</td>\n",
       "      <td>1</td>\n",
       "      <td>0</td>\n",
       "      <td>41</td>\n",
       "      <td>50</td>\n",
       "      <td>NaN</td>\n",
       "      <td>NaN</td>\n",
       "      <td>CN</td>\n",
       "      <td>fantastic_tune</td>\n",
       "      <td>fantastic_tune</td>\n",
       "      <td>92 % avis positifs (230,951 notes)</td>\n",
       "      <td>230951</td>\n",
       "      <td>4.311066</td>\n",
       "      <td>53f2db3c104dae6bcae0c271</td>\n",
       "      <td>0</td>\n",
       "      <td>NaN</td>\n",
       "      <td>summer</td>\n",
       "      <td>2020-08</td>\n",
       "      <td>1381</td>\n",
       "    </tr>\n",
       "    <tr>\n",
       "      <th>1090</th>\n",
       "      <td>5.00</td>\n",
       "      <td>5</td>\n",
       "      <td>EUR</td>\n",
       "      <td>1000</td>\n",
       "      <td>0</td>\n",
       "      <td>5.0</td>\n",
       "      <td>377</td>\n",
       "      <td>1</td>\n",
       "      <td>0</td>\n",
       "      <td>1</td>\n",
       "      <td>0</td>\n",
       "      <td>Blues,Summer,luggagesticker,Bicycle,cute,fresh...</td>\n",
       "      <td>NaN</td>\n",
       "      <td>H01</td>\n",
       "      <td>31</td>\n",
       "      <td>Livraison standard</td>\n",
       "      <td>2</td>\n",
       "      <td>0</td>\n",
       "      <td>35</td>\n",
       "      <td>50</td>\n",
       "      <td>NaN</td>\n",
       "      <td>NaN</td>\n",
       "      <td>CN</td>\n",
       "      <td>zzbllss</td>\n",
       "      <td>zzbllss</td>\n",
       "      <td>(2,904 notes)</td>\n",
       "      <td>2904</td>\n",
       "      <td>4.422521</td>\n",
       "      <td>592968ba63950d682ca4b195</td>\n",
       "      <td>0</td>\n",
       "      <td>NaN</td>\n",
       "      <td>summer</td>\n",
       "      <td>2020-08</td>\n",
       "      <td>212</td>\n",
       "    </tr>\n",
       "    <tr>\n",
       "      <th>1091</th>\n",
       "      <td>9.00</td>\n",
       "      <td>48</td>\n",
       "      <td>EUR</td>\n",
       "      <td>1000</td>\n",
       "      <td>1</td>\n",
       "      <td>4.0</td>\n",
       "      <td>135</td>\n",
       "      <td>0</td>\n",
       "      <td>0</td>\n",
       "      <td>0</td>\n",
       "      <td>0</td>\n",
       "      <td>Summer,Vest,Fashion,Tank,camisole,Halter,Beaut...</td>\n",
       "      <td>purple</td>\n",
       "      <td>M</td>\n",
       "      <td>50</td>\n",
       "      <td>Livraison standard</td>\n",
       "      <td>3</td>\n",
       "      <td>0</td>\n",
       "      <td>25</td>\n",
       "      <td>50</td>\n",
       "      <td>NaN</td>\n",
       "      <td>NaN</td>\n",
       "      <td>CN</td>\n",
       "      <td>OIUG 56465</td>\n",
       "      <td>oiug56465</td>\n",
       "      <td>78 % avis positifs (6,632 notes)</td>\n",
       "      <td>6632</td>\n",
       "      <td>3.748794</td>\n",
       "      <td>5b6ec2f2838d931d2fbf7a28</td>\n",
       "      <td>0</td>\n",
       "      <td>NaN</td>\n",
       "      <td>summer</td>\n",
       "      <td>2020-08</td>\n",
       "      <td>163</td>\n",
       "    </tr>\n",
       "    <tr>\n",
       "      <th>1092</th>\n",
       "      <td>11.00</td>\n",
       "      <td>10</td>\n",
       "      <td>EUR</td>\n",
       "      <td>10000</td>\n",
       "      <td>1</td>\n",
       "      <td>4.0</td>\n",
       "      <td>1479</td>\n",
       "      <td>0</td>\n",
       "      <td>0</td>\n",
       "      <td>0</td>\n",
       "      <td>0</td>\n",
       "      <td>Summer,Shorts,Cotton,Cotton T Shirt,letter pri...</td>\n",
       "      <td>black</td>\n",
       "      <td>M</td>\n",
       "      <td>50</td>\n",
       "      <td>Livraison standard</td>\n",
       "      <td>2</td>\n",
       "      <td>0</td>\n",
       "      <td>45</td>\n",
       "      <td>50</td>\n",
       "      <td>1.0</td>\n",
       "      <td>Quantité limitée !</td>\n",
       "      <td>CN</td>\n",
       "      <td>yubenqiang</td>\n",
       "      <td>yubenqiang</td>\n",
       "      <td>83 % avis positifs (5,816 notes)</td>\n",
       "      <td>5816</td>\n",
       "      <td>3.936382</td>\n",
       "      <td>58330d7def56284f7634e5e5</td>\n",
       "      <td>0</td>\n",
       "      <td>NaN</td>\n",
       "      <td>summer</td>\n",
       "      <td>2020-08</td>\n",
       "      <td>674</td>\n",
       "    </tr>\n",
       "    <tr>\n",
       "      <th>1093</th>\n",
       "      <td>7.00</td>\n",
       "      <td>6</td>\n",
       "      <td>EUR</td>\n",
       "      <td>1000</td>\n",
       "      <td>1</td>\n",
       "      <td>3.0</td>\n",
       "      <td>141</td>\n",
       "      <td>0</td>\n",
       "      <td>0</td>\n",
       "      <td>0</td>\n",
       "      <td>0</td>\n",
       "      <td>sleeve v-neck,Summer,Plus Size,Sleeve,Dresses,...</td>\n",
       "      <td>yellow</td>\n",
       "      <td>XS</td>\n",
       "      <td>7</td>\n",
       "      <td>Livraison standard</td>\n",
       "      <td>2</td>\n",
       "      <td>0</td>\n",
       "      <td>23</td>\n",
       "      <td>50</td>\n",
       "      <td>1.0</td>\n",
       "      <td>Quantité limitée !</td>\n",
       "      <td>CN</td>\n",
       "      <td>Suyi Technology</td>\n",
       "      <td>greatexpectationstechnology</td>\n",
       "      <td>86 % avis positifs (12,309 notes)</td>\n",
       "      <td>12309</td>\n",
       "      <td>4.045170</td>\n",
       "      <td>5acaf29d5ebcfd72403106a8</td>\n",
       "      <td>1</td>\n",
       "      <td>https://s3-us-west-1.amazonaws.com/sweeper-pro...</td>\n",
       "      <td>summer</td>\n",
       "      <td>2020-08</td>\n",
       "      <td>1536</td>\n",
       "    </tr>\n",
       "  </tbody>\n",
       "</table>\n",
       "<p>1094 rows × 34 columns</p>\n",
       "</div>\n",
       "      <button class=\"colab-df-convert\" onclick=\"convertToInteractive('df-01158346-81e5-4ced-8f7c-d4c448ad1f0a')\"\n",
       "              title=\"Convert this dataframe to an interactive table.\"\n",
       "              style=\"display:none;\">\n",
       "        \n",
       "  <svg xmlns=\"http://www.w3.org/2000/svg\" height=\"24px\"viewBox=\"0 0 24 24\"\n",
       "       width=\"24px\">\n",
       "    <path d=\"M0 0h24v24H0V0z\" fill=\"none\"/>\n",
       "    <path d=\"M18.56 5.44l.94 2.06.94-2.06 2.06-.94-2.06-.94-.94-2.06-.94 2.06-2.06.94zm-11 1L8.5 8.5l.94-2.06 2.06-.94-2.06-.94L8.5 2.5l-.94 2.06-2.06.94zm10 10l.94 2.06.94-2.06 2.06-.94-2.06-.94-.94-2.06-.94 2.06-2.06.94z\"/><path d=\"M17.41 7.96l-1.37-1.37c-.4-.4-.92-.59-1.43-.59-.52 0-1.04.2-1.43.59L10.3 9.45l-7.72 7.72c-.78.78-.78 2.05 0 2.83L4 21.41c.39.39.9.59 1.41.59.51 0 1.02-.2 1.41-.59l7.78-7.78 2.81-2.81c.8-.78.8-2.07 0-2.86zM5.41 20L4 18.59l7.72-7.72 1.47 1.35L5.41 20z\"/>\n",
       "  </svg>\n",
       "      </button>\n",
       "      \n",
       "  <style>\n",
       "    .colab-df-container {\n",
       "      display:flex;\n",
       "      flex-wrap:wrap;\n",
       "      gap: 12px;\n",
       "    }\n",
       "\n",
       "    .colab-df-convert {\n",
       "      background-color: #E8F0FE;\n",
       "      border: none;\n",
       "      border-radius: 50%;\n",
       "      cursor: pointer;\n",
       "      display: none;\n",
       "      fill: #1967D2;\n",
       "      height: 32px;\n",
       "      padding: 0 0 0 0;\n",
       "      width: 32px;\n",
       "    }\n",
       "\n",
       "    .colab-df-convert:hover {\n",
       "      background-color: #E2EBFA;\n",
       "      box-shadow: 0px 1px 2px rgba(60, 64, 67, 0.3), 0px 1px 3px 1px rgba(60, 64, 67, 0.15);\n",
       "      fill: #174EA6;\n",
       "    }\n",
       "\n",
       "    [theme=dark] .colab-df-convert {\n",
       "      background-color: #3B4455;\n",
       "      fill: #D2E3FC;\n",
       "    }\n",
       "\n",
       "    [theme=dark] .colab-df-convert:hover {\n",
       "      background-color: #434B5C;\n",
       "      box-shadow: 0px 1px 3px 1px rgba(0, 0, 0, 0.15);\n",
       "      filter: drop-shadow(0px 1px 2px rgba(0, 0, 0, 0.3));\n",
       "      fill: #FFFFFF;\n",
       "    }\n",
       "  </style>\n",
       "\n",
       "      <script>\n",
       "        const buttonEl =\n",
       "          document.querySelector('#df-01158346-81e5-4ced-8f7c-d4c448ad1f0a button.colab-df-convert');\n",
       "        buttonEl.style.display =\n",
       "          google.colab.kernel.accessAllowed ? 'block' : 'none';\n",
       "\n",
       "        async function convertToInteractive(key) {\n",
       "          const element = document.querySelector('#df-01158346-81e5-4ced-8f7c-d4c448ad1f0a');\n",
       "          const dataTable =\n",
       "            await google.colab.kernel.invokeFunction('convertToInteractive',\n",
       "                                                     [key], {});\n",
       "          if (!dataTable) return;\n",
       "\n",
       "          const docLinkHtml = 'Like what you see? Visit the ' +\n",
       "            '<a target=\"_blank\" href=https://colab.research.google.com/notebooks/data_table.ipynb>data table notebook</a>'\n",
       "            + ' to learn more about interactive tables.';\n",
       "          element.innerHTML = '';\n",
       "          dataTable['output_type'] = 'display_data';\n",
       "          await google.colab.output.renderOutput(dataTable, element);\n",
       "          const docLink = document.createElement('div');\n",
       "          docLink.innerHTML = docLinkHtml;\n",
       "          element.appendChild(docLink);\n",
       "        }\n",
       "      </script>\n",
       "    </div>\n",
       "  </div>\n",
       "  "
      ],
      "text/plain": [
       "      price  retail_price currency_buyer  ...   theme  crawl_month    id\n",
       "0      8.00             7            EUR  ...  summer      2020-08   272\n",
       "1      8.00             7            EUR  ...  summer      2020-08  1515\n",
       "2      6.00            34            EUR  ...  summer      2020-08   940\n",
       "3      4.67             4            EUR  ...  summer      2020-08   309\n",
       "4      8.00            11            EUR  ...  summer      2020-08   226\n",
       "...     ...           ...            ...  ...     ...          ...   ...\n",
       "1089   4.00             4            EUR  ...  summer      2020-08  1381\n",
       "1090   5.00             5            EUR  ...  summer      2020-08   212\n",
       "1091   9.00            48            EUR  ...  summer      2020-08   163\n",
       "1092  11.00            10            EUR  ...  summer      2020-08   674\n",
       "1093   7.00             6            EUR  ...  summer      2020-08  1536\n",
       "\n",
       "[1094 rows x 34 columns]"
      ]
     },
     "execution_count": 1,
     "metadata": {},
     "output_type": "execute_result"
    }
   ],
   "source": [
    "import pandas as pd\n",
    "import numpy as np\n",
    "df = pd.read_csv('train_new.csv') #Reading the traing dataset\n",
    "print(df.shape)\n",
    "df"
   ]
  },
  {
   "cell_type": "code",
   "execution_count": 2,
   "metadata": {
    "id": "Wj8MOdpRJjJZ"
   },
   "outputs": [],
   "source": [
    "#Converting the rating to range from 1 to 5\n",
    "df=df.loc[df['rating'].isin([1,2,3,4,5])]"
   ]
  },
  {
   "cell_type": "code",
   "execution_count": 3,
   "metadata": {
    "id": "E_PcQznxJjJa"
   },
   "outputs": [],
   "source": [
    "_id= df['id']"
   ]
  },
  {
   "cell_type": "markdown",
   "metadata": {
    "id": "b1PdFnJVJjJa"
   },
   "source": [
    "### Visualizing our data"
   ]
  },
  {
   "cell_type": "code",
   "execution_count": 4,
   "metadata": {
    "colab": {
     "base_uri": "https://localhost:8080/"
    },
    "id": "T8ixOG6ZJjJb",
    "outputId": "38160df7-cc46-4845-ab17-56707c0955bc"
   },
   "outputs": [
    {
     "data": {
      "text/plain": [
       "Index(['price', 'retail_price', 'units_sold', 'uses_ad_boosts', 'rating',\n",
       "       'rating_count', 'badges_count', 'badge_local_product',\n",
       "       'badge_product_quality', 'badge_fast_shipping',\n",
       "       'product_variation_inventory', 'shipping_option_price',\n",
       "       'shipping_is_express', 'countries_shipped_to', 'inventory_total',\n",
       "       'has_urgency_banner', 'merchant_rating_count', 'merchant_rating',\n",
       "       'merchant_has_profile_picture', 'id'],\n",
       "      dtype='object')"
      ]
     },
     "execution_count": 4,
     "metadata": {},
     "output_type": "execute_result"
    }
   ],
   "source": [
    "import numpy as np\n",
    "#visualizing the numeric columns \n",
    "df_numeric = df.select_dtypes(include=np.number)\n",
    "df_numeric.columns"
   ]
  },
  {
   "cell_type": "code",
   "execution_count": 5,
   "metadata": {
    "colab": {
     "base_uri": "https://localhost:8080/"
    },
    "id": "jhd-HQyRJjJb",
    "outputId": "1ef4bf33-0ece-4848-b5bd-ab78ba958cd2"
   },
   "outputs": [
    {
     "data": {
      "text/plain": [
       "Index(['currency_buyer', 'tags', 'product_color', 'product_variation_size_id',\n",
       "       'shipping_option_name', 'urgency_text', 'origin_country',\n",
       "       'merchant_title', 'merchant_name', 'merchant_info_subtitle',\n",
       "       'merchant_id', 'merchant_profile_picture', 'theme', 'crawl_month'],\n",
       "      dtype='object')"
      ]
     },
     "execution_count": 5,
     "metadata": {},
     "output_type": "execute_result"
    }
   ],
   "source": [
    "#visualizing the categorical columns\n",
    "df_cat = df.select_dtypes(include =['object'])\n",
    "df_cat.columns"
   ]
  },
  {
   "cell_type": "code",
   "execution_count": 6,
   "metadata": {
    "colab": {
     "base_uri": "https://localhost:8080/",
     "height": 542
    },
    "id": "m7Sq1bxgJjJc",
    "outputId": "b10d9296-19e0-4858-9764-9bf1914ef60b"
   },
   "outputs": [
    {
     "data": {
      "text/html": [
       "<html>\n",
       "<head><meta charset=\"utf-8\" /></head>\n",
       "<body>\n",
       "    <div>            <script src=\"https://cdnjs.cloudflare.com/ajax/libs/mathjax/2.7.5/MathJax.js?config=TeX-AMS-MML_SVG\"></script><script type=\"text/javascript\">if (window.MathJax) {MathJax.Hub.Config({SVG: {font: \"STIX-Web\"}});}</script>                <script type=\"text/javascript\">window.PlotlyConfig = {MathJaxConfig: 'local'};</script>\n",
       "        <script src=\"https://cdn.plot.ly/plotly-2.8.3.min.js\"></script>                <div id=\"97dd1510-65cd-46bb-a715-80183fd5b952\" class=\"plotly-graph-div\" style=\"height:525px; width:100%;\"></div>            <script type=\"text/javascript\">                                    window.PLOTLYENV=window.PLOTLYENV || {};                                    if (document.getElementById(\"97dd1510-65cd-46bb-a715-80183fd5b952\")) {                    Plotly.newPlot(                        \"97dd1510-65cd-46bb-a715-80183fd5b952\",                        [{\"coloraxis\":\"coloraxis\",\"name\":\"0\",\"x\":[\"price\",\"retail_price\",\"units_sold\",\"uses_ad_boosts\",\"rating\",\"rating_count\",\"badges_count\",\"badge_local_product\",\"badge_product_quality\",\"badge_fast_shipping\",\"product_variation_inventory\",\"shipping_option_price\",\"shipping_is_express\",\"countries_shipped_to\",\"inventory_total\",\"has_urgency_banner\",\"merchant_rating_count\",\"merchant_rating\",\"merchant_has_profile_picture\",\"id\"],\"y\":[\"price\",\"retail_price\",\"units_sold\",\"uses_ad_boosts\",\"rating\",\"rating_count\",\"badges_count\",\"badge_local_product\",\"badge_product_quality\",\"badge_fast_shipping\",\"product_variation_inventory\",\"shipping_option_price\",\"shipping_is_express\",\"countries_shipped_to\",\"inventory_total\",\"has_urgency_banner\",\"merchant_rating_count\",\"merchant_rating\",\"merchant_has_profile_picture\",\"id\"],\"z\":[[1.0,0.33256502584783065,-0.00433244786530616,-0.04760498190654503,0.20552293354073714,0.017297499529642615,0.06624662217624679,0.09471489993454646,0.025938539555519634,0.02733169016631666,0.30105078744751707,0.8772792965193511,0.041495111475326175,-0.036055536020161594,0.001058648410805666,null,-0.024358094399627574,0.06073781136061188,0.03537425103377138,0.02300783781701953],[0.33256502584783065,1.0,0.02796519320457288,-0.005801105357752975,0.08492327455454517,0.0788558389326922,0.02151394341448702,0.029218086455858293,-0.0014867422954146269,0.03718129593572077,0.14376763677594923,0.294522831854499,-0.0177674587233081,0.05072962060427755,0.013175549978185298,null,0.016588401056542246,0.04043891323490119,0.033883987840071975,-0.027597918096980208],[-0.00433244786530616,0.02796519320457288,1.0,-0.018526597548619756,0.013202574883568425,0.8919187823589997,0.04395398951182879,-0.001612372154598911,0.04983107019419147,0.01655751646114131,0.13680413703754865,-0.017083109581487753,-0.01731289294364591,-0.017352313666440904,-0.02112806050338126,null,0.22857684672654946,0.12119413054836979,0.17040607010977854,0.016023159913547858],[-0.04760498190654503,-0.005801105357752975,-0.018526597548619756,1.0,-0.04489406672144563,-0.05103221740162434,0.023059479099389785,0.05262647016210816,-0.009228014488821405,0.03202117136968944,-0.09339712780369648,-0.051215353549746906,0.0058111695454056075,0.014910286713562228,0.0216654027956733,null,0.031213676026190455,0.03514958133367713,0.002200342424000835,0.010528225833975963],[0.20552293354073714,0.08492327455454517,0.013202574883568425,-0.04489406672144563,1.0,0.026880502339825432,0.22796257589799654,0.010341088543339289,0.27616756682724075,0.014243384678807277,0.053251780713231125,0.18211003463448971,-0.00033619324186230225,0.024616694561676557,-0.0697521131075916,null,0.052877543843370095,0.21458908871551557,0.02696272708281809,0.06373787254854188],[0.017297499529642615,0.0788558389326922,0.8919187823589997,-0.05103221740162434,0.026880502339825432,1.0,0.07917683192759417,0.002059376041479207,0.0678571572203031,0.08136624342440744,0.14530010940103122,0.0045785955285489325,-0.013310041712943683,0.0046661138902786255,-0.01630516320350451,null,0.21909638159481995,0.1408742446507388,0.18138142598961704,-0.006667962054229282],[0.06624662217624679,0.02151394341448702,0.04395398951182879,0.023059479099389785,0.22796257589799654,0.07917683192759417,1.0,0.5489846205036819,0.8261890393917888,0.42048264441419936,0.06762357266022304,0.09021498376021501,0.2941086662450108,0.019556587110521242,-0.10031095157835396,null,0.08042151331132671,0.224681234065215,0.04151657225970146,0.04173576019198501],[0.09471489993454646,0.029218086455858293,-0.001612372154598911,0.05262647016210816,0.010341088543339289,0.002059376041479207,0.5489846205036819,1.0,0.07844329475397499,0.30505434478539445,0.0026300777204663296,0.11261335836016344,0.3059076711940392,0.017766318321516907,0.007438183583527188,null,-0.0026278840096560004,0.11927002031990154,-0.023286474296203837,0.02568432524592879],[0.025938539555519634,-0.0014867422954146269,0.04983107019419147,-0.009228014488821405,0.27616756682724075,0.0678571572203031,0.8261890393917888,0.07844329475397499,1.0,2.9076489601753122e-05,0.10243275431262565,0.02457811051425716,0.0645857112966559,0.006387939187768426,-0.13195556033677858,null,0.10994091645908169,0.2032132858570707,0.044284332692419145,0.02777037423610861],[0.02733169016631666,0.03718129593572077,0.01655751646114131,0.03202117136968944,0.014243384678807277,0.08136624342440744,0.42048264441419936,0.30505434478539445,2.9076489601753122e-05,1.0,-0.049574248564843645,0.0872734344877909,0.4063730013092587,0.02486352208170284,0.005599282950933672,null,-0.019883705211696752,0.053224872029314266,0.05168919456000077,0.03169062981548425],[0.30105078744751707,0.14376763677594923,0.13680413703754865,-0.09339712780369648,0.053251780713231125,0.14530010940103122,0.06762357266022304,0.0026300777204663296,0.10243275431262565,-0.049574248564843645,1.0,0.2929092457898449,0.03428682832337997,0.1091425704741642,0.07439698139926088,null,0.07395632717828929,0.13908967344298345,0.023555135476593644,0.005501727423775345],[0.8772792965193511,0.294522831854499,-0.017083109581487753,-0.051215353549746906,0.18211003463448971,0.0045785955285489325,0.09021498376021501,0.11261335836016344,0.02457811051425716,0.0872734344877909,0.2929092457898449,1.0,0.17774439035764114,-0.0586026733232983,0.013261102036658381,null,-0.04058227345733396,0.06992829464239764,0.03502904422594702,0.0055672516970005324],[0.041495111475326175,-0.0177674587233081,-0.01731289294364591,0.0058111695454056075,-0.00033619324186230225,-0.013310041712943683,0.2941086662450108,0.3059076711940392,0.0645857112966559,0.4063730013092587,0.03428682832337997,0.17774439035764114,1.0,0.003213918087930247,0.0022753974179497084,null,-0.01006693829703628,0.0554762609990993,-0.018374952822622557,-0.007537068743913972],[-0.036055536020161594,0.05072962060427755,-0.017352313666440904,0.014910286713562228,0.024616694561676557,0.0046661138902786255,0.019556587110521242,0.017766318321516907,0.006387939187768426,0.02486352208170284,0.1091425704741642,-0.0586026733232983,0.003213918087930247,1.0,0.005659204140106248,null,0.13139634877145895,0.15467049494885607,0.02558990985098186,0.053934731539716174],[0.001058648410805666,0.013175549978185298,-0.02112806050338126,0.0216654027956733,-0.0697521131075916,-0.01630516320350451,-0.10031095157835396,0.007438183583527188,-0.13195556033677858,0.005599282950933672,0.07439698139926088,0.013261102036658381,0.0022753974179497084,0.005659204140106248,1.0,null,0.012947344224960583,-0.06868344827219182,0.022807529673223574,0.009862201820360737],[null,null,null,null,null,null,null,null,null,null,null,null,null,null,null,null,null,null,null,null],[-0.024358094399627574,0.016588401056542246,0.22857684672654946,0.031213676026190455,0.052877543843370095,0.21909638159481995,0.08042151331132671,-0.0026278840096560004,0.10994091645908169,-0.019883705211696752,0.07395632717828929,-0.04058227345733396,-0.01006693829703628,0.13139634877145895,0.012947344224960583,null,1.0,0.13055605984788432,0.11446694181771185,0.01612304171384294],[0.06073781136061188,0.04043891323490119,0.12119413054836979,0.03514958133367713,0.21458908871551557,0.1408742446507388,0.224681234065215,0.11927002031990154,0.2032132858570707,0.053224872029314266,0.13908967344298345,0.06992829464239764,0.0554762609990993,0.15467049494885607,-0.06868344827219182,null,0.13055605984788432,1.0,0.10369631836173275,0.04710343669938205],[0.03537425103377138,0.033883987840071975,0.17040607010977854,0.002200342424000835,0.02696272708281809,0.18138142598961704,0.04151657225970146,-0.023286474296203837,0.044284332692419145,0.05168919456000077,0.023555135476593644,0.03502904422594702,-0.018374952822622557,0.02558990985098186,0.022807529673223574,null,0.11446694181771185,0.10369631836173275,1.0,-0.01668339547745029],[0.02300783781701953,-0.027597918096980208,0.016023159913547858,0.010528225833975963,0.06373787254854188,-0.006667962054229282,0.04173576019198501,0.02568432524592879,0.02777037423610861,0.03169062981548425,0.005501727423775345,0.0055672516970005324,-0.007537068743913972,0.053934731539716174,0.009862201820360737,null,0.01612304171384294,0.04710343669938205,-0.01668339547745029,1.0]],\"type\":\"heatmap\",\"xaxis\":\"x\",\"yaxis\":\"y\",\"hovertemplate\":\"x: %{x}<br>y: %{y}<br>color: %{z}<extra></extra>\"}],                        {\"template\":{\"data\":{\"bar\":[{\"error_x\":{\"color\":\"#2a3f5f\"},\"error_y\":{\"color\":\"#2a3f5f\"},\"marker\":{\"line\":{\"color\":\"#E5ECF6\",\"width\":0.5},\"pattern\":{\"fillmode\":\"overlay\",\"size\":10,\"solidity\":0.2}},\"type\":\"bar\"}],\"barpolar\":[{\"marker\":{\"line\":{\"color\":\"#E5ECF6\",\"width\":0.5},\"pattern\":{\"fillmode\":\"overlay\",\"size\":10,\"solidity\":0.2}},\"type\":\"barpolar\"}],\"carpet\":[{\"aaxis\":{\"endlinecolor\":\"#2a3f5f\",\"gridcolor\":\"white\",\"linecolor\":\"white\",\"minorgridcolor\":\"white\",\"startlinecolor\":\"#2a3f5f\"},\"baxis\":{\"endlinecolor\":\"#2a3f5f\",\"gridcolor\":\"white\",\"linecolor\":\"white\",\"minorgridcolor\":\"white\",\"startlinecolor\":\"#2a3f5f\"},\"type\":\"carpet\"}],\"choropleth\":[{\"colorbar\":{\"outlinewidth\":0,\"ticks\":\"\"},\"type\":\"choropleth\"}],\"contour\":[{\"colorbar\":{\"outlinewidth\":0,\"ticks\":\"\"},\"colorscale\":[[0.0,\"#0d0887\"],[0.1111111111111111,\"#46039f\"],[0.2222222222222222,\"#7201a8\"],[0.3333333333333333,\"#9c179e\"],[0.4444444444444444,\"#bd3786\"],[0.5555555555555556,\"#d8576b\"],[0.6666666666666666,\"#ed7953\"],[0.7777777777777778,\"#fb9f3a\"],[0.8888888888888888,\"#fdca26\"],[1.0,\"#f0f921\"]],\"type\":\"contour\"}],\"contourcarpet\":[{\"colorbar\":{\"outlinewidth\":0,\"ticks\":\"\"},\"type\":\"contourcarpet\"}],\"heatmap\":[{\"colorbar\":{\"outlinewidth\":0,\"ticks\":\"\"},\"colorscale\":[[0.0,\"#0d0887\"],[0.1111111111111111,\"#46039f\"],[0.2222222222222222,\"#7201a8\"],[0.3333333333333333,\"#9c179e\"],[0.4444444444444444,\"#bd3786\"],[0.5555555555555556,\"#d8576b\"],[0.6666666666666666,\"#ed7953\"],[0.7777777777777778,\"#fb9f3a\"],[0.8888888888888888,\"#fdca26\"],[1.0,\"#f0f921\"]],\"type\":\"heatmap\"}],\"heatmapgl\":[{\"colorbar\":{\"outlinewidth\":0,\"ticks\":\"\"},\"colorscale\":[[0.0,\"#0d0887\"],[0.1111111111111111,\"#46039f\"],[0.2222222222222222,\"#7201a8\"],[0.3333333333333333,\"#9c179e\"],[0.4444444444444444,\"#bd3786\"],[0.5555555555555556,\"#d8576b\"],[0.6666666666666666,\"#ed7953\"],[0.7777777777777778,\"#fb9f3a\"],[0.8888888888888888,\"#fdca26\"],[1.0,\"#f0f921\"]],\"type\":\"heatmapgl\"}],\"histogram\":[{\"marker\":{\"pattern\":{\"fillmode\":\"overlay\",\"size\":10,\"solidity\":0.2}},\"type\":\"histogram\"}],\"histogram2d\":[{\"colorbar\":{\"outlinewidth\":0,\"ticks\":\"\"},\"colorscale\":[[0.0,\"#0d0887\"],[0.1111111111111111,\"#46039f\"],[0.2222222222222222,\"#7201a8\"],[0.3333333333333333,\"#9c179e\"],[0.4444444444444444,\"#bd3786\"],[0.5555555555555556,\"#d8576b\"],[0.6666666666666666,\"#ed7953\"],[0.7777777777777778,\"#fb9f3a\"],[0.8888888888888888,\"#fdca26\"],[1.0,\"#f0f921\"]],\"type\":\"histogram2d\"}],\"histogram2dcontour\":[{\"colorbar\":{\"outlinewidth\":0,\"ticks\":\"\"},\"colorscale\":[[0.0,\"#0d0887\"],[0.1111111111111111,\"#46039f\"],[0.2222222222222222,\"#7201a8\"],[0.3333333333333333,\"#9c179e\"],[0.4444444444444444,\"#bd3786\"],[0.5555555555555556,\"#d8576b\"],[0.6666666666666666,\"#ed7953\"],[0.7777777777777778,\"#fb9f3a\"],[0.8888888888888888,\"#fdca26\"],[1.0,\"#f0f921\"]],\"type\":\"histogram2dcontour\"}],\"mesh3d\":[{\"colorbar\":{\"outlinewidth\":0,\"ticks\":\"\"},\"type\":\"mesh3d\"}],\"parcoords\":[{\"line\":{\"colorbar\":{\"outlinewidth\":0,\"ticks\":\"\"}},\"type\":\"parcoords\"}],\"pie\":[{\"automargin\":true,\"type\":\"pie\"}],\"scatter\":[{\"marker\":{\"colorbar\":{\"outlinewidth\":0,\"ticks\":\"\"}},\"type\":\"scatter\"}],\"scatter3d\":[{\"line\":{\"colorbar\":{\"outlinewidth\":0,\"ticks\":\"\"}},\"marker\":{\"colorbar\":{\"outlinewidth\":0,\"ticks\":\"\"}},\"type\":\"scatter3d\"}],\"scattercarpet\":[{\"marker\":{\"colorbar\":{\"outlinewidth\":0,\"ticks\":\"\"}},\"type\":\"scattercarpet\"}],\"scattergeo\":[{\"marker\":{\"colorbar\":{\"outlinewidth\":0,\"ticks\":\"\"}},\"type\":\"scattergeo\"}],\"scattergl\":[{\"marker\":{\"colorbar\":{\"outlinewidth\":0,\"ticks\":\"\"}},\"type\":\"scattergl\"}],\"scattermapbox\":[{\"marker\":{\"colorbar\":{\"outlinewidth\":0,\"ticks\":\"\"}},\"type\":\"scattermapbox\"}],\"scatterpolar\":[{\"marker\":{\"colorbar\":{\"outlinewidth\":0,\"ticks\":\"\"}},\"type\":\"scatterpolar\"}],\"scatterpolargl\":[{\"marker\":{\"colorbar\":{\"outlinewidth\":0,\"ticks\":\"\"}},\"type\":\"scatterpolargl\"}],\"scatterternary\":[{\"marker\":{\"colorbar\":{\"outlinewidth\":0,\"ticks\":\"\"}},\"type\":\"scatterternary\"}],\"surface\":[{\"colorbar\":{\"outlinewidth\":0,\"ticks\":\"\"},\"colorscale\":[[0.0,\"#0d0887\"],[0.1111111111111111,\"#46039f\"],[0.2222222222222222,\"#7201a8\"],[0.3333333333333333,\"#9c179e\"],[0.4444444444444444,\"#bd3786\"],[0.5555555555555556,\"#d8576b\"],[0.6666666666666666,\"#ed7953\"],[0.7777777777777778,\"#fb9f3a\"],[0.8888888888888888,\"#fdca26\"],[1.0,\"#f0f921\"]],\"type\":\"surface\"}],\"table\":[{\"cells\":{\"fill\":{\"color\":\"#EBF0F8\"},\"line\":{\"color\":\"white\"}},\"header\":{\"fill\":{\"color\":\"#C8D4E3\"},\"line\":{\"color\":\"white\"}},\"type\":\"table\"}]},\"layout\":{\"annotationdefaults\":{\"arrowcolor\":\"#2a3f5f\",\"arrowhead\":0,\"arrowwidth\":1},\"autotypenumbers\":\"strict\",\"coloraxis\":{\"colorbar\":{\"outlinewidth\":0,\"ticks\":\"\"}},\"colorscale\":{\"diverging\":[[0,\"#8e0152\"],[0.1,\"#c51b7d\"],[0.2,\"#de77ae\"],[0.3,\"#f1b6da\"],[0.4,\"#fde0ef\"],[0.5,\"#f7f7f7\"],[0.6,\"#e6f5d0\"],[0.7,\"#b8e186\"],[0.8,\"#7fbc41\"],[0.9,\"#4d9221\"],[1,\"#276419\"]],\"sequential\":[[0.0,\"#0d0887\"],[0.1111111111111111,\"#46039f\"],[0.2222222222222222,\"#7201a8\"],[0.3333333333333333,\"#9c179e\"],[0.4444444444444444,\"#bd3786\"],[0.5555555555555556,\"#d8576b\"],[0.6666666666666666,\"#ed7953\"],[0.7777777777777778,\"#fb9f3a\"],[0.8888888888888888,\"#fdca26\"],[1.0,\"#f0f921\"]],\"sequentialminus\":[[0.0,\"#0d0887\"],[0.1111111111111111,\"#46039f\"],[0.2222222222222222,\"#7201a8\"],[0.3333333333333333,\"#9c179e\"],[0.4444444444444444,\"#bd3786\"],[0.5555555555555556,\"#d8576b\"],[0.6666666666666666,\"#ed7953\"],[0.7777777777777778,\"#fb9f3a\"],[0.8888888888888888,\"#fdca26\"],[1.0,\"#f0f921\"]]},\"colorway\":[\"#636efa\",\"#EF553B\",\"#00cc96\",\"#ab63fa\",\"#FFA15A\",\"#19d3f3\",\"#FF6692\",\"#B6E880\",\"#FF97FF\",\"#FECB52\"],\"font\":{\"color\":\"#2a3f5f\"},\"geo\":{\"bgcolor\":\"white\",\"lakecolor\":\"white\",\"landcolor\":\"#E5ECF6\",\"showlakes\":true,\"showland\":true,\"subunitcolor\":\"white\"},\"hoverlabel\":{\"align\":\"left\"},\"hovermode\":\"closest\",\"mapbox\":{\"style\":\"light\"},\"paper_bgcolor\":\"white\",\"plot_bgcolor\":\"#E5ECF6\",\"polar\":{\"angularaxis\":{\"gridcolor\":\"white\",\"linecolor\":\"white\",\"ticks\":\"\"},\"bgcolor\":\"#E5ECF6\",\"radialaxis\":{\"gridcolor\":\"white\",\"linecolor\":\"white\",\"ticks\":\"\"}},\"scene\":{\"xaxis\":{\"backgroundcolor\":\"#E5ECF6\",\"gridcolor\":\"white\",\"gridwidth\":2,\"linecolor\":\"white\",\"showbackground\":true,\"ticks\":\"\",\"zerolinecolor\":\"white\"},\"yaxis\":{\"backgroundcolor\":\"#E5ECF6\",\"gridcolor\":\"white\",\"gridwidth\":2,\"linecolor\":\"white\",\"showbackground\":true,\"ticks\":\"\",\"zerolinecolor\":\"white\"},\"zaxis\":{\"backgroundcolor\":\"#E5ECF6\",\"gridcolor\":\"white\",\"gridwidth\":2,\"linecolor\":\"white\",\"showbackground\":true,\"ticks\":\"\",\"zerolinecolor\":\"white\"}},\"shapedefaults\":{\"line\":{\"color\":\"#2a3f5f\"}},\"ternary\":{\"aaxis\":{\"gridcolor\":\"white\",\"linecolor\":\"white\",\"ticks\":\"\"},\"baxis\":{\"gridcolor\":\"white\",\"linecolor\":\"white\",\"ticks\":\"\"},\"bgcolor\":\"#E5ECF6\",\"caxis\":{\"gridcolor\":\"white\",\"linecolor\":\"white\",\"ticks\":\"\"}},\"title\":{\"x\":0.05},\"xaxis\":{\"automargin\":true,\"gridcolor\":\"white\",\"linecolor\":\"white\",\"ticks\":\"\",\"title\":{\"standoff\":15},\"zerolinecolor\":\"white\",\"zerolinewidth\":2},\"yaxis\":{\"automargin\":true,\"gridcolor\":\"white\",\"linecolor\":\"white\",\"ticks\":\"\",\"title\":{\"standoff\":15},\"zerolinecolor\":\"white\",\"zerolinewidth\":2}}},\"xaxis\":{\"anchor\":\"y\",\"domain\":[0.0,1.0],\"scaleanchor\":\"y\",\"constrain\":\"domain\"},\"yaxis\":{\"anchor\":\"x\",\"domain\":[0.0,1.0],\"autorange\":\"reversed\",\"constrain\":\"domain\"},\"coloraxis\":{\"colorscale\":[[0.0,\"#0d0887\"],[0.1111111111111111,\"#46039f\"],[0.2222222222222222,\"#7201a8\"],[0.3333333333333333,\"#9c179e\"],[0.4444444444444444,\"#bd3786\"],[0.5555555555555556,\"#d8576b\"],[0.6666666666666666,\"#ed7953\"],[0.7777777777777778,\"#fb9f3a\"],[0.8888888888888888,\"#fdca26\"],[1.0,\"#f0f921\"]]},\"margin\":{\"t\":60}},                        {\"responsive\": true}                    ).then(function(){\n",
       "                            \n",
       "var gd = document.getElementById('97dd1510-65cd-46bb-a715-80183fd5b952');\n",
       "var x = new MutationObserver(function (mutations, observer) {{\n",
       "        var display = window.getComputedStyle(gd).display;\n",
       "        if (!display || display === 'none') {{\n",
       "            console.log([gd, 'removed!']);\n",
       "            Plotly.purge(gd);\n",
       "            observer.disconnect();\n",
       "        }}\n",
       "}});\n",
       "\n",
       "// Listen for the removal of the full notebook cells\n",
       "var notebookContainer = gd.closest('#notebook-container');\n",
       "if (notebookContainer) {{\n",
       "    x.observe(notebookContainer, {childList: true});\n",
       "}}\n",
       "\n",
       "// Listen for the clearing of the current output cell\n",
       "var outputEl = gd.closest('.output');\n",
       "if (outputEl) {{\n",
       "    x.observe(outputEl, {childList: true});\n",
       "}}\n",
       "\n",
       "                        })                };                            </script>        </div>\n",
       "</body>\n",
       "</html>"
      ]
     },
     "metadata": {},
     "output_type": "display_data"
    }
   ],
   "source": [
    "import plotly.express as px\n",
    "fig = px.imshow(df_numeric.corr())\n",
    "fig.show()"
   ]
  },
  {
   "cell_type": "markdown",
   "metadata": {
    "id": "2tEac9oPJjJd"
   },
   "source": [
    "## Handling the missing values"
   ]
  },
  {
   "cell_type": "code",
   "execution_count": 7,
   "metadata": {
    "id": "0jeRG2sYJjJd"
   },
   "outputs": [],
   "source": [
    "# First, lets drop duplicates (if any)\n",
    "df= df.drop_duplicates()"
   ]
  },
  {
   "cell_type": "code",
   "execution_count": 8,
   "metadata": {
    "colab": {
     "base_uri": "https://localhost:8080/"
    },
    "id": "JZEl5YtTJjJe",
    "outputId": "4d4f681c-231b-43a4-c2c3-0346719451f1"
   },
   "outputs": [
    {
     "data": {
      "text/plain": [
       "price                             0\n",
       "retail_price                      0\n",
       "currency_buyer                    0\n",
       "units_sold                        0\n",
       "uses_ad_boosts                    0\n",
       "rating                            0\n",
       "rating_count                      0\n",
       "badges_count                      0\n",
       "badge_local_product               0\n",
       "badge_product_quality             0\n",
       "badge_fast_shipping               0\n",
       "tags                              0\n",
       "product_color                    29\n",
       "product_variation_size_id        12\n",
       "product_variation_inventory       0\n",
       "shipping_option_name              0\n",
       "shipping_option_price             0\n",
       "shipping_is_express               0\n",
       "countries_shipped_to              0\n",
       "inventory_total                   0\n",
       "has_urgency_banner              744\n",
       "urgency_text                    744\n",
       "origin_country                   12\n",
       "merchant_title                    0\n",
       "merchant_name                     4\n",
       "merchant_info_subtitle            0\n",
       "merchant_rating_count             0\n",
       "merchant_rating                   0\n",
       "merchant_id                       0\n",
       "merchant_has_profile_picture      0\n",
       "merchant_profile_picture        923\n",
       "theme                             0\n",
       "crawl_month                       0\n",
       "id                                0\n",
       "dtype: int64"
      ]
     },
     "execution_count": 8,
     "metadata": {},
     "output_type": "execute_result"
    }
   ],
   "source": [
    "#Checking the count of NaN values in al the columns\n",
    "df.duplicated().sum()\n",
    "df.isnull().sum()"
   ]
  },
  {
   "cell_type": "markdown",
   "metadata": {
    "id": "S92OggcgJjJf"
   },
   "source": [
    "#### From our observation \n",
    "we will find out that columns product_color, product_variation_size_id, has_urgency_banner, urgency_text, origin_country and merchant_profile_picture have many missing values that should be preprocessed\n"
   ]
  },
  {
   "cell_type": "code",
   "execution_count": 9,
   "metadata": {
    "colab": {
     "base_uri": "https://localhost:8080/"
    },
    "id": "8xPYBENOJjJf",
    "outputId": "552ff523-3393-431a-fdd2-faa8ff5931e2"
   },
   "outputs": [
    {
     "data": {
      "text/plain": [
       "0       CN\n",
       "1       CN\n",
       "2       CN\n",
       "3       CN\n",
       "4       CN\n",
       "        ..\n",
       "1089    CN\n",
       "1090    CN\n",
       "1091    CN\n",
       "1092    CN\n",
       "1093    CN\n",
       "Name: origin_country, Length: 1093, dtype: object"
      ]
     },
     "execution_count": 9,
     "metadata": {},
     "output_type": "execute_result"
    }
   ],
   "source": [
    "Country = df.loc[:, 'origin_country']\n",
    "Country"
   ]
  },
  {
   "cell_type": "code",
   "execution_count": 10,
   "metadata": {
    "id": "QHmgbvC6JjJf"
   },
   "outputs": [],
   "source": [
    "#Filling the Nan values with the most frequent value which is CN\n",
    "df.loc[:, 'origin_country']=Country.fillna('CN')\n"
   ]
  },
  {
   "cell_type": "code",
   "execution_count": 11,
   "metadata": {
    "colab": {
     "base_uri": "https://localhost:8080/",
     "height": 299
    },
    "id": "ms9zRe5CJjJg",
    "outputId": "bcdfee05-30d2-44e3-c51e-6b1f898559aa"
   },
   "outputs": [
    {
     "data": {
      "text/plain": [
       "<matplotlib.axes._subplots.AxesSubplot at 0x7fb5fab103d0>"
      ]
     },
     "execution_count": 11,
     "metadata": {},
     "output_type": "execute_result"
    },
    {
     "data": {
      "image/png": "[encoded data removed]",
      "text/plain": [
       "<Figure size 432x288 with 1 Axes>"
      ]
     },
     "metadata": {
      "needs_background": "light"
     },
     "output_type": "display_data"
    }
   ],
   "source": [
    "#plotting the values of origin_country\n",
    "import matplotlib.pyplot as plt\n",
    "import seaborn as sns\n",
    "sns.countplot(x=Country.value_counts())"
   ]
  },
  {
   "cell_type": "code",
   "execution_count": 12,
   "metadata": {
    "colab": {
     "base_uri": "https://localhost:8080/"
    },
    "id": "MuNlpnG1JjJg",
    "outputId": "e859625b-3173-4243-bb1e-afc99e8887af"
   },
   "outputs": [
    {
     "data": {
      "text/plain": [
       "0       NaN\n",
       "1       NaN\n",
       "2       NaN\n",
       "3       NaN\n",
       "4       1.0\n",
       "       ... \n",
       "1089    NaN\n",
       "1090    NaN\n",
       "1091    NaN\n",
       "1092    1.0\n",
       "1093    1.0\n",
       "Name: has_urgency_banner, Length: 1093, dtype: float64"
      ]
     },
     "execution_count": 12,
     "metadata": {},
     "output_type": "execute_result"
    }
   ],
   "source": [
    "Urgency = df.loc[:,'has_urgency_banner']\n",
    "Urgency"
   ]
  },
  {
   "cell_type": "code",
   "execution_count": 13,
   "metadata": {
    "id": "0PEnyh0HJjJh"
   },
   "outputs": [],
   "source": [
    "#Filling the Nan values with zero which express that there was no urgency or troubles with this transaction\n",
    "df.loc[:, 'has_urgency_banner']=Urgency.fillna(0)"
   ]
  },
  {
   "cell_type": "code",
   "execution_count": 14,
   "metadata": {
    "colab": {
     "base_uri": "https://localhost:8080/"
    },
    "id": "xdX1WMfpJjJh",
    "outputId": "a0f57ef2-c410-4808-c755-e4828746da11"
   },
   "outputs": [
    {
     "data": {
      "text/plain": [
       "Quantité limitée !                  348\n",
       "Réduction sur les achats en gros      1\n",
       "Name: urgency_text, dtype: int64"
      ]
     },
     "execution_count": 14,
     "metadata": {},
     "output_type": "execute_result"
    }
   ],
   "source": [
    "#Checking urgent text \n",
    "df['urgency_text'].value_counts()"
   ]
  },
  {
   "cell_type": "code",
   "execution_count": 15,
   "metadata": {
    "id": "bI976l7nJjJh"
   },
   "outputs": [],
   "source": [
    "# handling urgency_text column\n",
    "df['urgency_text'] = df['urgency_text'].replace({\n",
    "    'Quantité limitée !' : 'Limited Quantity', \n",
    "    'Réduction sur les achats en gros': 'Wholesale discount', \n",
    "    np.nan: 'None'\n",
    "})"
   ]
  },
  {
   "cell_type": "markdown",
   "metadata": {
    "id": "0vSDm87LJjJi"
   },
   "source": [
    "### Product Size column\n"
   ]
  },
  {
   "cell_type": "code",
   "execution_count": 16,
   "metadata": {
    "colab": {
     "base_uri": "https://localhost:8080/"
    },
    "id": "-ydwWymMJjJi",
    "outputId": "47c134a7-4092-4449-fd9b-c6907ca426f0"
   },
   "outputs": [
    {
     "data": {
      "text/plain": [
       "S                               444\n",
       "XS                              248\n",
       "M                               135\n",
       "XXS                              76\n",
       "L                                29\n",
       "S.                               13\n",
       "XL                               12\n",
       "XXL                              11\n",
       "XXXS                              5\n",
       "M.                                4\n",
       "Size-XS                           4\n",
       "Size S                            4\n",
       "4XL                               4\n",
       "XS.                               4\n",
       "Size-S                            3\n",
       "2XL                               3\n",
       "10 ml                             3\n",
       "s                                 3\n",
       "Size M                            2\n",
       "35                                2\n",
       "Size4XL                           2\n",
       "Size -XXS                         2\n",
       "SizeL                             2\n",
       "25                                2\n",
       "SIZE XS                           2\n",
       "29                                2\n",
       "S Pink                            2\n",
       "33                                2\n",
       "2pcs                              2\n",
       "5                                 1\n",
       "One Size                          1\n",
       "20PCS-10PAIRS                     1\n",
       "XXXXXL                            1\n",
       "2                                 1\n",
       "4-5 Years                         1\n",
       "Size-5XL                          1\n",
       "30 cm                             1\n",
       "1 PC - XL                         1\n",
       "size S                            1\n",
       "Size/S                            1\n",
       "B                                 1\n",
       "20pcs                             1\n",
       "S..                               1\n",
       "Suit-S                            1\n",
       "Base & Top & Matte Top Coat       1\n",
       "Baby Float Boat                   1\n",
       "1m by 3m                          1\n",
       "SIZE S                            1\n",
       "White                             1\n",
       "40 cm                             1\n",
       "5XL                               1\n",
       "10pcs                             1\n",
       "Round                             1\n",
       "1 pc.                             1\n",
       "100 cm                            1\n",
       "60                                1\n",
       "26(Waist 72cm 28inch)             1\n",
       "S(bust 88cm)                      1\n",
       "choose a size                     1\n",
       "Base Coat                         1\n",
       "100 x 100cm(39.3 x 39.3inch)      1\n",
       "1                                 1\n",
       "25-S                              1\n",
       "Size-XXS                          1\n",
       "5PAIRS                            1\n",
       "Pack of 1                         1\n",
       "6XL                               1\n",
       "S/M(child)                        1\n",
       "S (waist58-62cm)                  1\n",
       "Size S.                           1\n",
       "SIZE XXS                          1\n",
       "X   L                             1\n",
       "Women Size 36                     1\n",
       "04-3XL                            1\n",
       "Floating Chair for Kid            1\n",
       "34                                1\n",
       "US-S                              1\n",
       "Size XXS                          1\n",
       "pants-S                           1\n",
       "XXXXL                             1\n",
       "SIZE-XXS                          1\n",
       "1pc                               1\n",
       "H01                               1\n",
       "Name: product_variation_size_id, dtype: int64"
      ]
     },
     "execution_count": 16,
     "metadata": {},
     "output_type": "execute_result"
    }
   ],
   "source": [
    "#Geting the number of existence of each value in product_variation_size_id column\n",
    "pd.options.display.max_rows = 100\n",
    "df['product_variation_size_id'].value_counts()"
   ]
  },
  {
   "cell_type": "markdown",
   "metadata": {
    "id": "mp6KKuV6JjJj"
   },
   "source": [
    "From our observation we will find out a great variation between our values and alot of values with the same meaning but written in different way in our datasetthat shpuld be handled "
   ]
  },
  {
   "cell_type": "code",
   "execution_count": 17,
   "metadata": {
    "id": "HQfbq6NIJjJj"
   },
   "outputs": [],
   "source": [
    "#Gathering all the value with the same meaning and replacing its name with its actual name\n",
    "df['product_variation_size_id'].replace(['S', 'S.', 's', 'Size S', 'Size-S', 'Size S.', 'Suit-S', 'size S','S Pink', 'pants-S', 'US-S', 'SIZE S', 'S (waist58-62cm)', 'Size--S', '25-S', 'Size/S', 'S Diameter 30cm', 'S..', 'S(Pink & Black)'], 'S', inplace=True)\n",
    "df['product_variation_size_id'].replace(['XS', 'XS.', 'SIZE XS', 'Size-XS'], 'XS', inplace=True)\n",
    "df['product_variation_size_id'].replace(['XXS', 'XXXS', 'SIZE-XXS', 'Size -XXS', 'Size XXS', 'Size-XXS', 'SIZE XXS'], 'XXS+', inplace=True)\n",
    "df['product_variation_size_id'].replace(['M', 'M.', 'Size M'], 'M', inplace=True)\n",
    "df['product_variation_size_id'].replace(['L', 'SizeL', '32/L', 'L.', 'Size-L'], 'L', inplace=True)\n",
    "df['product_variation_size_id'].replace(['XL', '2XL', '1 PC - XL', 'X   L'], 'XL', inplace=True)\n",
    "df['product_variation_size_id'].replace(['XXL', '4XL', '2XL', 'Size4XL', '3XL', 'XXXXXL', '1 PC - XL', 'SIZE-4XL', '04-3XL', 'Size-5XL', 'XXXXL', '5XL', 'XXXL'], 'XXL+', inplace=True)\n",
    "size_val_counts = df['product_variation_size_id'].value_counts()\n",
    "# Select the values where the count is less than 5 and Nans and puting them under category other\n",
    "minority = size_val_counts[size_val_counts <= 5].index\n",
    "df.loc[df['product_variation_size_id'].isin(minority), 'product_variation_size_id'] = \"Other\"\n",
    "df['product_variation_size_id'] = df['product_variation_size_id'].replace(np.nan, \"Other\")"
   ]
  },
  {
   "cell_type": "code",
   "execution_count": 18,
   "metadata": {
    "colab": {
     "base_uri": "https://localhost:8080/",
     "height": 0
    },
    "id": "J0zA96D5JjJj",
    "outputId": "db48a43b-d0d2-4333-aa8a-ac6159ec48b8"
   },
   "outputs": [
    {
     "data": {
      "image/png": "[encoded data removed]",
      "text/plain": [
       "<Figure size 576x288 with 1 Axes>"
      ]
     },
     "metadata": {
      "needs_background": "light"
     },
     "output_type": "display_data"
    }
   ],
   "source": [
    "import matplotlib.pyplot as plt\n",
    "import seaborn as sns\n",
    "#ploting size column after handling it\n",
    "plt.figure(figsize=(8, 4))\n",
    "ax = sns.countplot(x = 'product_variation_size_id',\n",
    "                   order = df['product_variation_size_id'].value_counts().index,\n",
    "                   palette= \"Set2\",\n",
    "                   data=df)\n",
    "ax.set(xlabel='Size', ylabel='Count')\n",
    "\n",
    "plt.show()"
   ]
  },
  {
   "cell_type": "markdown",
   "metadata": {
    "id": "5fjDQI83JjJk"
   },
   "source": [
    "### Product Color column"
   ]
  },
  {
   "cell_type": "code",
   "execution_count": 19,
   "metadata": {
    "id": "tnLZ9AqNJjJk"
   },
   "outputs": [],
   "source": [
    "#Getting the unique values \n",
    "colors = df['product_color'].unique()"
   ]
  },
  {
   "cell_type": "code",
   "execution_count": 20,
   "metadata": {
    "colab": {
     "base_uri": "https://localhost:8080/"
    },
    "id": "SemFxbvmJjJk",
    "outputId": "6af97414-5c89-4217-fb74-21d42cd47cca"
   },
   "outputs": [
    {
     "data": {
      "text/plain": [
       "0       yellow\n",
       "1        black\n",
       "2        white\n",
       "3     lakeblue\n",
       "4      apricot\n",
       "5        black\n",
       "6        white\n",
       "7        brown\n",
       "8      winered\n",
       "9         blue\n",
       "10         red\n",
       "11       white\n",
       "12    navyblue\n",
       "13       black\n",
       "14      yellow\n",
       "15       green\n",
       "16      yellow\n",
       "17       khaki\n",
       "18       green\n",
       "19       white\n",
       "Name: product_color, dtype: object"
      ]
     },
     "execution_count": 20,
     "metadata": {},
     "output_type": "execute_result"
    }
   ],
   "source": [
    "# convert to lower case\n",
    "df['product_color'] = df['product_color'].str.lower()\n",
    "# remove trailing white spaces\n",
    "df['product_color'] = df['product_color'].str.strip()\n",
    "df['product_color'].head(20)"
   ]
  },
  {
   "cell_type": "code",
   "execution_count": 21,
   "metadata": {
    "colab": {
     "base_uri": "https://localhost:8080/"
    },
    "id": "OACjgigLJjJk",
    "outputId": "61f479d9-9460-42c7-ccc3-ad4a5a802581"
   },
   "outputs": [
    {
     "data": {
      "text/plain": [
       "black               222\n",
       "white               176\n",
       "blue                 78\n",
       "yellow               69\n",
       "pink                 69\n",
       "red                  62\n",
       "green                61\n",
       "grey                 48\n",
       "purple               37\n",
       "armygreen            22\n",
       "winered              19\n",
       "navyblue             18\n",
       "orange               16\n",
       "multicolor           14\n",
       "khaki                10\n",
       "white & green         8\n",
       "lightblue             8\n",
       "gray                  6\n",
       "skyblue               6\n",
       "coffee                6\n",
       "rosered               5\n",
       "beige                 5\n",
       "brown                 5\n",
       "rose                  4\n",
       "lightpink             4\n",
       "darkblue              4\n",
       "navy                  3\n",
       "black & white         3\n",
       "black & green         3\n",
       "army green            2\n",
       "fluorescentgreen      2\n",
       "floral                2\n",
       "dustypink             2\n",
       "applegreen            2\n",
       "lightgreen            2\n",
       "coolblack             2\n",
       "orange-red            2\n",
       "burgundy              2\n",
       "white & black         2\n",
       "lightred              2\n",
       "black & blue          2\n",
       "leopard               2\n",
       "lakeblue              2\n",
       "whitefloral           2\n",
       "pink & white          2\n",
       "pink & black          2\n",
       "navy blue             2\n",
       "mintgreen             2\n",
       "camouflage            2\n",
       "black & yellow        2\n",
       "nude                  1\n",
       "pink & grey           1\n",
       "army                  1\n",
       "wine                  1\n",
       "lightgray             1\n",
       "offwhite              1\n",
       "denimblue             1\n",
       "winered & yellow      1\n",
       "apricot               1\n",
       "ivory                 1\n",
       "blackwhite            1\n",
       "rosegold              1\n",
       "watermelonred         1\n",
       "camel                 1\n",
       "navyblue & white      1\n",
       "blue & pink           1\n",
       "light green           1\n",
       "violet                1\n",
       "claret                1\n",
       "rainbow               1\n",
       "pink & blue           1\n",
       "wine red              1\n",
       "silver                1\n",
       "darkgreen             1\n",
       "leopardprint          1\n",
       "star                  1\n",
       "lightgrey             1\n",
       "lightyellow           1\n",
       "whitestripe           1\n",
       "gold                  1\n",
       "brown & yellow        1\n",
       "Name: product_color, dtype: int64"
      ]
     },
     "execution_count": 21,
     "metadata": {},
     "output_type": "execute_result"
    }
   ],
   "source": [
    "#Geting the number of existence of each value in product_color column\n",
    "df['product_color'].value_counts()"
   ]
  },
  {
   "cell_type": "code",
   "execution_count": 22,
   "metadata": {
    "id": "aBGFYU5UJjJl"
   },
   "outputs": [],
   "source": [
    "#Defing a dictionary with all the colors in our dataset and its corresponing color that it belongs to\n",
    "color_Switch = {\n",
    "'Black' : 'black',\n",
    "'coolblack': 'black',\n",
    "'White': 'white',\n",
    "'offwhite': 'white', \n",
    "'bluue': 'blue',\n",
    "'prussianblue': 'blue',\n",
    "'navyblue': 'blue', \n",
    "'navy blue': 'blue',\n",
    "'lightblue': 'blue',\n",
    "'skyblue': 'blue',\n",
    "'darkblue': 'blue',\n",
    "'navy' : 'blue',\n",
    "'bluee': 'blue',\n",
    "'bluue': 'blue',\n",
    "'denimblue': 'blue', \n",
    "'lakeblue': 'blue', \n",
    "'Blue': 'blue',\n",
    "'gold': 'yellow',\n",
    "'lightyellow': 'yellow',\n",
    "'winered': 'red',\n",
    "'rosered': 'red',\n",
    "'watermelonred': 'red',\n",
    "'RED': 'red',\n",
    "'winered': 'red',\n",
    "'wine red': 'red',\n",
    "'rose': 'red',\n",
    "'orange-red': 'red',\n",
    "'Rose red': 'red',\n",
    "'wine': 'red',\n",
    "'coralred': 'red',\n",
    "'burgundy': 'red', \n",
    "'lightred': 'red', \n",
    "'lightpink': 'pink',\n",
    "'Pink': 'pink',\n",
    "'dustypink': 'pink',\n",
    "'armygreen':'green',\n",
    "'khaki': 'green',\n",
    "'lightgreen': 'green',\n",
    "'fluorescentgreen': 'green',\n",
    "'army green': 'green',\n",
    "'applegreen': 'green',\n",
    "'Army green': 'green',\n",
    "'mintgreen': 'green',\n",
    "'army': 'green', \n",
    "'lightkhaki': 'green', \n",
    "'darkgreen': 'green', \n",
    "'light green': 'green', \n",
    "'lightkhaki': 'green', \n",
    "'lightgray': 'grey', \n",
    "'apricot': 'orange',\n",
    "'violet': 'purple',\n",
    "'lightpurple': 'purple', \n",
    "'gray': 'grey',\n",
    "'silver': 'grey',\n",
    "'coffee': 'brown', \n",
    "'blackwhite': 'dual', \n",
    " np.nan: 'other'}"
   ]
  },
  {
   "cell_type": "code",
   "execution_count": 23,
   "metadata": {
    "id": "1Bc336AJJjJl"
   },
   "outputs": [],
   "source": [
    "#matching each color to its corresponding color category and the rest to others\n",
    "def switch(color): \n",
    "    if color in color_Switch: \n",
    "        return color_Switch[color]\n",
    "    elif color in color_Switch.values(): \n",
    "        return color\n",
    "    elif '&' in color: \n",
    "        return 'dual'\n",
    "    else:\n",
    "        return 'other'\n",
    "df['product_color'] = df.product_color.apply(switch)"
   ]
  },
  {
   "cell_type": "code",
   "execution_count": 24,
   "metadata": {
    "colab": {
     "base_uri": "https://localhost:8080/",
     "height": 0
    },
    "id": "eqJGAO2PJjJl",
    "outputId": "986fd60c-aca5-46a8-9ca2-1bf5953cd44b"
   },
   "outputs": [
    {
     "data": {
      "image/png": "[encoded data removed]",
      "text/plain": [
       "<Figure size 504x432 with 1 Axes>"
      ]
     },
     "metadata": {
      "needs_background": "light"
     },
     "output_type": "display_data"
    }
   ],
   "source": [
    "#Plotting the data after handling it\n",
    "plt.figure(figsize=(7, 6))\n",
    "ax = sns.countplot(x = 'product_color',\n",
    "                   order = df['product_color'].value_counts().index,\n",
    "                   palette= \"Set2\",\n",
    "                   data=df)\n",
    "ax.set(xlabel='Color', ylabel='Count')\n",
    "plt.xticks(rotation=90, ha='right')\n",
    "plt.show()"
   ]
  },
  {
   "cell_type": "markdown",
   "metadata": {
    "id": "p9cHrfiNJjJm"
   },
   "source": [
    "## Removing unuseful data columns"
   ]
  },
  {
   "cell_type": "code",
   "execution_count": 26,
   "metadata": {
    "colab": {
     "base_uri": "https://localhost:8080/"
    },
    "id": "qFpvJ5aTJjJm",
    "outputId": "34896f9d-3a23-40d0-e5fa-d24274aa99c6"
   },
   "outputs": [
    {
     "name": "stdout",
     "output_type": "stream",
     "text": [
      "<class 'pandas.core.frame.DataFrame'>\n",
      "Int64Index: 1093 entries, 0 to 1093\n",
      "Data columns (total 34 columns):\n",
      " #   Column                        Non-Null Count  Dtype  \n",
      "---  ------                        --------------  -----  \n",
      " 0   price                         1093 non-null   float64\n",
      " 1   retail_price                  1093 non-null   int64  \n",
      " 2   currency_buyer                1093 non-null   object \n",
      " 3   units_sold                    1093 non-null   int64  \n",
      " 4   uses_ad_boosts                1093 non-null   int64  \n",
      " 5   rating                        1093 non-null   float64\n",
      " 6   rating_count                  1093 non-null   int64  \n",
      " 7   badges_count                  1093 non-null   int64  \n",
      " 8   badge_local_product           1093 non-null   int64  \n",
      " 9   badge_product_quality         1093 non-null   int64  \n",
      " 10  badge_fast_shipping           1093 non-null   int64  \n",
      " 11  tags                          1093 non-null   object \n",
      " 12  product_color                 1093 non-null   object \n",
      " 13  product_variation_size_id     1093 non-null   object \n",
      " 14  product_variation_inventory   1093 non-null   int64  \n",
      " 15  shipping_option_name          1093 non-null   object \n",
      " 16  shipping_option_price         1093 non-null   int64  \n",
      " 17  shipping_is_express           1093 non-null   int64  \n",
      " 18  countries_shipped_to          1093 non-null   int64  \n",
      " 19  inventory_total               1093 non-null   int64  \n",
      " 20  has_urgency_banner            1093 non-null   float64\n",
      " 21  urgency_text                  1093 non-null   object \n",
      " 22  origin_country                1093 non-null   object \n",
      " 23  merchant_title                1093 non-null   object \n",
      " 24  merchant_name                 1089 non-null   object \n",
      " 25  merchant_info_subtitle        1093 non-null   object \n",
      " 26  merchant_rating_count         1093 non-null   int64  \n",
      " 27  merchant_rating               1093 non-null   float64\n",
      " 28  merchant_id                   1093 non-null   object \n",
      " 29  merchant_has_profile_picture  1093 non-null   int64  \n",
      " 30  merchant_profile_picture      170 non-null    object \n",
      " 31  theme                         1093 non-null   object \n",
      " 32  crawl_month                   1093 non-null   object \n",
      " 33  id                            1093 non-null   int64  \n",
      "dtypes: float64(4), int64(16), object(14)\n",
      "memory usage: 331.2+ KB\n"
     ]
    }
   ],
   "source": [
    "df.info()"
   ]
  },
  {
   "cell_type": "code",
   "execution_count": 27,
   "metadata": {
    "colab": {
     "base_uri": "https://localhost:8080/"
    },
    "id": "7dHwI48TJjJm",
    "outputId": "5388f321-22db-475f-fc56-9a131e01a9c3"
   },
   "outputs": [
    {
     "data": {
      "text/plain": [
       "https://s3-us-west-1.amazonaws.com/sweeper-production-merchantimage/dp_5acaf29d5ebcfd72403106a8.jpg    8\n",
       "https://s3-us-west-1.amazonaws.com/sweeper-production-merchantimage/dp_55c8a4c33a698c6010edcd9e.jpg    6\n",
       "https://s3-us-west-1.amazonaws.com/sweeper-production-merchantimage/dp_5533c83986ff95173dc017d0.jpg    6\n",
       "https://s3-us-west-1.amazonaws.com/sweeper-production-merchantimage/dp_58ad449708de0c6dc59d9e06.jpg    5\n",
       "https://s3-us-west-1.amazonaws.com/sweeper-production-merchantimage/dp_577fb2b368116418674befd9.jpg    4\n",
       "https://s3-us-west-1.amazonaws.com/sweeper-production-merchantimage/dp_55c8029641d799421d41fe3a.jpg    4\n",
       "https://s3-us-west-1.amazonaws.com/sweeper-production-merchantimage/dp_57c306d73a698c06f98ed450.jpg    4\n",
       "https://s3-us-west-1.amazonaws.com/sweeper-production-merchantimage/dp_54db03867851097093c0efe7.jpg    4\n",
       "https://s3-us-west-1.amazonaws.com/sweeper-production-merchantimage/dp_5268759b736046671957190c.jpg    4\n",
       "https://s3-us-west-1.amazonaws.com/sweeper-production-merchantimage/dp_557ed5b886d66519ff242099.jpg    4\n",
       "https://s3-us-west-1.amazonaws.com/sweeper-production-merchantimage/dp_58131ddf6f55296033923a7c.jpg    4\n",
       "https://s3-us-west-1.amazonaws.com/sweeper-production-merchantimage/dp_56e43d9e3a698c3826a5feff.jpg    3\n",
       "https://s3-us-west-1.amazonaws.com/sweeper-production-merchantimage/dp_539937d634067e06707b1a8e.jpg    3\n",
       "https://s3-us-west-1.amazonaws.com/sweeper-production-merchantimage/dp_55ed5a3362e273427107759e.jpg    3\n",
       "https://s3-us-west-1.amazonaws.com/sweeper-production-merchantimage/dp_5384613a796f680f9d78a127.jpg    3\n",
       "https://s3-us-west-1.amazonaws.com/sweeper-production-merchantimage/dp_5abb2cf26be8733b5bf6844f.jpg    3\n",
       "https://s3-us-west-1.amazonaws.com/sweeper-production-merchantimage/dp_5b14d31d7e43f22f255ea98c.jpg    3\n",
       "https://s3-us-west-1.amazonaws.com/sweeper-production-merchantimage/dp_58b011e82e27bf506cee1ace.jpg    2\n",
       "https://s3-us-west-1.amazonaws.com/sweeper-production-merchantimage/dp_546d44001280fa3ce1bf80fa.jpg    2\n",
       "https://s3-us-west-1.amazonaws.com/sweeper-production-merchantimage/dp_53db691bd911395c8b2f92be.jpg    2\n",
       "https://s3-us-west-1.amazonaws.com/sweeper-production-merchantimage/dp_59aebfa350df6107c1eff8c8.jpg    2\n",
       "https://s3-us-west-1.amazonaws.com/sweeper-production-merchantimage/dp_5357bcf2bb72c5504882e889.jpg    2\n",
       "https://s3-us-west-1.amazonaws.com/sweeper-production-merchantimage/dp_53facca81c105e3d5866e212.jpg    2\n",
       "https://s3-us-west-1.amazonaws.com/sweeper-production-merchantimage/dp_59c7610621064f2f6c8c9fe7.jpg    2\n",
       "https://s3-us-west-1.amazonaws.com/sweeper-production-merchantimage/dp_5495976a40b3782bc8b3654a.jpg    2\n",
       "https://s3-us-west-1.amazonaws.com/sweeper-production-merchantimage/dp_55ed4e573a698c3a9daa8b2b.jpg    2\n",
       "https://s3-us-west-1.amazonaws.com/sweeper-production-merchantimage/dp_5df71a34092d7302140be245.jpg    2\n",
       "https://s3-us-west-1.amazonaws.com/sweeper-production-merchantimage/dp_556425de56aea60ea1d17778.jpg    2\n",
       "https://s3-us-west-1.amazonaws.com/sweeper-production-merchantimage/dp_561dc58d1f1ffb54d008b82f.jpg    2\n",
       "https://s3-us-west-1.amazonaws.com/sweeper-production-merchantimage/dp_584bcf7bfef409603f39b619.jpg    2\n",
       "https://s3-us-west-1.amazonaws.com/sweeper-production-merchantimage/dp_5417aada4ad3ab27e954b76c.jpg    2\n",
       "https://s3-us-west-1.amazonaws.com/sweeper-production-merchantimage/dp_55e7e41e606d0a18fdfc67d1.jpg    2\n",
       "https://s3-us-west-1.amazonaws.com/sweeper-production-merchantimage/dp_58dceeb2a6d6757401114dfd.jpg    2\n",
       "https://s3-us-west-1.amazonaws.com/sweeper-production-merchantimage/dp_56c3c5d830d9795c3bad3124.jpg    1\n",
       "https://s3-us-west-1.amazonaws.com/sweeper-production-merchantimage/dp_582bd2fde18c0f0a402ba101.jpg    1\n",
       "https://s3-us-west-1.amazonaws.com/sweeper-production-merchantimage/dp_5542fcb264b4f014ce88ecae.jpg    1\n",
       "https://s3-us-west-1.amazonaws.com/sweeper-production-merchantimage/dp_559f4066577ce11970f7f7fa.jpg    1\n",
       "https://s3-us-west-1.amazonaws.com/sweeper-production-merchantimage/dp_5466f5ea1280fa5c9c7ba98e.jpg    1\n",
       "https://s3-us-west-1.amazonaws.com/sweeper-production-merchantimage/dp_550ab2be8e8def0b2c654d4b.jpg    1\n",
       "https://s3-us-west-1.amazonaws.com/sweeper-production-merchantimage/dp_58c910072be00b51c601ccee.jpg    1\n",
       "https://s3-us-west-1.amazonaws.com/sweeper-production-merchantimage/dp_547465748edcfa6ceab14f70.jpg    1\n",
       "https://s3-us-west-1.amazonaws.com/sweeper-production-merchantimage/dp_5927d9ead7f65462c5a1d409.jpg    1\n",
       "https://s3-us-west-1.amazonaws.com/sweeper-production-merchantimage/dp_5817f156d8ef7848c3b400cc.jpg    1\n",
       "https://s3-us-west-1.amazonaws.com/sweeper-production-merchantimage/dp_567eb3a5d8a1043c0ab70707.jpg    1\n",
       "https://s3-us-west-1.amazonaws.com/sweeper-production-merchantimage/dp_53ad2f5a46188e43c8b6bef6.jpg    1\n",
       "https://s3-us-west-1.amazonaws.com/sweeper-production-merchantimage/dp_55d480c092e9ba1242bd816a.jpg    1\n",
       "https://s3-us-west-1.amazonaws.com/sweeper-production-merchantimage/dp_547bfcda3dabbe37af5818b1.jpg    1\n",
       "https://s3-us-west-1.amazonaws.com/sweeper-production-merchantimage/dp_593aa1956a74d26d7914a7e4.jpg    1\n",
       "https://s3-us-west-1.amazonaws.com/sweeper-production-merchantimage/dp_587f85cbb8038f4cb049c56c.jpg    1\n",
       "https://s3-us-west-1.amazonaws.com/sweeper-production-merchantimage/dp_58d12c00b9d9d6505a44c4e6.jpg    1\n",
       "https://s3-us-west-1.amazonaws.com/sweeper-production-merchantimage/dp_53994751796f684b7f2193b5.jpg    1\n",
       "https://s3-us-west-1.amazonaws.com/sweeper-production-merchantimage/dp_5652f4053a698c76dc9a3f37.jpg    1\n",
       "https://s3-us-west-1.amazonaws.com/sweeper-production-merchantimage/dp_56669d89eb4b14361d45090f.jpg    1\n",
       "https://s3-us-west-1.amazonaws.com/sweeper-production-merchantimage/dp_55a641ddfa6d460ba65ce3b8.jpg    1\n",
       "https://s3-us-west-1.amazonaws.com/sweeper-production-merchantimage/dp_5556c60071e86d19fe7590d4.jpg    1\n",
       "https://s3-us-west-1.amazonaws.com/sweeper-production-merchantimage/dp_5db248327c0d0800c24fc084.jpg    1\n",
       "https://s3-us-west-1.amazonaws.com/sweeper-production-merchantimage/dp_5466fad41280fa5ca27ba85d.jpg    1\n",
       "https://s3-us-west-1.amazonaws.com/sweeper-production-merchantimage/dp_54b8872d40b37856baa55e38.jpg    1\n",
       "https://s3-us-west-1.amazonaws.com/sweeper-production-merchantimage/dp_51aff6a38e221e2cafcdc0cb.jpg    1\n",
       "https://s3-us-west-1.amazonaws.com/sweeper-production-merchantimage/dp_5435ef5d01c0c057210e6b32.jpg    1\n",
       "https://s3-us-west-1.amazonaws.com/sweeper-production-merchantimage/dp_5b8f992a2eb51f465ffd388d.jpg    1\n",
       "https://s3-us-west-1.amazonaws.com/sweeper-production-merchantimage/dp_55d18ce6183a5d103f970011.jpg    1\n",
       "https://s3-us-west-1.amazonaws.com/sweeper-production-merchantimage/dp_5660e53e769a564b3e3aeca0.jpg    1\n",
       "https://s3-us-west-1.amazonaws.com/sweeper-production-merchantimage/dp_54a2cd4940b3782666e8a5bf.jpg    1\n",
       "https://s3-us-west-1.amazonaws.com/sweeper-production-merchantimage/dp_57713183bd6b18740117229d.jpg    1\n",
       "https://s3-us-west-1.amazonaws.com/sweeper-production-merchantimage/dp_53f2beb39020ee03566d6e18.jpg    1\n",
       "https://s3-us-west-1.amazonaws.com/sweeper-production-merchantimage/dp_58a3f270e269ee522580e6bb.jpg    1\n",
       "https://s3-us-west-1.amazonaws.com/sweeper-production-merchantimage/dp_55cc3e5f845591103477a2f8.jpg    1\n",
       "https://s3-us-west-1.amazonaws.com/sweeper-production-merchantimage/dp_550bed073fca100d87116858.jpg    1\n",
       "https://s3-us-west-1.amazonaws.com/sweeper-production-merchantimage/dp_5b8deaae2eb51f6d30ff9a3d.jpg    1\n",
       "https://s3-us-west-1.amazonaws.com/sweeper-production-merchantimage/dp_56effd3864d54a58a619bdb1.jpg    1\n",
       "https://s3-us-west-1.amazonaws.com/sweeper-production-merchantimage/dp_56680c90e363a3613607ea61.jpg    1\n",
       "https://s3-us-west-1.amazonaws.com/sweeper-production-merchantimage/dp_56db028b3a9cb801c374b3c6.jpg    1\n",
       "https://s3-us-west-1.amazonaws.com/sweeper-production-merchantimage/dp_58fde9517c09181253b0ef86.jpg    1\n",
       "https://s3-us-west-1.amazonaws.com/sweeper-production-merchantimage/dp_53e03f56ff4d6d36d2285ab0.jpg    1\n",
       "https://s3-us-west-1.amazonaws.com/sweeper-production-merchantimage/dp_551506dc18b2791039a7286d.jpg    1\n",
       "https://s3-us-west-1.amazonaws.com/sweeper-production-merchantimage/dp_589e67aa3205e17175ced38e.jpg    1\n",
       "https://s3-us-west-1.amazonaws.com/sweeper-production-merchantimage/dp_5512b0d98e8def07a462e1d7.jpg    1\n",
       "https://s3-us-west-1.amazonaws.com/sweeper-production-merchantimage/dp_5860cbf734de6c4d4803523d.jpg    1\n",
       "https://s3-us-west-1.amazonaws.com/sweeper-production-merchantimage/dp_5620c3b23a698c4bc7d17e8c.jpg    1\n",
       "https://s3-us-west-1.amazonaws.com/sweeper-production-merchantimage/dp_530306fe34067e3f15c41d87.jpg    1\n",
       "https://s3-us-west-1.amazonaws.com/sweeper-production-merchantimage/dp_5902b4eab3e322098d3b41eb.jpg    1\n",
       "https://s3-us-west-1.amazonaws.com/sweeper-production-merchantimage/dp_57568f454054c95cbd8d1619.jpg    1\n",
       "https://s3-us-west-1.amazonaws.com/sweeper-production-merchantimage/dp_570d017b1b4ca758e18e407d.jpg    1\n",
       "https://s3-us-west-1.amazonaws.com/sweeper-production-merchantimage/dp_5466e6343dabbe66ab062be8.jpg    1\n",
       "https://s3-us-west-1.amazonaws.com/sweeper-production-merchantimage/dp_538f4f18ab980a5167a1d722.jpg    1\n",
       "https://s3-us-west-1.amazonaws.com/sweeper-production-merchantimage/dp_5d462e58f320403871a78593.jpg    1\n",
       "https://s3-us-west-1.amazonaws.com/sweeper-production-merchantimage/dp_59146c0c71a2f21160479ee5.jpg    1\n",
       "https://s3-us-west-1.amazonaws.com/sweeper-production-merchantimage/dp_5609de679b11090d3bafce69.jpg    1\n",
       "https://s3-us-west-1.amazonaws.com/sweeper-production-merchantimage/dp_53bd3edad911396c5b3fb0aa.jpg    1\n",
       "https://s3-us-west-1.amazonaws.com/sweeper-production-merchantimage/dp_53e4bb20ff4d6d1b68bdb6d1.jpg    1\n",
       "https://s3-us-west-1.amazonaws.com/sweeper-production-merchantimage/dp_54869f80546ead6e5b318f5b.jpg    1\n",
       "https://s3-us-west-1.amazonaws.com/sweeper-production-merchantimage/dp_580f06685250a20783d33e56.jpg    1\n",
       "https://s3-us-west-1.amazonaws.com/sweeper-production-merchantimage/dp_55419b79439bb51755098f63.jpg    1\n",
       "https://s3-us-west-1.amazonaws.com/sweeper-production-merchantimage/dp_57ee6909567a8d101913df98.jpg    1\n",
       "https://s3-us-west-1.amazonaws.com/sweeper-production-merchantimage/dp_5756d060b833235cbc250227.jpg    1\n",
       "https://s3-us-west-1.amazonaws.com/sweeper-production-merchantimage/dp_5541ba455252290c0b225b1f.jpg    1\n",
       "https://s3-us-west-1.amazonaws.com/sweeper-production-merchantimage/dp_565537c7a9a8a4572be0bef5.jpg    1\n",
       "https://s3-us-west-1.amazonaws.com/sweeper-production-merchantimage/dp_57875ba40cb30d38ba46f57d.jpg    1\n",
       "https://s3-us-west-1.amazonaws.com/sweeper-production-merchantimage/dp_570ceafac277d445e3cbebe5.jpg    1\n",
       "Name: merchant_profile_picture, dtype: int64"
      ]
     },
     "execution_count": 27,
     "metadata": {},
     "output_type": "execute_result"
    }
   ],
   "source": [
    "#Inscpecting merchant_profile_picture column\n",
    "df['merchant_profile_picture'].value_counts()\n",
    "\n"
   ]
  },
  {
   "cell_type": "markdown",
   "metadata": {
    "id": "WX-GnkWdJjJn"
   },
   "source": [
    "As conclusion we will find out that merchant profile picture doesn't add any useful information "
   ]
  },
  {
   "cell_type": "markdown",
   "metadata": {
    "id": "UYrb-E8xJjJm"
   },
   "source": [
    "#### Inspect each columns\n",
    "merchant_profile_picture, theme, crawl_month, tags, shipping_option_name, merchant_title, merchant_name, merchant_info_subtitle, currency_buyer, merchant_id\n",
    "\n"
   ]
  },
  {
   "cell_type": "code",
   "execution_count": 28,
   "metadata": {
    "colab": {
     "base_uri": "https://localhost:8080/",
     "height": 256
    },
    "id": "RZmPc61iJjJn",
    "outputId": "9bc43303-e316-4c4f-a61a-7c872e1e38e9"
   },
   "outputs": [
    {
     "data": {
      "image/png": "[encoded data removed]",
      "text/plain": [
       "<Figure size 216x216 with 1 Axes>"
      ]
     },
     "metadata": {
      "needs_background": "light"
     },
     "output_type": "display_data"
    }
   ],
   "source": [
    "#incpecting theme coloumn\n",
    "plt.figure(figsize=(3, 3))\n",
    "ax = sns.countplot(x = 'theme',\n",
    "                   order = df['theme'].value_counts().index,\n",
    "                   palette= \"Set2\",\n",
    "                   data=df)\n",
    "ax.set(xlabel='theme', ylabel='Count')\n",
    "plt.xticks(rotation=90, ha='right')\n",
    "plt.show()"
   ]
  },
  {
   "cell_type": "code",
   "execution_count": 29,
   "metadata": {
    "colab": {
     "base_uri": "https://localhost:8080/",
     "height": 257
    },
    "id": "IQbs4awwJjJn",
    "outputId": "ce234212-d638-4072-f5c3-b62bda01ba7a"
   },
   "outputs": [
    {
     "data": {
      "image/png": "[encoded data removed]",
      "text/plain": [
       "<Figure size 216x216 with 1 Axes>"
      ]
     },
     "metadata": {
      "needs_background": "light"
     },
     "output_type": "display_data"
    }
   ],
   "source": [
    "#inspecting Crawl month column\n",
    "plt.figure(figsize=(3, 3))\n",
    "ax = sns.countplot(x = 'crawl_month',\n",
    "                   order = df['crawl_month'].value_counts().index,\n",
    "                   palette= \"Set2\",\n",
    "                   data=df)\n",
    "ax.set(xlabel='crawl_month', ylabel='Count')\n",
    "plt.xticks(rotation=90, ha='right')\n",
    "plt.show()"
   ]
  },
  {
   "cell_type": "code",
   "execution_count": 30,
   "metadata": {
    "colab": {
     "base_uri": "https://localhost:8080/",
     "height": 236
    },
    "id": "NLmAlDgHJjJp",
    "outputId": "2835a26e-9f2a-4e44-80f8-5b4db12bfb34"
   },
   "outputs": [
    {
     "data": {
      "image/png": "[encoded data removed]",
      "text/plain": [
       "<Figure size 216x216 with 1 Axes>"
      ]
     },
     "metadata": {
      "needs_background": "light"
     },
     "output_type": "display_data"
    }
   ],
   "source": [
    "#inspecting currency buyer column\n",
    "plt.figure(figsize=(3, 3))\n",
    "ax = sns.countplot(x = 'currency_buyer',\n",
    "                   order = df['currency_buyer'].value_counts().index,\n",
    "                   palette= \"Set2\",\n",
    "                   data=df)\n",
    "ax.set(xlabel='currency_buyer', ylabel='Count')\n",
    "plt.xticks(rotation=90, ha='right')\n",
    "plt.show()"
   ]
  },
  {
   "cell_type": "markdown",
   "metadata": {
    "id": "qKdOyu6KJjJp"
   },
   "source": [
    "Based on our observation we can see that these columns (currency_buyer,crawl_month, theme) have only one unique columns so there existence doesnt ad any useful information "
   ]
  },
  {
   "cell_type": "code",
   "execution_count": 31,
   "metadata": {
    "colab": {
     "base_uri": "https://localhost:8080/"
    },
    "id": "snKavnf_JjJp",
    "outputId": "14c8b015-27de-4790-f459-3fed43cb0bd4"
   },
   "outputs": [
    {
     "data": {
      "text/plain": [
       "Livraison standard         1047\n",
       "Standard Shipping            16\n",
       "Envio Padrão                  6\n",
       "الشحن القياسي                 4\n",
       "Expediere Standard            4\n",
       "Envío normal                  3\n",
       "Standardversand               3\n",
       "Standardowa wysyłka           2\n",
       "Standart Gönderi              2\n",
       "Livraison Express             2\n",
       "Стандартная доставка          2\n",
       "Spedizione standard           1\n",
       "ការដឹកជញ្ជូនតាមស្តង់ដារ       1\n",
       "Name: shipping_option_name, dtype: int64"
      ]
     },
     "execution_count": 31,
     "metadata": {},
     "output_type": "execute_result"
    }
   ],
   "source": [
    "df['shipping_option_name'].value_counts()"
   ]
  },
  {
   "cell_type": "markdown",
   "metadata": {
    "id": "UZgQYL9ZJjJp"
   },
   "source": [
    "As we can see in column shipping_option_name that it has very low variance as more than 95% of the values in the column belong to a specific category so we can drop this column."
   ]
  },
  {
   "cell_type": "code",
   "execution_count": 32,
   "metadata": {
    "colab": {
     "base_uri": "https://localhost:8080/",
     "height": 299
    },
    "id": "N6YnVaFbJjJp",
    "outputId": "673707d6-10b5-4465-b32f-51046c9370ea"
   },
   "outputs": [
    {
     "data": {
      "text/plain": [
       "<matplotlib.axes._subplots.AxesSubplot at 0x7fb5fa31e310>"
      ]
     },
     "execution_count": 32,
     "metadata": {},
     "output_type": "execute_result"
    },
    {
     "data": {
      "image/png": "[encoded data removed]",
      "text/plain": [
       "<Figure size 432x288 with 1 Axes>"
      ]
     },
     "metadata": {
      "needs_background": "light"
     },
     "output_type": "display_data"
    }
   ],
   "source": [
    "sns.countplot(x=df['merchant_rating'].value_counts())"
   ]
  },
  {
   "cell_type": "code",
   "execution_count": 33,
   "metadata": {
    "id": "kzbEYQdTJjJq"
   },
   "outputs": [],
   "source": [
    "sns.countplot(x=df1['merchant_title'].value_counts())"
   ]
  },
  {
   "cell_type": "markdown",
   "metadata": {
    "id": "MJeYJZ5SJjJq"
   },
   "source": [
    "The columns merchant_title, merchant_name, merchant_info_subtitle, merchant_id gives the same information "
   ]
  },
  {
   "cell_type": "code",
   "execution_count": 34,
   "metadata": {
    "id": "lKYDXuEeJjJq"
   },
   "outputs": [],
   "source": [
    "#Droping unuseful data\n",
    "df.drop('tags',axis='columns', inplace=True)\n",
    "df.drop('shipping_option_name',axis='columns', inplace=True)\n",
    "df.drop('merchant_title',axis='columns', inplace=True)\n",
    "df.drop('merchant_name',axis='columns', inplace=True)\n",
    "df.drop('merchant_info_subtitle',axis='columns', inplace=True)\n",
    "df.drop('merchant_profile_picture',axis='columns', inplace=True)\n",
    "df.drop('urgency_text',axis='columns', inplace=True)\n",
    "df.drop('currency_buyer',axis='columns', inplace=True)\n",
    "df.drop('merchant_id',axis='columns',inplace=True)\n",
    "df.drop('crawl_month',axis='columns', inplace=True)\n",
    "df.drop('theme',axis='columns', inplace=True)\n",
    "df.drop('id',axis='columns', inplace=True)\n"
   ]
  },
  {
   "cell_type": "code",
   "execution_count": 36,
   "metadata": {
    "colab": {
     "base_uri": "https://localhost:8080/"
    },
    "id": "gfTT4MDzJjJr",
    "outputId": "df2d0d52-41a3-40ef-c990-411cd2b753b2"
   },
   "outputs": [
    {
     "data": {
      "text/plain": [
       "price                           0\n",
       "retail_price                    0\n",
       "units_sold                      0\n",
       "uses_ad_boosts                  0\n",
       "rating                          0\n",
       "rating_count                    0\n",
       "badges_count                    0\n",
       "badge_local_product             0\n",
       "badge_product_quality           0\n",
       "badge_fast_shipping             0\n",
       "product_color                   0\n",
       "product_variation_size_id       0\n",
       "product_variation_inventory     0\n",
       "shipping_option_price           0\n",
       "shipping_is_express             0\n",
       "countries_shipped_to            0\n",
       "inventory_total                 0\n",
       "has_urgency_banner              0\n",
       "origin_country                  0\n",
       "merchant_rating_count           0\n",
       "merchant_rating                 0\n",
       "merchant_has_profile_picture    0\n",
       "dtype: int64"
      ]
     },
     "execution_count": 36,
     "metadata": {},
     "output_type": "execute_result"
    }
   ],
   "source": [
    "#Making sure there is no more missing values\n",
    "missing_values_count = df.isnull().sum()\n",
    "\n",
    "# look at the # of missing points in all columns\n",
    "missing_values_count[:]"
   ]
  },
  {
   "cell_type": "markdown",
   "metadata": {},
   "source": [
    "## One-Hot encoding"
   ]
  },
  {
   "cell_type": "code",
   "execution_count": 37,
   "metadata": {
    "id": "cmXR0ahcJjJr"
   },
   "outputs": [],
   "source": [
    "#One_hot encoding for categorical data\n",
    "df = pd.get_dummies(df, columns = ['product_variation_size_id','product_color','origin_country'])"
   ]
  },
  {
   "cell_type": "code",
   "execution_count": 38,
   "metadata": {
    "colab": {
     "base_uri": "https://localhost:8080/",
     "height": 364
    },
    "id": "EWfck_jgJjJr",
    "outputId": "eff76e9c-255d-43ee-8434-858b036d525e"
   },
   "outputs": [
    {
     "data": {
      "text/html": [
       "\n",
       "  <div id=\"df-8a6dcf31-8fbd-4053-bc41-d1a1fa023591\">\n",
       "    <div class=\"colab-df-container\">\n",
       "      <div>\n",
       "<style scoped>\n",
       "    .dataframe tbody tr th:only-of-type {\n",
       "        vertical-align: middle;\n",
       "    }\n",
       "\n",
       "    .dataframe tbody tr th {\n",
       "        vertical-align: top;\n",
       "    }\n",
       "\n",
       "    .dataframe thead th {\n",
       "        text-align: right;\n",
       "    }\n",
       "</style>\n",
       "<table border=\"1\" class=\"dataframe\">\n",
       "  <thead>\n",
       "    <tr style=\"text-align: right;\">\n",
       "      <th></th>\n",
       "      <th>price</th>\n",
       "      <th>retail_price</th>\n",
       "      <th>units_sold</th>\n",
       "      <th>uses_ad_boosts</th>\n",
       "      <th>rating</th>\n",
       "      <th>rating_count</th>\n",
       "      <th>badges_count</th>\n",
       "      <th>badge_local_product</th>\n",
       "      <th>badge_product_quality</th>\n",
       "      <th>badge_fast_shipping</th>\n",
       "      <th>product_variation_inventory</th>\n",
       "      <th>shipping_option_price</th>\n",
       "      <th>shipping_is_express</th>\n",
       "      <th>countries_shipped_to</th>\n",
       "      <th>inventory_total</th>\n",
       "      <th>has_urgency_banner</th>\n",
       "      <th>merchant_rating_count</th>\n",
       "      <th>merchant_rating</th>\n",
       "      <th>merchant_has_profile_picture</th>\n",
       "      <th>product_variation_size_id_L</th>\n",
       "      <th>product_variation_size_id_M</th>\n",
       "      <th>product_variation_size_id_Other</th>\n",
       "      <th>product_variation_size_id_S</th>\n",
       "      <th>product_variation_size_id_XL</th>\n",
       "      <th>product_variation_size_id_XS</th>\n",
       "      <th>product_variation_size_id_XXL+</th>\n",
       "      <th>product_variation_size_id_XXS+</th>\n",
       "      <th>product_color_black</th>\n",
       "      <th>product_color_blue</th>\n",
       "      <th>product_color_brown</th>\n",
       "      <th>product_color_dual</th>\n",
       "      <th>product_color_green</th>\n",
       "      <th>product_color_grey</th>\n",
       "      <th>product_color_orange</th>\n",
       "      <th>product_color_other</th>\n",
       "      <th>product_color_pink</th>\n",
       "      <th>product_color_purple</th>\n",
       "      <th>product_color_red</th>\n",
       "      <th>product_color_white</th>\n",
       "      <th>product_color_yellow</th>\n",
       "      <th>origin_country_CN</th>\n",
       "      <th>origin_country_GB</th>\n",
       "      <th>origin_country_SG</th>\n",
       "      <th>origin_country_US</th>\n",
       "      <th>origin_country_VE</th>\n",
       "    </tr>\n",
       "  </thead>\n",
       "  <tbody>\n",
       "    <tr>\n",
       "      <th>count</th>\n",
       "      <td>1093.000000</td>\n",
       "      <td>1093.000000</td>\n",
       "      <td>1093.000000</td>\n",
       "      <td>1093.000000</td>\n",
       "      <td>1093.000000</td>\n",
       "      <td>1093.000000</td>\n",
       "      <td>1093.000000</td>\n",
       "      <td>1093.000000</td>\n",
       "      <td>1093.000000</td>\n",
       "      <td>1093.000000</td>\n",
       "      <td>1093.000000</td>\n",
       "      <td>1093.000000</td>\n",
       "      <td>1093.000000</td>\n",
       "      <td>1093.000000</td>\n",
       "      <td>1093.000000</td>\n",
       "      <td>1093.000000</td>\n",
       "      <td>1.093000e+03</td>\n",
       "      <td>1093.000000</td>\n",
       "      <td>1093.000000</td>\n",
       "      <td>1093.000000</td>\n",
       "      <td>1093.000000</td>\n",
       "      <td>1093.000000</td>\n",
       "      <td>1093.000000</td>\n",
       "      <td>1093.000000</td>\n",
       "      <td>1093.000000</td>\n",
       "      <td>1093.000000</td>\n",
       "      <td>1093.000000</td>\n",
       "      <td>1093.000000</td>\n",
       "      <td>1093.000000</td>\n",
       "      <td>1093.000000</td>\n",
       "      <td>1093.000000</td>\n",
       "      <td>1093.000000</td>\n",
       "      <td>1093.000000</td>\n",
       "      <td>1093.000000</td>\n",
       "      <td>1093.000000</td>\n",
       "      <td>1093.000000</td>\n",
       "      <td>1093.000000</td>\n",
       "      <td>1093.000000</td>\n",
       "      <td>1093.000000</td>\n",
       "      <td>1093.000000</td>\n",
       "      <td>1093.000000</td>\n",
       "      <td>1093.000000</td>\n",
       "      <td>1093.000000</td>\n",
       "      <td>1093.000000</td>\n",
       "      <td>1093.000000</td>\n",
       "    </tr>\n",
       "    <tr>\n",
       "      <th>mean</th>\n",
       "      <td>8.283568</td>\n",
       "      <td>23.695334</td>\n",
       "      <td>4522.704483</td>\n",
       "      <td>0.432754</td>\n",
       "      <td>4.004575</td>\n",
       "      <td>916.355901</td>\n",
       "      <td>0.113449</td>\n",
       "      <td>0.019213</td>\n",
       "      <td>0.083257</td>\n",
       "      <td>0.010979</td>\n",
       "      <td>32.835316</td>\n",
       "      <td>2.335773</td>\n",
       "      <td>0.001830</td>\n",
       "      <td>40.483989</td>\n",
       "      <td>49.892955</td>\n",
       "      <td>0.319305</td>\n",
       "      <td>2.678107e+04</td>\n",
       "      <td>4.036020</td>\n",
       "      <td>0.155535</td>\n",
       "      <td>0.028362</td>\n",
       "      <td>0.129003</td>\n",
       "      <td>0.053065</td>\n",
       "      <td>0.438243</td>\n",
       "      <td>0.015554</td>\n",
       "      <td>0.236048</td>\n",
       "      <td>0.020128</td>\n",
       "      <td>0.079597</td>\n",
       "      <td>0.204941</td>\n",
       "      <td>0.111619</td>\n",
       "      <td>0.010064</td>\n",
       "      <td>0.028362</td>\n",
       "      <td>0.096981</td>\n",
       "      <td>0.051235</td>\n",
       "      <td>0.015554</td>\n",
       "      <td>0.060384</td>\n",
       "      <td>0.068618</td>\n",
       "      <td>0.034767</td>\n",
       "      <td>0.090576</td>\n",
       "      <td>0.161940</td>\n",
       "      <td>0.064959</td>\n",
       "      <td>0.974382</td>\n",
       "      <td>0.000915</td>\n",
       "      <td>0.001830</td>\n",
       "      <td>0.020128</td>\n",
       "      <td>0.002745</td>\n",
       "    </tr>\n",
       "    <tr>\n",
       "      <th>std</th>\n",
       "      <td>3.836460</td>\n",
       "      <td>31.812401</td>\n",
       "      <td>9829.196136</td>\n",
       "      <td>0.495684</td>\n",
       "      <td>0.582857</td>\n",
       "      <td>2038.307907</td>\n",
       "      <td>0.347588</td>\n",
       "      <td>0.137336</td>\n",
       "      <td>0.276397</td>\n",
       "      <td>0.104251</td>\n",
       "      <td>21.444202</td>\n",
       "      <td>1.003552</td>\n",
       "      <td>0.042757</td>\n",
       "      <td>20.205469</td>\n",
       "      <td>2.015161</td>\n",
       "      <td>0.466421</td>\n",
       "      <td>8.620109e+04</td>\n",
       "      <td>0.200409</td>\n",
       "      <td>0.362580</td>\n",
       "      <td>0.166082</td>\n",
       "      <td>0.335356</td>\n",
       "      <td>0.224266</td>\n",
       "      <td>0.496399</td>\n",
       "      <td>0.123797</td>\n",
       "      <td>0.424846</td>\n",
       "      <td>0.140503</td>\n",
       "      <td>0.270793</td>\n",
       "      <td>0.403843</td>\n",
       "      <td>0.315042</td>\n",
       "      <td>0.099859</td>\n",
       "      <td>0.166082</td>\n",
       "      <td>0.296067</td>\n",
       "      <td>0.220578</td>\n",
       "      <td>0.123797</td>\n",
       "      <td>0.238306</td>\n",
       "      <td>0.252920</td>\n",
       "      <td>0.183272</td>\n",
       "      <td>0.287137</td>\n",
       "      <td>0.368564</td>\n",
       "      <td>0.246566</td>\n",
       "      <td>0.158064</td>\n",
       "      <td>0.030248</td>\n",
       "      <td>0.042757</td>\n",
       "      <td>0.140503</td>\n",
       "      <td>0.052342</td>\n",
       "    </tr>\n",
       "    <tr>\n",
       "      <th>min</th>\n",
       "      <td>1.000000</td>\n",
       "      <td>2.000000</td>\n",
       "      <td>1.000000</td>\n",
       "      <td>0.000000</td>\n",
       "      <td>1.000000</td>\n",
       "      <td>0.000000</td>\n",
       "      <td>0.000000</td>\n",
       "      <td>0.000000</td>\n",
       "      <td>0.000000</td>\n",
       "      <td>0.000000</td>\n",
       "      <td>1.000000</td>\n",
       "      <td>1.000000</td>\n",
       "      <td>0.000000</td>\n",
       "      <td>8.000000</td>\n",
       "      <td>1.000000</td>\n",
       "      <td>0.000000</td>\n",
       "      <td>4.000000e+00</td>\n",
       "      <td>2.941176</td>\n",
       "      <td>0.000000</td>\n",
       "      <td>0.000000</td>\n",
       "      <td>0.000000</td>\n",
       "      <td>0.000000</td>\n",
       "      <td>0.000000</td>\n",
       "      <td>0.000000</td>\n",
       "      <td>0.000000</td>\n",
       "      <td>0.000000</td>\n",
       "      <td>0.000000</td>\n",
       "      <td>0.000000</td>\n",
       "      <td>0.000000</td>\n",
       "      <td>0.000000</td>\n",
       "      <td>0.000000</td>\n",
       "      <td>0.000000</td>\n",
       "      <td>0.000000</td>\n",
       "      <td>0.000000</td>\n",
       "      <td>0.000000</td>\n",
       "      <td>0.000000</td>\n",
       "      <td>0.000000</td>\n",
       "      <td>0.000000</td>\n",
       "      <td>0.000000</td>\n",
       "      <td>0.000000</td>\n",
       "      <td>0.000000</td>\n",
       "      <td>0.000000</td>\n",
       "      <td>0.000000</td>\n",
       "      <td>0.000000</td>\n",
       "      <td>0.000000</td>\n",
       "    </tr>\n",
       "    <tr>\n",
       "      <th>25%</th>\n",
       "      <td>5.830000</td>\n",
       "      <td>7.000000</td>\n",
       "      <td>100.000000</td>\n",
       "      <td>0.000000</td>\n",
       "      <td>4.000000</td>\n",
       "      <td>24.000000</td>\n",
       "      <td>0.000000</td>\n",
       "      <td>0.000000</td>\n",
       "      <td>0.000000</td>\n",
       "      <td>0.000000</td>\n",
       "      <td>6.000000</td>\n",
       "      <td>2.000000</td>\n",
       "      <td>0.000000</td>\n",
       "      <td>31.000000</td>\n",
       "      <td>50.000000</td>\n",
       "      <td>0.000000</td>\n",
       "      <td>1.926000e+03</td>\n",
       "      <td>3.918367</td>\n",
       "      <td>0.000000</td>\n",
       "      <td>0.000000</td>\n",
       "      <td>0.000000</td>\n",
       "      <td>0.000000</td>\n",
       "      <td>0.000000</td>\n",
       "      <td>0.000000</td>\n",
       "      <td>0.000000</td>\n",
       "      <td>0.000000</td>\n",
       "      <td>0.000000</td>\n",
       "      <td>0.000000</td>\n",
       "      <td>0.000000</td>\n",
       "      <td>0.000000</td>\n",
       "      <td>0.000000</td>\n",
       "      <td>0.000000</td>\n",
       "      <td>0.000000</td>\n",
       "      <td>0.000000</td>\n",
       "      <td>0.000000</td>\n",
       "      <td>0.000000</td>\n",
       "      <td>0.000000</td>\n",
       "      <td>0.000000</td>\n",
       "      <td>0.000000</td>\n",
       "      <td>0.000000</td>\n",
       "      <td>1.000000</td>\n",
       "      <td>0.000000</td>\n",
       "      <td>0.000000</td>\n",
       "      <td>0.000000</td>\n",
       "      <td>0.000000</td>\n",
       "    </tr>\n",
       "    <tr>\n",
       "      <th>50%</th>\n",
       "      <td>8.000000</td>\n",
       "      <td>10.000000</td>\n",
       "      <td>1000.000000</td>\n",
       "      <td>0.000000</td>\n",
       "      <td>4.000000</td>\n",
       "      <td>144.000000</td>\n",
       "      <td>0.000000</td>\n",
       "      <td>0.000000</td>\n",
       "      <td>0.000000</td>\n",
       "      <td>0.000000</td>\n",
       "      <td>50.000000</td>\n",
       "      <td>2.000000</td>\n",
       "      <td>0.000000</td>\n",
       "      <td>40.000000</td>\n",
       "      <td>50.000000</td>\n",
       "      <td>0.000000</td>\n",
       "      <td>8.225000e+03</td>\n",
       "      <td>4.045170</td>\n",
       "      <td>0.000000</td>\n",
       "      <td>0.000000</td>\n",
       "      <td>0.000000</td>\n",
       "      <td>0.000000</td>\n",
       "      <td>0.000000</td>\n",
       "      <td>0.000000</td>\n",
       "      <td>0.000000</td>\n",
       "      <td>0.000000</td>\n",
       "      <td>0.000000</td>\n",
       "      <td>0.000000</td>\n",
       "      <td>0.000000</td>\n",
       "      <td>0.000000</td>\n",
       "      <td>0.000000</td>\n",
       "      <td>0.000000</td>\n",
       "      <td>0.000000</td>\n",
       "      <td>0.000000</td>\n",
       "      <td>0.000000</td>\n",
       "      <td>0.000000</td>\n",
       "      <td>0.000000</td>\n",
       "      <td>0.000000</td>\n",
       "      <td>0.000000</td>\n",
       "      <td>0.000000</td>\n",
       "      <td>1.000000</td>\n",
       "      <td>0.000000</td>\n",
       "      <td>0.000000</td>\n",
       "      <td>0.000000</td>\n",
       "      <td>0.000000</td>\n",
       "    </tr>\n",
       "    <tr>\n",
       "      <th>75%</th>\n",
       "      <td>11.000000</td>\n",
       "      <td>26.000000</td>\n",
       "      <td>5000.000000</td>\n",
       "      <td>1.000000</td>\n",
       "      <td>4.000000</td>\n",
       "      <td>846.000000</td>\n",
       "      <td>0.000000</td>\n",
       "      <td>0.000000</td>\n",
       "      <td>0.000000</td>\n",
       "      <td>0.000000</td>\n",
       "      <td>50.000000</td>\n",
       "      <td>3.000000</td>\n",
       "      <td>0.000000</td>\n",
       "      <td>43.000000</td>\n",
       "      <td>50.000000</td>\n",
       "      <td>1.000000</td>\n",
       "      <td>2.276500e+04</td>\n",
       "      <td>4.166509</td>\n",
       "      <td>0.000000</td>\n",
       "      <td>0.000000</td>\n",
       "      <td>0.000000</td>\n",
       "      <td>0.000000</td>\n",
       "      <td>1.000000</td>\n",
       "      <td>0.000000</td>\n",
       "      <td>0.000000</td>\n",
       "      <td>0.000000</td>\n",
       "      <td>0.000000</td>\n",
       "      <td>0.000000</td>\n",
       "      <td>0.000000</td>\n",
       "      <td>0.000000</td>\n",
       "      <td>0.000000</td>\n",
       "      <td>0.000000</td>\n",
       "      <td>0.000000</td>\n",
       "      <td>0.000000</td>\n",
       "      <td>0.000000</td>\n",
       "      <td>0.000000</td>\n",
       "      <td>0.000000</td>\n",
       "      <td>0.000000</td>\n",
       "      <td>0.000000</td>\n",
       "      <td>0.000000</td>\n",
       "      <td>1.000000</td>\n",
       "      <td>0.000000</td>\n",
       "      <td>0.000000</td>\n",
       "      <td>0.000000</td>\n",
       "      <td>0.000000</td>\n",
       "    </tr>\n",
       "    <tr>\n",
       "      <th>max</th>\n",
       "      <td>27.000000</td>\n",
       "      <td>252.000000</td>\n",
       "      <td>100000.000000</td>\n",
       "      <td>1.000000</td>\n",
       "      <td>5.000000</td>\n",
       "      <td>20744.000000</td>\n",
       "      <td>3.000000</td>\n",
       "      <td>1.000000</td>\n",
       "      <td>1.000000</td>\n",
       "      <td>1.000000</td>\n",
       "      <td>50.000000</td>\n",
       "      <td>7.000000</td>\n",
       "      <td>1.000000</td>\n",
       "      <td>140.000000</td>\n",
       "      <td>50.000000</td>\n",
       "      <td>1.000000</td>\n",
       "      <td>2.174765e+06</td>\n",
       "      <td>4.577519</td>\n",
       "      <td>1.000000</td>\n",
       "      <td>1.000000</td>\n",
       "      <td>1.000000</td>\n",
       "      <td>1.000000</td>\n",
       "      <td>1.000000</td>\n",
       "      <td>1.000000</td>\n",
       "      <td>1.000000</td>\n",
       "      <td>1.000000</td>\n",
       "      <td>1.000000</td>\n",
       "      <td>1.000000</td>\n",
       "      <td>1.000000</td>\n",
       "      <td>1.000000</td>\n",
       "      <td>1.000000</td>\n",
       "      <td>1.000000</td>\n",
       "      <td>1.000000</td>\n",
       "      <td>1.000000</td>\n",
       "      <td>1.000000</td>\n",
       "      <td>1.000000</td>\n",
       "      <td>1.000000</td>\n",
       "      <td>1.000000</td>\n",
       "      <td>1.000000</td>\n",
       "      <td>1.000000</td>\n",
       "      <td>1.000000</td>\n",
       "      <td>1.000000</td>\n",
       "      <td>1.000000</td>\n",
       "      <td>1.000000</td>\n",
       "      <td>1.000000</td>\n",
       "    </tr>\n",
       "  </tbody>\n",
       "</table>\n",
       "</div>\n",
       "      <button class=\"colab-df-convert\" onclick=\"convertToInteractive('df-8a6dcf31-8fbd-4053-bc41-d1a1fa023591')\"\n",
       "              title=\"Convert this dataframe to an interactive table.\"\n",
       "              style=\"display:none;\">\n",
       "        \n",
       "  <svg xmlns=\"http://www.w3.org/2000/svg\" height=\"24px\"viewBox=\"0 0 24 24\"\n",
       "       width=\"24px\">\n",
       "    <path d=\"M0 0h24v24H0V0z\" fill=\"none\"/>\n",
       "    <path d=\"M18.56 5.44l.94 2.06.94-2.06 2.06-.94-2.06-.94-.94-2.06-.94 2.06-2.06.94zm-11 1L8.5 8.5l.94-2.06 2.06-.94-2.06-.94L8.5 2.5l-.94 2.06-2.06.94zm10 10l.94 2.06.94-2.06 2.06-.94-2.06-.94-.94-2.06-.94 2.06-2.06.94z\"/><path d=\"M17.41 7.96l-1.37-1.37c-.4-.4-.92-.59-1.43-.59-.52 0-1.04.2-1.43.59L10.3 9.45l-7.72 7.72c-.78.78-.78 2.05 0 2.83L4 21.41c.39.39.9.59 1.41.59.51 0 1.02-.2 1.41-.59l7.78-7.78 2.81-2.81c.8-.78.8-2.07 0-2.86zM5.41 20L4 18.59l7.72-7.72 1.47 1.35L5.41 20z\"/>\n",
       "  </svg>\n",
       "      </button>\n",
       "      \n",
       "  <style>\n",
       "    .colab-df-container {\n",
       "      display:flex;\n",
       "      flex-wrap:wrap;\n",
       "      gap: 12px;\n",
       "    }\n",
       "\n",
       "    .colab-df-convert {\n",
       "      background-color: #E8F0FE;\n",
       "      border: none;\n",
       "      border-radius: 50%;\n",
       "      cursor: pointer;\n",
       "      display: none;\n",
       "      fill: #1967D2;\n",
       "      height: 32px;\n",
       "      padding: 0 0 0 0;\n",
       "      width: 32px;\n",
       "    }\n",
       "\n",
       "    .colab-df-convert:hover {\n",
       "      background-color: #E2EBFA;\n",
       "      box-shadow: 0px 1px 2px rgba(60, 64, 67, 0.3), 0px 1px 3px 1px rgba(60, 64, 67, 0.15);\n",
       "      fill: #174EA6;\n",
       "    }\n",
       "\n",
       "    [theme=dark] .colab-df-convert {\n",
       "      background-color: #3B4455;\n",
       "      fill: #D2E3FC;\n",
       "    }\n",
       "\n",
       "    [theme=dark] .colab-df-convert:hover {\n",
       "      background-color: #434B5C;\n",
       "      box-shadow: 0px 1px 3px 1px rgba(0, 0, 0, 0.15);\n",
       "      filter: drop-shadow(0px 1px 2px rgba(0, 0, 0, 0.3));\n",
       "      fill: #FFFFFF;\n",
       "    }\n",
       "  </style>\n",
       "\n",
       "      <script>\n",
       "        const buttonEl =\n",
       "          document.querySelector('#df-8a6dcf31-8fbd-4053-bc41-d1a1fa023591 button.colab-df-convert');\n",
       "        buttonEl.style.display =\n",
       "          google.colab.kernel.accessAllowed ? 'block' : 'none';\n",
       "\n",
       "        async function convertToInteractive(key) {\n",
       "          const element = document.querySelector('#df-8a6dcf31-8fbd-4053-bc41-d1a1fa023591');\n",
       "          const dataTable =\n",
       "            await google.colab.kernel.invokeFunction('convertToInteractive',\n",
       "                                                     [key], {});\n",
       "          if (!dataTable) return;\n",
       "\n",
       "          const docLinkHtml = 'Like what you see? Visit the ' +\n",
       "            '<a target=\"_blank\" href=https://colab.research.google.com/notebooks/data_table.ipynb>data table notebook</a>'\n",
       "            + ' to learn more about interactive tables.';\n",
       "          element.innerHTML = '';\n",
       "          dataTable['output_type'] = 'display_data';\n",
       "          await google.colab.output.renderOutput(dataTable, element);\n",
       "          const docLink = document.createElement('div');\n",
       "          docLink.innerHTML = docLinkHtml;\n",
       "          element.appendChild(docLink);\n",
       "        }\n",
       "      </script>\n",
       "    </div>\n",
       "  </div>\n",
       "  "
      ],
      "text/plain": [
       "             price  retail_price  ...  origin_country_US  origin_country_VE\n",
       "count  1093.000000   1093.000000  ...        1093.000000        1093.000000\n",
       "mean      8.283568     23.695334  ...           0.020128           0.002745\n",
       "std       3.836460     31.812401  ...           0.140503           0.052342\n",
       "min       1.000000      2.000000  ...           0.000000           0.000000\n",
       "25%       5.830000      7.000000  ...           0.000000           0.000000\n",
       "50%       8.000000     10.000000  ...           0.000000           0.000000\n",
       "75%      11.000000     26.000000  ...           0.000000           0.000000\n",
       "max      27.000000    252.000000  ...           1.000000           1.000000\n",
       "\n",
       "[8 rows x 45 columns]"
      ]
     },
     "execution_count": 38,
     "metadata": {},
     "output_type": "execute_result"
    }
   ],
   "source": [
    "df.describe()"
   ]
  },
  {
   "cell_type": "code",
   "execution_count": 39,
   "metadata": {
    "id": "iE-PvwzVJjJr"
   },
   "outputs": [],
   "source": [
    "#Defining the labels and the features of our train dataset \n",
    "Xtr=df.loc[:,df.columns!='rating']\n",
    "Ytr = df.rating"
   ]
  },
  {
   "cell_type": "code",
   "execution_count": 40,
   "metadata": {
    "id": "t6OWolozJjJr"
   },
   "outputs": [],
   "source": [
    "from sklearn.preprocessing import MinMaxScaler\n",
    "#Scaling \n",
    "scaler = MinMaxScaler()\n",
    "Xtr = scaler.fit_transform(Xtr)"
   ]
  },
  {
   "cell_type": "markdown",
   "metadata": {},
   "source": [
    "## Decision Tree"
   ]
  },
  {
   "cell_type": "code",
   "execution_count": 41,
   "metadata": {
    "colab": {
     "base_uri": "https://localhost:8080/"
    },
    "id": "VCTEO_-mJjJs",
    "outputId": "c02179d8-730a-478a-fc4d-decf0145077e"
   },
   "outputs": [
    {
     "name": "stdout",
     "output_type": "stream",
     "text": [
      "Fitting 5 folds for each of 18 candidates, totalling 90 fits\n"
     ]
    },
    {
     "name": "stderr",
     "output_type": "stream",
     "text": [
      "/usr/local/lib/python3.7/dist-packages/sklearn/model_selection/_split.py:680: UserWarning:\n",
      "\n",
      "The least populated class in y has only 2 members, which is less than n_splits=5.\n",
      "\n"
     ]
    },
    {
     "data": {
      "text/plain": [
       "GridSearchCV(cv=5, estimator=DecisionTreeClassifier(random_state=1024),\n",
       "             param_grid={'criterion': ['gini', 'entropy'],\n",
       "                         'max_depth': [2, 4, 6, 7, 8, 10, 12, 14, 16]},\n",
       "             verbose=True)"
      ]
     },
     "execution_count": 41,
     "metadata": {},
     "output_type": "execute_result"
    }
   ],
   "source": [
    "from sklearn.model_selection import GridSearchCV #importing GidSearchCv\n",
    "from sklearn import tree #importing tree \n",
    "from sklearn.tree import DecisionTreeClassifier #importing DecisionTreeClassifier\n",
    "#Using gridsearch to find the best parameters\n",
    "param_grid = {'criterion' :['gini', 'entropy'],\n",
    "              'max_depth' : [2,4,6,7,8,10,12,14,16]\n",
    "             }\n",
    "clf = DecisionTreeClassifier(random_state=1024)\n",
    "grid_search = GridSearchCV(estimator=clf, param_grid=param_grid, cv=5, verbose=True)\n",
    "grid_search.fit(Xtr, Ytr)"
   ]
  },
  {
   "cell_type": "code",
   "execution_count": 42,
   "metadata": {
    "colab": {
     "base_uri": "https://localhost:8080/"
    },
    "id": "V1_nmtmbJjJs",
    "outputId": "74c6480e-7ec2-4c4f-d8ce-97263c1eded8"
   },
   "outputs": [
    {
     "name": "stdout",
     "output_type": "stream",
     "text": [
      "{'criterion': 'gini', 'max_depth': 6} \n",
      " DecisionTreeClassifier(max_depth=6, random_state=1024) \n",
      " The best score is : 0.781299484730426\n"
     ]
    }
   ],
   "source": [
    "print(grid_search.best_params_, '\\n' , grid_search.best_estimator_, '\\n The best score is :', grid_search.best_score_)"
   ]
  },
  {
   "cell_type": "markdown",
   "metadata": {
    "id": "U5af3cIkJjJs"
   },
   "source": [
    "As conclusion  we can see that best parameters are 'criterion': 'gini', 'max_depth': 6"
   ]
  },
  {
   "cell_type": "code",
   "execution_count": 43,
   "metadata": {
    "colab": {
     "base_uri": "https://localhost:8080/"
    },
    "id": "iCssblMbJjJs",
    "outputId": "03d9ea03-b19e-4f41-989a-5781eab4e07a"
   },
   "outputs": [
    {
     "data": {
      "text/plain": [
       "DecisionTreeClassifier(max_depth=6, random_state=1024)"
      ]
     },
     "execution_count": 43,
     "metadata": {},
     "output_type": "execute_result"
    }
   ],
   "source": [
    "#Building a decison tree model using these parameters\n",
    "clf = DecisionTreeClassifier(criterion=\"gini\", max_depth=6, random_state=1024)\n",
    "clf.fit(Xtr,Ytr) #Fitting the model with our samples of the train dataset"
   ]
  },
  {
   "cell_type": "markdown",
   "metadata": {
    "id": "7GgVOc3wJjJt"
   },
   "source": [
    "## Naiive Bayes "
   ]
  },
  {
   "cell_type": "code",
   "execution_count": 44,
   "metadata": {
    "colab": {
     "base_uri": "https://localhost:8080/"
    },
    "id": "seEvBim-JjJt",
    "outputId": "9d959077-8611-4ef3-c145-4512264ce0bb"
   },
   "outputs": [
    {
     "data": {
      "text/plain": [
       "ComplementNB()"
      ]
     },
     "execution_count": 44,
     "metadata": {},
     "output_type": "execute_result"
    }
   ],
   "source": [
    "#Building a naive bayes \n",
    "from sklearn.naive_bayes import ComplementNB\n",
    "gnb = ComplementNB()\n",
    "gnb.fit(Xtr,Ytr)"
   ]
  },
  {
   "cell_type": "markdown",
   "metadata": {
    "id": "CBmx54xCJjJt"
   },
   "source": [
    "## Support vector model"
   ]
  },
  {
   "cell_type": "code",
   "execution_count": 45,
   "metadata": {
    "colab": {
     "base_uri": "https://localhost:8080/"
    },
    "id": "CNMRCI0RJjJt",
    "outputId": "b4d0373d-8f58-4f7c-9fb9-0a776aced816"
   },
   "outputs": [
    {
     "data": {
      "text/plain": [
       "SVC(C=10, gamma=0.001, kernel='linear')"
      ]
     },
     "execution_count": 45,
     "metadata": {},
     "output_type": "execute_result"
    }
   ],
   "source": [
    "#Building Svm model\n",
    "from sklearn.svm import SVC\n",
    "from sklearn.metrics import accuracy_score\n",
    "\n",
    "svm = SVC(kernel='linear', gamma=0.001, C=10)\n",
    "svm.fit(Xtr,Ytr)"
   ]
  },
  {
   "cell_type": "markdown",
   "metadata": {
    "id": "TMJ7IiyhJjJt"
   },
   "source": [
    "# Test"
   ]
  },
  {
   "cell_type": "markdown",
   "metadata": {
    "id": "sMvpoavXJjJu"
   },
   "source": [
    "#### Now we will repeat all the preprocessing we made on the train dataset on the test dataset"
   ]
  },
  {
   "cell_type": "code",
   "execution_count": 46,
   "metadata": {
    "id": "lVRNmIfsJjJu"
   },
   "outputs": [],
   "source": [
    "#Reading the test dataset\n",
    "df1 = pd.read_csv('test_new.csv')"
   ]
  },
  {
   "cell_type": "code",
   "execution_count": 47,
   "metadata": {
    "id": "GSneVf7ZJjJu"
   },
   "outputs": [],
   "source": [
    "#Defining _id that hold the values of the Ids\n",
    "_id= df1['id']"
   ]
  },
  {
   "cell_type": "code",
   "execution_count": 48,
   "metadata": {
    "id": "WYdjo7mXJjJu"
   },
   "outputs": [],
   "source": [
    "df1['urgency_text'] = df1['urgency_text'].replace({\n",
    "    'Quantité limitée !' : 'Limited Quantity', \n",
    "    'Réduction sur les achats en gros': 'Wholesale discount', \n",
    "    np.nan: 'None'\n",
    "})"
   ]
  },
  {
   "cell_type": "code",
   "execution_count": 49,
   "metadata": {
    "id": "74sDidV7JjJu"
   },
   "outputs": [],
   "source": [
    "#Droping unuseful data\n",
    "df1.drop('tags',axis='columns', inplace=True)\n",
    "df1.drop('shipping_option_name',axis='columns', inplace=True)\n",
    "df1.drop('merchant_title',axis='columns', inplace=True)\n",
    "df1.drop('merchant_name',axis='columns', inplace=True)\n",
    "df1.drop('merchant_info_subtitle',axis='columns', inplace=True)\n",
    "df1.drop('merchant_profile_picture',axis='columns', inplace=True)\n",
    "df1.drop('urgency_text',axis='columns', inplace=True)\n",
    "df1.drop('currency_buyer',axis='columns', inplace=True)\n",
    "df1.drop('merchant_id',axis='columns',inplace=True)\n",
    "df1.drop('crawl_month',axis='columns', inplace=True)\n",
    "df1.drop('theme',axis='columns', inplace=True)\n",
    "df1.drop('id',axis='columns', inplace=True)\n",
    "\n",
    "\n",
    "\n"
   ]
  },
  {
   "cell_type": "code",
   "execution_count": 50,
   "metadata": {
    "id": "NkDiXbcaJjJv"
   },
   "outputs": [],
   "source": [
    "#Filling the Nan values with the most frequent value which is CN\n",
    "df1.loc[:, 'origin_country']=Country.fillna('CN')\n"
   ]
  },
  {
   "cell_type": "code",
   "execution_count": 51,
   "metadata": {
    "colab": {
     "base_uri": "https://localhost:8080/"
    },
    "id": "xN6mDr1MJjJv",
    "outputId": "3607c0e7-90e7-45e7-e525-9779380c6bc6"
   },
   "outputs": [
    {
     "data": {
      "text/plain": [
       "0      NaN\n",
       "1      NaN\n",
       "2      NaN\n",
       "3      NaN\n",
       "4      NaN\n",
       "      ... \n",
       "474    NaN\n",
       "475    NaN\n",
       "476    1.0\n",
       "477    1.0\n",
       "478    1.0\n",
       "Name: has_urgency_banner, Length: 479, dtype: float64"
      ]
     },
     "execution_count": 51,
     "metadata": {},
     "output_type": "execute_result"
    }
   ],
   "source": [
    "Urgency = df1.loc[:,'has_urgency_banner']\n",
    "Urgency"
   ]
  },
  {
   "cell_type": "code",
   "execution_count": 52,
   "metadata": {
    "id": "ySzN2BerJjJv"
   },
   "outputs": [],
   "source": [
    "#Filling the Nan values with zero which express that there was no urgency or troubles with this transaction\n",
    "df1.loc[:, 'has_urgency_banner']=Urgency.fillna(0)"
   ]
  },
  {
   "cell_type": "markdown",
   "metadata": {
    "id": "lOFhtMxWJjJv"
   },
   "source": [
    "### Product Size column\n"
   ]
  },
  {
   "cell_type": "code",
   "execution_count": 53,
   "metadata": {
    "id": "Tt1GY5f5JjJv"
   },
   "outputs": [],
   "source": [
    "#Gathering all the value with the same meaning and replacing its name with its actual name\n",
    "df1['product_variation_size_id'].replace(['S', 'S.', 's', 'Size S', 'Size-S', 'Size S.', 'Suit-S', 'size S','S Pink', 'pants-S', 'US-S', 'SIZE S', 'S (waist58-62cm)', 'Size--S', '25-S', 'Size/S', 'S Diameter 30cm', 'S..', 'S(Pink & Black)'], 'S', inplace=True)\n",
    "df1['product_variation_size_id'].replace(['XS', 'XS.', 'SIZE XS', 'Size-XS'], 'XS', inplace=True)\n",
    "df1['product_variation_size_id'].replace(['XXS', 'XXXS', 'SIZE-XXS', 'Size -XXS', 'Size XXS', 'Size-XXS', 'SIZE XXS'], 'XXS+', inplace=True)\n",
    "df1['product_variation_size_id'].replace(['M', 'M.', 'Size M'], 'M', inplace=True)\n",
    "df1['product_variation_size_id'].replace(['L', 'SizeL', '32/L', 'L.', 'Size-L'], 'L', inplace=True)\n",
    "df1['product_variation_size_id'].replace(['XL', '2XL', '1 PC - XL', 'X   L'], 'XL', inplace=True)\n",
    "df1['product_variation_size_id'].replace(['XXL', '4XL', '2XL', 'Size4XL', '3XL', 'XXXXXL', '1 PC - XL', 'SIZE-4XL', '04-3XL', 'Size-5XL', 'XXXXL', '5XL', 'XXXL'], 'XXL+', inplace=True)\n",
    "size_val_counts = df1['product_variation_size_id'].value_counts()\n",
    "# Select the values where the count is less than 5 and Nans and puting them under category other\n",
    "minority = size_val_counts[size_val_counts <= 5].index\n",
    "df1.loc[df1['product_variation_size_id'].isin(minority), 'product_variation_size_id'] = \"Other\"\n",
    "df1['product_variation_size_id'] = df1['product_variation_size_id'].replace(np.nan, \"Other\")"
   ]
  },
  {
   "cell_type": "code",
   "execution_count": 54,
   "metadata": {
    "colab": {
     "base_uri": "https://localhost:8080/",
     "height": 0
    },
    "id": "PqwkyLNFJjJw",
    "outputId": "4ceae7d5-b17a-478c-f233-15029aa75fe5"
   },
   "outputs": [
    {
     "data": {
      "image/png": "[encoded data removed]",
      "text/plain": [
       "<Figure size 576x288 with 1 Axes>"
      ]
     },
     "metadata": {
      "needs_background": "light"
     },
     "output_type": "display_data"
    }
   ],
   "source": [
    "#ploting size column after handling it\n",
    "plt.figure(figsize=(8, 4))\n",
    "ax = sns.countplot(x = 'product_variation_size_id',\n",
    "                   order = df1['product_variation_size_id'].value_counts().index,\n",
    "                   palette= \"Set2\",\n",
    "                   data=df1)\n",
    "ax.set(xlabel='Size', ylabel='Count')\n",
    "\n",
    "plt.show()"
   ]
  },
  {
   "cell_type": "markdown",
   "metadata": {
    "id": "8S5asK2KJjJw"
   },
   "source": [
    "### Product Color column"
   ]
  },
  {
   "cell_type": "code",
   "execution_count": 55,
   "metadata": {
    "id": "lqL-1-gOJjJw"
   },
   "outputs": [],
   "source": [
    "#Fixing the colors column\n",
    "df1['product_color'] = df1.product_color.apply(switch)\n"
   ]
  },
  {
   "cell_type": "code",
   "execution_count": 56,
   "metadata": {
    "colab": {
     "base_uri": "https://localhost:8080/",
     "height": 0
    },
    "id": "Iny6A2KJJjJw",
    "outputId": "292bf89a-261e-407f-b53b-c61162f6390d"
   },
   "outputs": [
    {
     "data": {
      "image/png": "[encoded data removed]",
      "text/plain": [
       "<Figure size 504x432 with 1 Axes>"
      ]
     },
     "metadata": {
      "needs_background": "light"
     },
     "output_type": "display_data"
    }
   ],
   "source": [
    "plt.figure(figsize=(7, 6))\n",
    "ax = sns.countplot(x = 'product_color',\n",
    "                   order = df1['product_color'].value_counts().index,\n",
    "                   palette= \"Set2\",\n",
    "                   data=df1)\n",
    "ax.set(xlabel='Color', ylabel='Count')\n",
    "plt.xticks(rotation=90, ha='right')\n",
    "plt.show()"
   ]
  },
  {
   "cell_type": "markdown",
   "metadata": {
    "id": "3Ajk-a-VJjJx"
   },
   "source": [
    "## One-Hot Encoding"
   ]
  },
  {
   "cell_type": "code",
   "execution_count": 58,
   "metadata": {
    "id": "qnjiOPfRJjJx"
   },
   "outputs": [],
   "source": [
    "#One_hot encoding for categorical data\n",
    "df1 = pd.get_dummies(df1, columns = ['product_variation_size_id','product_color','origin_country'])"
   ]
  },
  {
   "cell_type": "code",
   "execution_count": 59,
   "metadata": {
    "colab": {
     "base_uri": "https://localhost:8080/"
    },
    "id": "gYqu40KyJjJx",
    "outputId": "f0e47c6a-3816-4092-9c2c-1feacd49672b"
   },
   "outputs": [
    {
     "data": {
      "text/plain": [
       "Index(['price', 'retail_price', 'units_sold', 'uses_ad_boosts', 'rating_count',\n",
       "       'badges_count', 'badge_local_product', 'badge_product_quality',\n",
       "       'badge_fast_shipping', 'product_variation_inventory',\n",
       "       'shipping_option_price', 'shipping_is_express', 'countries_shipped_to',\n",
       "       'inventory_total', 'has_urgency_banner', 'merchant_rating_count',\n",
       "       'merchant_rating', 'merchant_has_profile_picture',\n",
       "       'product_variation_size_id_L', 'product_variation_size_id_M',\n",
       "       'product_variation_size_id_Other', 'product_variation_size_id_S',\n",
       "       'product_variation_size_id_XL', 'product_variation_size_id_XS',\n",
       "       'product_variation_size_id_XXL+', 'product_variation_size_id_XXS+',\n",
       "       'product_color_black', 'product_color_blue', 'product_color_brown',\n",
       "       'product_color_dual', 'product_color_green', 'product_color_grey',\n",
       "       'product_color_orange', 'product_color_other', 'product_color_pink',\n",
       "       'product_color_purple', 'product_color_red', 'product_color_white',\n",
       "       'product_color_yellow', 'origin_country_CN', 'origin_country_GB',\n",
       "       'origin_country_SG', 'origin_country_US', 'origin_country_VE'],\n",
       "      dtype='object')"
      ]
     },
     "execution_count": 59,
     "metadata": {},
     "output_type": "execute_result"
    }
   ],
   "source": [
    "df1.columns"
   ]
  },
  {
   "cell_type": "code",
   "execution_count": 61,
   "metadata": {
    "colab": {
     "base_uri": "https://localhost:8080/"
    },
    "id": "_PAMmMR_JjJx",
    "outputId": "2d1e1489-7a48-4858-bb51-04b0cb978e59"
   },
   "outputs": [
    {
     "data": {
      "text/plain": [
       "(479, 44)"
      ]
     },
     "execution_count": 61,
     "metadata": {},
     "output_type": "execute_result"
    }
   ],
   "source": [
    "Xts=df1.loc[:]\n",
    " \n",
    "Xts.shape"
   ]
  },
  {
   "cell_type": "code",
   "execution_count": 62,
   "metadata": {
    "id": "-KMdfmnKJjJy"
   },
   "outputs": [],
   "source": [
    "#Scaling \n",
    "Xts = scaler.fit_transform(Xts)"
   ]
  },
  {
   "cell_type": "code",
   "execution_count": 63,
   "metadata": {
    "colab": {
     "base_uri": "https://localhost:8080/"
    },
    "id": "rd9b-2eqJjJy",
    "outputId": "183d06b7-8a22-4ef6-d4d3-801a8ae0aed6"
   },
   "outputs": [
    {
     "name": "stdout",
     "output_type": "stream",
     "text": [
      "[1. 4. 4. 4. 4. 5. 4. 4. 4. 4. 4. 4. 4. 4. 4. 4. 5. 4. 4. 5. 4. 5. 4. 4.\n",
      " 4. 4. 4. 4. 4. 4. 4. 4. 4. 4. 4. 4. 4. 4. 4. 4. 5. 4. 4. 4. 4. 4. 5. 4.\n",
      " 4. 4. 4. 5. 4. 4. 4. 4. 4. 4. 4. 4. 4. 4. 4. 4. 4. 4. 4. 4. 4. 4. 4. 4.\n",
      " 4. 4. 4. 4. 4. 4. 4. 4. 4. 4. 4. 4. 4. 4. 4. 4. 4. 4. 5. 4. 3. 5. 4. 4.\n",
      " 4. 4. 4. 4. 4. 4. 4. 4. 5. 4. 4. 4. 4. 4. 4. 4. 4. 5. 4. 4. 4. 4. 5. 4.\n",
      " 4. 4. 4. 4. 4. 4. 4. 4. 4. 4. 4. 4. 4. 4. 4. 4. 4. 4. 4. 4. 5. 4. 5. 4.\n",
      " 5. 4. 4. 4. 4. 4. 4. 4. 4. 4. 4. 4. 4. 4. 4. 4. 4. 4. 4. 4. 4. 4. 4. 4.\n",
      " 4. 4. 4. 5. 4. 4. 4. 4. 4. 4. 4. 4. 4. 4. 4. 4. 4. 4. 4. 4. 4. 4. 4. 4.\n",
      " 4. 4. 4. 4. 4. 4. 3. 4. 4. 4. 4. 4. 4. 4. 4. 4. 4. 2. 4. 3. 4. 4. 4. 4.\n",
      " 4. 4. 4. 4. 4. 4. 5. 4. 4. 4. 4. 4. 5. 4. 4. 4. 4. 4. 4. 4. 4. 4. 4. 4.\n",
      " 4. 4. 3. 5. 4. 4. 4. 4. 4. 4. 3. 4. 4. 4. 4. 4. 4. 4. 4. 4. 4. 4. 4. 4.\n",
      " 4. 4. 4. 4. 4. 4. 4. 4. 4. 4. 4. 4. 4. 4. 4. 4. 4. 4. 4. 4. 4. 4. 4. 4.\n",
      " 4. 4. 4. 4. 4. 4. 4. 4. 4. 4. 4. 4. 4. 4. 4. 4. 4. 4. 5. 4. 4. 4. 4. 4.\n",
      " 4. 4. 4. 4. 5. 4. 4. 4. 4. 4. 4. 4. 4. 4. 4. 4. 1. 5. 4. 4. 4. 4. 4. 4.\n",
      " 4. 4. 4. 5. 4. 4. 4. 5. 4. 4. 4. 4. 4. 4. 4. 4. 4. 4. 4. 4. 4. 4. 4. 4.\n",
      " 4. 4. 4. 4. 4. 5. 4. 4. 4. 4. 4. 5. 4. 4. 4. 4. 4. 4. 3. 4. 4. 4. 4. 4.\n",
      " 4. 4. 2. 4. 4. 4. 4. 5. 4. 4. 5. 5. 4. 4. 4. 4. 4. 4. 4. 4. 5. 5. 4. 4.\n",
      " 5. 4. 4. 5. 4. 4. 4. 4. 3. 4. 5. 4. 4. 4. 4. 4. 4. 4. 4. 4. 4. 4. 4. 4.\n",
      " 4. 4. 4. 4. 4. 4. 4. 5. 4. 4. 4. 4. 4. 4. 4. 4. 4. 4. 4. 4. 4. 4. 4. 4.\n",
      " 4. 4. 4. 4. 4. 4. 4. 4. 4. 4. 4. 4. 4. 4. 4. 4. 4. 4. 4. 4. 5. 4. 4.]\n"
     ]
    }
   ],
   "source": [
    "#Predicting using decision tree model\n",
    "prediction = clf.predict(Xts)\n",
    "print(prediction)"
   ]
  },
  {
   "cell_type": "code",
   "execution_count": 64,
   "metadata": {
    "colab": {
     "base_uri": "https://localhost:8080/"
    },
    "id": "3rEiysvHJjJy",
    "outputId": "caceebc0-b8f5-4412-ec84-9746cf148ea1"
   },
   "outputs": [
    {
     "name": "stdout",
     "output_type": "stream",
     "text": [
      "[3. 5. 3. 4. 4. 4. 3. 4. 4. 4. 4. 4. 3. 4. 5. 4. 5. 4. 3. 4. 4. 4. 5. 3.\n",
      " 4. 3. 4. 5. 4. 4. 4. 4. 3. 4. 5. 4. 4. 4. 5. 3. 5. 4. 4. 4. 4. 3. 4. 3.\n",
      " 3. 4. 4. 5. 2. 4. 4. 4. 4. 4. 4. 4. 5. 4. 4. 4. 3. 4. 4. 3. 4. 4. 3. 4.\n",
      " 3. 4. 4. 2. 4. 4. 4. 4. 3. 5. 4. 4. 3. 3. 4. 4. 4. 5. 5. 4. 3. 4. 5. 5.\n",
      " 3. 5. 5. 4. 4. 4. 4. 4. 3. 3. 3. 4. 3. 4. 3. 3. 4. 5. 2. 5. 5. 3. 5. 4.\n",
      " 2. 4. 4. 4. 4. 5. 4. 4. 4. 4. 3. 4. 4. 5. 5. 4. 4. 4. 5. 4. 4. 4. 4. 5.\n",
      " 5. 4. 4. 4. 3. 4. 4. 3. 4. 4. 3. 4. 3. 4. 3. 4. 4. 5. 4. 5. 4. 4. 4. 3.\n",
      " 5. 5. 4. 4. 5. 4. 4. 3. 5. 4. 4. 4. 5. 4. 4. 4. 4. 3. 4. 5. 4. 3. 4. 3.\n",
      " 4. 4. 4. 5. 4. 3. 3. 4. 4. 5. 4. 4. 4. 4. 4. 5. 5. 4. 5. 2. 4. 5. 5. 4.\n",
      " 4. 3. 4. 3. 5. 4. 4. 4. 5. 4. 5. 4. 5. 4. 4. 4. 4. 4. 5. 4. 4. 4. 4. 4.\n",
      " 5. 3. 3. 5. 4. 5. 3. 3. 3. 3. 3. 5. 3. 3. 5. 5. 4. 2. 4. 3. 5. 4. 4. 4.\n",
      " 4. 4. 4. 5. 3. 5. 4. 4. 5. 3. 4. 4. 4. 4. 4. 3. 4. 4. 4. 4. 4. 5. 4. 3.\n",
      " 4. 4. 4. 5. 4. 5. 4. 3. 4. 4. 4. 5. 3. 4. 3. 4. 4. 5. 4. 5. 4. 4. 3. 4.\n",
      " 4. 3. 3. 3. 5. 3. 4. 4. 4. 4. 3. 3. 5. 4. 5. 3. 5. 4. 4. 4. 3. 4. 3. 4.\n",
      " 4. 4. 4. 5. 5. 4. 3. 4. 4. 4. 4. 4. 3. 4. 3. 3. 3. 4. 4. 4. 4. 4. 5. 4.\n",
      " 4. 4. 5. 3. 4. 4. 3. 4. 5. 5. 4. 3. 4. 4. 3. 4. 5. 5. 3. 3. 4. 4. 3. 4.\n",
      " 4. 4. 4. 3. 4. 4. 4. 5. 4. 4. 4. 4. 3. 4. 5. 4. 3. 4. 5. 4. 5. 5. 4. 3.\n",
      " 5. 4. 4. 4. 4. 4. 3. 4. 4. 5. 4. 3. 5. 4. 4. 5. 5. 4. 5. 4. 4. 4. 4. 4.\n",
      " 4. 5. 4. 3. 3. 5. 5. 5. 3. 4. 4. 4. 4. 5. 4. 5. 4. 4. 4. 4. 4. 3. 4. 3.\n",
      " 3. 5. 4. 3. 4. 4. 4. 4. 4. 4. 4. 4. 4. 4. 5. 4. 5. 4. 4. 4. 3. 5. 3.]\n"
     ]
    }
   ],
   "source": [
    "#predicting using naive model\n",
    "prediction1 = gnb.predict(Xts)\n",
    "print(prediction1)"
   ]
  },
  {
   "cell_type": "code",
   "execution_count": 65,
   "metadata": {
    "colab": {
     "base_uri": "https://localhost:8080/"
    },
    "id": "epEw86AnJjJy",
    "outputId": "fc5f2ea2-90b4-4409-fe94-ff74dfe0c205"
   },
   "outputs": [
    {
     "name": "stdout",
     "output_type": "stream",
     "text": [
      "[1. 4. 4. 4. 4. 4. 4. 4. 4. 4. 4. 4. 4. 4. 4. 4. 4. 4. 4. 4. 4. 4. 4. 4.\n",
      " 4. 4. 4. 5. 4. 4. 4. 4. 4. 4. 4. 4. 4. 4. 4. 4. 5. 4. 4. 4. 4. 4. 4. 4.\n",
      " 4. 4. 4. 4. 4. 4. 4. 4. 4. 4. 4. 4. 5. 4. 4. 4. 4. 4. 4. 4. 4. 4. 4. 4.\n",
      " 4. 4. 4. 4. 4. 4. 4. 4. 4. 4. 4. 4. 4. 4. 4. 4. 4. 5. 4. 4. 4. 4. 4. 4.\n",
      " 4. 4. 4. 4. 4. 4. 4. 4. 4. 4. 4. 4. 4. 4. 4. 4. 4. 5. 4. 4. 4. 4. 4. 4.\n",
      " 4. 4. 4. 4. 4. 4. 4. 4. 4. 4. 4. 4. 4. 4. 4. 4. 4. 4. 4. 4. 4. 4. 4. 5.\n",
      " 5. 4. 4. 4. 4. 4. 4. 4. 4. 4. 4. 4. 4. 4. 4. 4. 4. 4. 4. 4. 4. 4. 4. 4.\n",
      " 4. 5. 4. 4. 5. 4. 4. 4. 4. 4. 4. 4. 4. 4. 4. 4. 4. 4. 4. 4. 4. 4. 4. 4.\n",
      " 4. 4. 4. 4. 4. 4. 4. 4. 4. 5. 4. 4. 4. 4. 4. 4. 4. 4. 4. 4. 4. 4. 5. 4.\n",
      " 4. 4. 4. 4. 4. 4. 4. 4. 4. 4. 4. 4. 5. 4. 4. 4. 4. 4. 4. 4. 4. 4. 4. 4.\n",
      " 4. 4. 4. 4. 4. 4. 4. 4. 4. 4. 4. 4. 4. 4. 4. 4. 4. 2. 4. 4. 4. 4. 4. 4.\n",
      " 4. 4. 4. 4. 4. 4. 4. 4. 4. 4. 4. 4. 4. 4. 4. 4. 4. 4. 4. 4. 4. 5. 4. 4.\n",
      " 4. 4. 4. 4. 4. 4. 4. 4. 4. 4. 4. 4. 4. 4. 4. 4. 4. 5. 4. 4. 4. 4. 4. 4.\n",
      " 4. 4. 4. 4. 4. 4. 4. 4. 4. 4. 4. 4. 4. 4. 5. 4. 4. 4. 4. 4. 4. 4. 4. 4.\n",
      " 4. 4. 4. 5. 4. 4. 4. 4. 4. 4. 4. 4. 4. 4. 4. 4. 4. 4. 4. 4. 4. 4. 5. 4.\n",
      " 4. 4. 4. 4. 4. 4. 4. 4. 4. 4. 4. 4. 4. 4. 4. 4. 4. 4. 4. 4. 4. 4. 4. 4.\n",
      " 4. 4. 4. 4. 4. 4. 4. 4. 4. 4. 4. 4. 4. 4. 4. 4. 4. 4. 5. 4. 5. 4. 4. 4.\n",
      " 4. 4. 4. 4. 4. 4. 4. 4. 4. 4. 4. 4. 5. 4. 4. 4. 4. 4. 2. 4. 4. 4. 4. 4.\n",
      " 4. 4. 4. 4. 4. 4. 5. 5. 4. 4. 4. 4. 4. 4. 4. 4. 4. 4. 4. 4. 4. 4. 4. 4.\n",
      " 4. 4. 4. 4. 4. 4. 4. 4. 4. 4. 4. 4. 4. 4. 4. 4. 5. 4. 4. 4. 4. 4. 4.]\n"
     ]
    }
   ],
   "source": [
    "#Predicting using Svm model\n",
    "prediction2 = svm.predict(Xts)\n",
    "print(prediction2)"
   ]
  },
  {
   "cell_type": "code",
   "execution_count": 66,
   "metadata": {
    "id": "s1zq2lMcJjJ0"
   },
   "outputs": [],
   "source": [
    "#saving the prediction in the file\n",
    "pred_df = pd.DataFrame(data={'id': _id, 'rating': prediction})\n",
    "\n",
    "pred_df.to_csv('pred_walkthroughT.csv', index=False)"
   ]
  },
  {
   "cell_type": "code",
   "execution_count": 67,
   "metadata": {
    "id": "0zqyEfMhJjJ0"
   },
   "outputs": [],
   "source": [
    "#saving the prediction in the file\n",
    "pred_df = pd.DataFrame(data={'id': _id, 'rating': prediction1})\n",
    "\n",
    "pred_df.to_csv('pred_walkthroughN.csv', index=False)"
   ]
  },
  {
   "cell_type": "code",
   "execution_count": 68,
   "metadata": {
    "id": "QjilW3olJjJ0"
   },
   "outputs": [],
   "source": [
    "#saving the prediction in the file\n",
    "pred_df = pd.DataFrame(data={'id': _id, 'rating': prediction2})\n",
    "\n",
    "pred_df.to_csv('pred_walkthroughS.csv', index=False)"
   ]
  },
  {
   "cell_type": "markdown",
   "metadata": {
    "id": "BNUeKDUyJjJ0"
   },
   "source": [
    "###### The F1 score is 0.77824 for decision tree ,  0.77405 for svm  and 0.61506 for naive from our observation that we need to add more features to improve the performance of our model and that naiive bayes cannot preform well at all in our case ☹"
   ]
  },
  {
   "cell_type": "markdown",
   "metadata": {
    "id": "uBjlHn9vJjJ0"
   },
   "source": [
    "# Second 2nd Trial"
   ]
  },
  {
   "cell_type": "markdown",
   "metadata": {
    "id": "ZjiRAaSpJjJ0"
   },
   "source": [
    "Now we will try to add features and try different models (Decision tree, Svm)"
   ]
  },
  {
   "cell_type": "markdown",
   "metadata": {
    "id": "OxisahbAJjJ1"
   },
   "source": [
    "# Train dataset"
   ]
  },
  {
   "cell_type": "markdown",
   "metadata": {
    "id": "Er6w--ENJjJ1"
   },
   "source": [
    "###### We can get more information from price and retail price expecting percent discount calculated from these two variable has a positive correlation with the number of unit solds."
   ]
  },
  {
   "cell_type": "code",
   "execution_count": 69,
   "metadata": {
    "id": "hcJfE5TBF-rl"
   },
   "outputs": [],
   "source": [
    "#Reading the train dataset\n",
    "df = pd.read_csv('train_new.csv')"
   ]
  },
  {
   "cell_type": "code",
   "execution_count": 70,
   "metadata": {
    "id": "OmNU2qnSGEbW"
   },
   "outputs": [],
   "source": [
    "#Letting the rates in range between 1 to 5\n",
    "df=df.loc[df['rating'].isin([1,2,3,4,5])]"
   ]
  },
  {
   "cell_type": "code",
   "execution_count": 71,
   "metadata": {
    "colab": {
     "base_uri": "https://localhost:8080/",
     "height": 364
    },
    "id": "xDoVfcCcGGIr",
    "outputId": "300fa459-8f2a-40a3-dc3f-0e8df903cf5a"
   },
   "outputs": [
    {
     "data": {
      "text/html": [
       "\n",
       "  <div id=\"df-721cd128-a1fc-4a11-a267-0c2b80b8f505\">\n",
       "    <div class=\"colab-df-container\">\n",
       "      <div>\n",
       "<style scoped>\n",
       "    .dataframe tbody tr th:only-of-type {\n",
       "        vertical-align: middle;\n",
       "    }\n",
       "\n",
       "    .dataframe tbody tr th {\n",
       "        vertical-align: top;\n",
       "    }\n",
       "\n",
       "    .dataframe thead th {\n",
       "        text-align: right;\n",
       "    }\n",
       "</style>\n",
       "<table border=\"1\" class=\"dataframe\">\n",
       "  <thead>\n",
       "    <tr style=\"text-align: right;\">\n",
       "      <th></th>\n",
       "      <th>price</th>\n",
       "      <th>retail_price</th>\n",
       "      <th>units_sold</th>\n",
       "      <th>uses_ad_boosts</th>\n",
       "      <th>rating</th>\n",
       "      <th>rating_count</th>\n",
       "      <th>badges_count</th>\n",
       "      <th>badge_local_product</th>\n",
       "      <th>badge_product_quality</th>\n",
       "      <th>badge_fast_shipping</th>\n",
       "      <th>product_variation_inventory</th>\n",
       "      <th>shipping_option_price</th>\n",
       "      <th>shipping_is_express</th>\n",
       "      <th>countries_shipped_to</th>\n",
       "      <th>inventory_total</th>\n",
       "      <th>has_urgency_banner</th>\n",
       "      <th>merchant_rating_count</th>\n",
       "      <th>merchant_rating</th>\n",
       "      <th>merchant_has_profile_picture</th>\n",
       "      <th>id</th>\n",
       "    </tr>\n",
       "  </thead>\n",
       "  <tbody>\n",
       "    <tr>\n",
       "      <th>count</th>\n",
       "      <td>1093.000000</td>\n",
       "      <td>1093.000000</td>\n",
       "      <td>1093.000000</td>\n",
       "      <td>1093.000000</td>\n",
       "      <td>1093.000000</td>\n",
       "      <td>1093.000000</td>\n",
       "      <td>1093.000000</td>\n",
       "      <td>1093.000000</td>\n",
       "      <td>1093.000000</td>\n",
       "      <td>1093.000000</td>\n",
       "      <td>1093.000000</td>\n",
       "      <td>1093.000000</td>\n",
       "      <td>1093.000000</td>\n",
       "      <td>1093.000000</td>\n",
       "      <td>1093.000000</td>\n",
       "      <td>349.0</td>\n",
       "      <td>1.093000e+03</td>\n",
       "      <td>1093.000000</td>\n",
       "      <td>1093.000000</td>\n",
       "      <td>1093.000000</td>\n",
       "    </tr>\n",
       "    <tr>\n",
       "      <th>mean</th>\n",
       "      <td>8.283568</td>\n",
       "      <td>23.695334</td>\n",
       "      <td>4522.704483</td>\n",
       "      <td>0.432754</td>\n",
       "      <td>4.004575</td>\n",
       "      <td>916.355901</td>\n",
       "      <td>0.113449</td>\n",
       "      <td>0.019213</td>\n",
       "      <td>0.083257</td>\n",
       "      <td>0.010979</td>\n",
       "      <td>32.835316</td>\n",
       "      <td>2.335773</td>\n",
       "      <td>0.001830</td>\n",
       "      <td>40.483989</td>\n",
       "      <td>49.892955</td>\n",
       "      <td>1.0</td>\n",
       "      <td>2.678107e+04</td>\n",
       "      <td>4.036020</td>\n",
       "      <td>0.155535</td>\n",
       "      <td>772.806038</td>\n",
       "    </tr>\n",
       "    <tr>\n",
       "      <th>std</th>\n",
       "      <td>3.836460</td>\n",
       "      <td>31.812401</td>\n",
       "      <td>9829.196136</td>\n",
       "      <td>0.495684</td>\n",
       "      <td>0.582857</td>\n",
       "      <td>2038.307907</td>\n",
       "      <td>0.347588</td>\n",
       "      <td>0.137336</td>\n",
       "      <td>0.276397</td>\n",
       "      <td>0.104251</td>\n",
       "      <td>21.444202</td>\n",
       "      <td>1.003552</td>\n",
       "      <td>0.042757</td>\n",
       "      <td>20.205469</td>\n",
       "      <td>2.015161</td>\n",
       "      <td>0.0</td>\n",
       "      <td>8.620109e+04</td>\n",
       "      <td>0.200409</td>\n",
       "      <td>0.362580</td>\n",
       "      <td>453.559910</td>\n",
       "    </tr>\n",
       "    <tr>\n",
       "      <th>min</th>\n",
       "      <td>1.000000</td>\n",
       "      <td>2.000000</td>\n",
       "      <td>1.000000</td>\n",
       "      <td>0.000000</td>\n",
       "      <td>1.000000</td>\n",
       "      <td>0.000000</td>\n",
       "      <td>0.000000</td>\n",
       "      <td>0.000000</td>\n",
       "      <td>0.000000</td>\n",
       "      <td>0.000000</td>\n",
       "      <td>1.000000</td>\n",
       "      <td>1.000000</td>\n",
       "      <td>0.000000</td>\n",
       "      <td>8.000000</td>\n",
       "      <td>1.000000</td>\n",
       "      <td>1.0</td>\n",
       "      <td>4.000000e+00</td>\n",
       "      <td>2.941176</td>\n",
       "      <td>0.000000</td>\n",
       "      <td>2.000000</td>\n",
       "    </tr>\n",
       "    <tr>\n",
       "      <th>25%</th>\n",
       "      <td>5.830000</td>\n",
       "      <td>7.000000</td>\n",
       "      <td>100.000000</td>\n",
       "      <td>0.000000</td>\n",
       "      <td>4.000000</td>\n",
       "      <td>24.000000</td>\n",
       "      <td>0.000000</td>\n",
       "      <td>0.000000</td>\n",
       "      <td>0.000000</td>\n",
       "      <td>0.000000</td>\n",
       "      <td>6.000000</td>\n",
       "      <td>2.000000</td>\n",
       "      <td>0.000000</td>\n",
       "      <td>31.000000</td>\n",
       "      <td>50.000000</td>\n",
       "      <td>1.0</td>\n",
       "      <td>1.926000e+03</td>\n",
       "      <td>3.918367</td>\n",
       "      <td>0.000000</td>\n",
       "      <td>383.000000</td>\n",
       "    </tr>\n",
       "    <tr>\n",
       "      <th>50%</th>\n",
       "      <td>8.000000</td>\n",
       "      <td>10.000000</td>\n",
       "      <td>1000.000000</td>\n",
       "      <td>0.000000</td>\n",
       "      <td>4.000000</td>\n",
       "      <td>144.000000</td>\n",
       "      <td>0.000000</td>\n",
       "      <td>0.000000</td>\n",
       "      <td>0.000000</td>\n",
       "      <td>0.000000</td>\n",
       "      <td>50.000000</td>\n",
       "      <td>2.000000</td>\n",
       "      <td>0.000000</td>\n",
       "      <td>40.000000</td>\n",
       "      <td>50.000000</td>\n",
       "      <td>1.0</td>\n",
       "      <td>8.225000e+03</td>\n",
       "      <td>4.045170</td>\n",
       "      <td>0.000000</td>\n",
       "      <td>753.000000</td>\n",
       "    </tr>\n",
       "    <tr>\n",
       "      <th>75%</th>\n",
       "      <td>11.000000</td>\n",
       "      <td>26.000000</td>\n",
       "      <td>5000.000000</td>\n",
       "      <td>1.000000</td>\n",
       "      <td>4.000000</td>\n",
       "      <td>846.000000</td>\n",
       "      <td>0.000000</td>\n",
       "      <td>0.000000</td>\n",
       "      <td>0.000000</td>\n",
       "      <td>0.000000</td>\n",
       "      <td>50.000000</td>\n",
       "      <td>3.000000</td>\n",
       "      <td>0.000000</td>\n",
       "      <td>43.000000</td>\n",
       "      <td>50.000000</td>\n",
       "      <td>1.0</td>\n",
       "      <td>2.276500e+04</td>\n",
       "      <td>4.166509</td>\n",
       "      <td>0.000000</td>\n",
       "      <td>1167.000000</td>\n",
       "    </tr>\n",
       "    <tr>\n",
       "      <th>max</th>\n",
       "      <td>27.000000</td>\n",
       "      <td>252.000000</td>\n",
       "      <td>100000.000000</td>\n",
       "      <td>1.000000</td>\n",
       "      <td>5.000000</td>\n",
       "      <td>20744.000000</td>\n",
       "      <td>3.000000</td>\n",
       "      <td>1.000000</td>\n",
       "      <td>1.000000</td>\n",
       "      <td>1.000000</td>\n",
       "      <td>50.000000</td>\n",
       "      <td>7.000000</td>\n",
       "      <td>1.000000</td>\n",
       "      <td>140.000000</td>\n",
       "      <td>50.000000</td>\n",
       "      <td>1.0</td>\n",
       "      <td>2.174765e+06</td>\n",
       "      <td>4.577519</td>\n",
       "      <td>1.000000</td>\n",
       "      <td>1572.000000</td>\n",
       "    </tr>\n",
       "  </tbody>\n",
       "</table>\n",
       "</div>\n",
       "      <button class=\"colab-df-convert\" onclick=\"convertToInteractive('df-721cd128-a1fc-4a11-a267-0c2b80b8f505')\"\n",
       "              title=\"Convert this dataframe to an interactive table.\"\n",
       "              style=\"display:none;\">\n",
       "        \n",
       "  <svg xmlns=\"http://www.w3.org/2000/svg\" height=\"24px\"viewBox=\"0 0 24 24\"\n",
       "       width=\"24px\">\n",
       "    <path d=\"M0 0h24v24H0V0z\" fill=\"none\"/>\n",
       "    <path d=\"M18.56 5.44l.94 2.06.94-2.06 2.06-.94-2.06-.94-.94-2.06-.94 2.06-2.06.94zm-11 1L8.5 8.5l.94-2.06 2.06-.94-2.06-.94L8.5 2.5l-.94 2.06-2.06.94zm10 10l.94 2.06.94-2.06 2.06-.94-2.06-.94-.94-2.06-.94 2.06-2.06.94z\"/><path d=\"M17.41 7.96l-1.37-1.37c-.4-.4-.92-.59-1.43-.59-.52 0-1.04.2-1.43.59L10.3 9.45l-7.72 7.72c-.78.78-.78 2.05 0 2.83L4 21.41c.39.39.9.59 1.41.59.51 0 1.02-.2 1.41-.59l7.78-7.78 2.81-2.81c.8-.78.8-2.07 0-2.86zM5.41 20L4 18.59l7.72-7.72 1.47 1.35L5.41 20z\"/>\n",
       "  </svg>\n",
       "      </button>\n",
       "      \n",
       "  <style>\n",
       "    .colab-df-container {\n",
       "      display:flex;\n",
       "      flex-wrap:wrap;\n",
       "      gap: 12px;\n",
       "    }\n",
       "\n",
       "    .colab-df-convert {\n",
       "      background-color: #E8F0FE;\n",
       "      border: none;\n",
       "      border-radius: 50%;\n",
       "      cursor: pointer;\n",
       "      display: none;\n",
       "      fill: #1967D2;\n",
       "      height: 32px;\n",
       "      padding: 0 0 0 0;\n",
       "      width: 32px;\n",
       "    }\n",
       "\n",
       "    .colab-df-convert:hover {\n",
       "      background-color: #E2EBFA;\n",
       "      box-shadow: 0px 1px 2px rgba(60, 64, 67, 0.3), 0px 1px 3px 1px rgba(60, 64, 67, 0.15);\n",
       "      fill: #174EA6;\n",
       "    }\n",
       "\n",
       "    [theme=dark] .colab-df-convert {\n",
       "      background-color: #3B4455;\n",
       "      fill: #D2E3FC;\n",
       "    }\n",
       "\n",
       "    [theme=dark] .colab-df-convert:hover {\n",
       "      background-color: #434B5C;\n",
       "      box-shadow: 0px 1px 3px 1px rgba(0, 0, 0, 0.15);\n",
       "      filter: drop-shadow(0px 1px 2px rgba(0, 0, 0, 0.3));\n",
       "      fill: #FFFFFF;\n",
       "    }\n",
       "  </style>\n",
       "\n",
       "      <script>\n",
       "        const buttonEl =\n",
       "          document.querySelector('#df-721cd128-a1fc-4a11-a267-0c2b80b8f505 button.colab-df-convert');\n",
       "        buttonEl.style.display =\n",
       "          google.colab.kernel.accessAllowed ? 'block' : 'none';\n",
       "\n",
       "        async function convertToInteractive(key) {\n",
       "          const element = document.querySelector('#df-721cd128-a1fc-4a11-a267-0c2b80b8f505');\n",
       "          const dataTable =\n",
       "            await google.colab.kernel.invokeFunction('convertToInteractive',\n",
       "                                                     [key], {});\n",
       "          if (!dataTable) return;\n",
       "\n",
       "          const docLinkHtml = 'Like what you see? Visit the ' +\n",
       "            '<a target=\"_blank\" href=https://colab.research.google.com/notebooks/data_table.ipynb>data table notebook</a>'\n",
       "            + ' to learn more about interactive tables.';\n",
       "          element.innerHTML = '';\n",
       "          dataTable['output_type'] = 'display_data';\n",
       "          await google.colab.output.renderOutput(dataTable, element);\n",
       "          const docLink = document.createElement('div');\n",
       "          docLink.innerHTML = docLinkHtml;\n",
       "          element.appendChild(docLink);\n",
       "        }\n",
       "      </script>\n",
       "    </div>\n",
       "  </div>\n",
       "  "
      ],
      "text/plain": [
       "             price  retail_price  ...  merchant_has_profile_picture           id\n",
       "count  1093.000000   1093.000000  ...                   1093.000000  1093.000000\n",
       "mean      8.283568     23.695334  ...                      0.155535   772.806038\n",
       "std       3.836460     31.812401  ...                      0.362580   453.559910\n",
       "min       1.000000      2.000000  ...                      0.000000     2.000000\n",
       "25%       5.830000      7.000000  ...                      0.000000   383.000000\n",
       "50%       8.000000     10.000000  ...                      0.000000   753.000000\n",
       "75%      11.000000     26.000000  ...                      0.000000  1167.000000\n",
       "max      27.000000    252.000000  ...                      1.000000  1572.000000\n",
       "\n",
       "[8 rows x 20 columns]"
      ]
     },
     "execution_count": 71,
     "metadata": {},
     "output_type": "execute_result"
    }
   ],
   "source": [
    "#Checking more details about our data\n",
    "df.describe()"
   ]
  },
  {
   "cell_type": "code",
   "execution_count": 72,
   "metadata": {
    "colab": {
     "base_uri": "https://localhost:8080/"
    },
    "id": "qLzCkXx9GJSj",
    "outputId": "f302f60f-2cc4-43b8-8cc2-c620f1e140ca"
   },
   "outputs": [
    {
     "data": {
      "text/plain": [
       "price                             0\n",
       "retail_price                      0\n",
       "currency_buyer                    0\n",
       "units_sold                        0\n",
       "uses_ad_boosts                    0\n",
       "rating                            0\n",
       "rating_count                      0\n",
       "badges_count                      0\n",
       "badge_local_product               0\n",
       "badge_product_quality             0\n",
       "badge_fast_shipping               0\n",
       "tags                              0\n",
       "product_color                    29\n",
       "product_variation_size_id        12\n",
       "product_variation_inventory       0\n",
       "shipping_option_name              0\n",
       "shipping_option_price             0\n",
       "shipping_is_express               0\n",
       "countries_shipped_to              0\n",
       "inventory_total                   0\n",
       "has_urgency_banner              744\n",
       "urgency_text                    744\n",
       "origin_country                   12\n",
       "merchant_title                    0\n",
       "merchant_name                     4\n",
       "merchant_info_subtitle            0\n",
       "merchant_rating_count             0\n",
       "merchant_rating                   0\n",
       "merchant_id                       0\n",
       "merchant_has_profile_picture      0\n",
       "merchant_profile_picture        923\n",
       "theme                             0\n",
       "crawl_month                       0\n",
       "id                                0\n",
       "dtype: int64"
      ]
     },
     "execution_count": 72,
     "metadata": {},
     "output_type": "execute_result"
    }
   ],
   "source": [
    "missing_values_count = df.isnull().sum()\n",
    "\n",
    "# look at the # of missing points in all the coloumns\n",
    "missing_values_count[:]"
   ]
  },
  {
   "cell_type": "code",
   "execution_count": 73,
   "metadata": {
    "id": "DiMO4WR8GNlf"
   },
   "outputs": [],
   "source": [
    "#droping the unnessary column\n",
    "df.drop('tags',axis='columns', inplace=True)\n",
    "df.drop('shipping_option_name',axis='columns', inplace=True)\n",
    "df.drop('merchant_title',axis='columns', inplace=True)\n",
    "df.drop('merchant_name',axis='columns', inplace=True)\n",
    "df.drop('merchant_info_subtitle',axis='columns', inplace=True)\n",
    "df.drop('merchant_profile_picture',axis='columns', inplace=True)\n",
    "df.drop('urgency_text',axis='columns', inplace=True)\n",
    "df.drop('currency_buyer',axis='columns', inplace=True)\n",
    "df.drop('merchant_id',axis='columns',inplace=True)\n",
    "df.drop('crawl_month',axis='columns', inplace=True)\n",
    "df.drop('theme',axis='columns', inplace=True)\n",
    "df.drop('id',axis='columns', inplace=True)"
   ]
  },
  {
   "cell_type": "code",
   "execution_count": 74,
   "metadata": {
    "colab": {
     "base_uri": "https://localhost:8080/"
    },
    "id": "m9OhFQiqGThC",
    "outputId": "59185561-7673-483e-cd5a-551a5d8ec2d7"
   },
   "outputs": [
    {
     "data": {
      "text/plain": [
       "0       CN\n",
       "1       CN\n",
       "2       CN\n",
       "3       CN\n",
       "4       CN\n",
       "        ..\n",
       "1089    CN\n",
       "1090    CN\n",
       "1091    CN\n",
       "1092    CN\n",
       "1093    CN\n",
       "Name: origin_country, Length: 1093, dtype: object"
      ]
     },
     "execution_count": 74,
     "metadata": {},
     "output_type": "execute_result"
    }
   ],
   "source": [
    "\n",
    "subset_df_data = df.loc[:, 'origin_country']\n",
    "subset_df_data"
   ]
  },
  {
   "cell_type": "code",
   "execution_count": 75,
   "metadata": {
    "id": "2IMoHTEiGVlb"
   },
   "outputs": [],
   "source": [
    "#filling the missing values in origin_country columns\n",
    "df.loc[:, 'origin_country']=subset_df_data.fillna('CN')"
   ]
  },
  {
   "cell_type": "code",
   "execution_count": 76,
   "metadata": {
    "id": "VZfdwBteGYin"
   },
   "outputs": [],
   "source": [
    "#Filling the missing values in urgency banner column\n",
    "subset_df_data1 = df.loc[:,'has_urgency_banner']\n",
    "df.loc[:,'has_urgency_banner']=subset_df_data1.fillna(0)"
   ]
  },
  {
   "cell_type": "code",
   "execution_count": 77,
   "metadata": {
    "id": "fL1ESzgzGg0u"
   },
   "outputs": [],
   "source": [
    "#replacing the size valus with its corresponding size category\n",
    "df['product_variation_size_id'].replace(['S', 'S.', 's', 'Size S', 'Size-S', 'Size S.', 'Suit-S', 'size S','S Pink', 'pants-S', 'US-S', 'SIZE S', 'S (waist58-62cm)', 'Size--S', '25-S', 'Size/S', 'S Diameter 30cm', 'S..', 'S(Pink & Black)'], 'S', inplace=True)\n",
    "df['product_variation_size_id'].replace(['XS', 'XS.', 'SIZE XS', 'Size-XS'], 'XS', inplace=True)\n",
    "df['product_variation_size_id'].replace(['XXS', 'XXXS', 'SIZE-XXS', 'Size -XXS', 'Size XXS', 'Size-XXS', 'SIZE XXS'], 'XXS+', inplace=True)\n",
    "df['product_variation_size_id'].replace(['M', 'M.', 'Size M'], 'M', inplace=True)\n",
    "df['product_variation_size_id'].replace(['L', 'SizeL', '32/L', 'L.', 'Size-L'], 'L', inplace=True)\n",
    "df['product_variation_size_id'].replace(['XL', '2XL', '1 PC - XL', 'X   L'], 'XL', inplace=True)\n",
    "df['product_variation_size_id'].replace(['XXL', '4XL', '2XL', 'Size4XL', '3XL', 'XXXXXL', '1 PC - XL', 'SIZE-4XL', '04-3XL', 'Size-5XL', 'XXXXL', '5XL', 'XXXL'], 'XXL+', inplace=True)\n",
    "size_val_counts = df['product_variation_size_id'].value_counts()\n",
    "# Select the values where the count is less than 5 \n",
    "minority = size_val_counts[size_val_counts <= 5].index\n",
    "df.loc[df['product_variation_size_id'].isin(minority), 'product_variation_size_id'] = \"Other\"\n",
    "df['product_variation_size_id'] = df['product_variation_size_id'].replace(np.nan, \"Other\")"
   ]
  },
  {
   "cell_type": "code",
   "execution_count": 78,
   "metadata": {
    "colab": {
     "base_uri": "https://localhost:8080/"
    },
    "id": "OmgGtyXHGlWS",
    "outputId": "e4e0e3db-dcc9-4f72-a073-720584a773b6"
   },
   "outputs": [
    {
     "data": {
      "text/plain": [
       "array(['yellow', 'black', 'white', 'lakeblue', 'apricot', 'brown',\n",
       "       'winered', 'blue', 'red', 'navyblue', 'green', 'khaki', 'White',\n",
       "       'white & green', 'multicolor', 'lightpink', 'pink', 'RED',\n",
       "       'armygreen', 'lightblue', nan, 'coffee', 'grey', 'skyblue',\n",
       "       'watermelonred', 'pink & black', 'whitefloral', 'purple', 'navy',\n",
       "       'pink & white', 'rosered', 'orange', 'Black', 'mintgreen',\n",
       "       'leopardprint', 'gray', 'navy blue', 'star', 'rose', 'lightyellow',\n",
       "       'camouflage', 'black & yellow', 'whitestripe', 'navyblue & white',\n",
       "       'black & blue', 'lightred', 'violet', 'gold', 'black & green',\n",
       "       'white & black', 'burgundy', 'black & white', 'lightgrey',\n",
       "       'coolblack', 'lightgreen', 'beige', 'darkblue', 'darkgreen',\n",
       "       'silver', 'wine red', 'Army green', 'pink & blue', 'rainbow',\n",
       "       'claret', 'floral', 'brown & yellow', 'light green', 'Pink',\n",
       "       'blue & pink', 'dustypink', 'camel', 'orange-red', 'rosegold',\n",
       "       'ivory', 'fluorescentgreen', 'winered & yellow', 'offwhite',\n",
       "       'lightgray', 'wine', 'army', 'applegreen', 'nude', 'pink & grey',\n",
       "       'denimblue', 'blackwhite', 'Blue', 'leopard'], dtype=object)"
      ]
     },
     "execution_count": 78,
     "metadata": {},
     "output_type": "execute_result"
    }
   ],
   "source": [
    "#checking the unique values or colors column\n",
    "colors = df['product_color'].unique()\n",
    "colors"
   ]
  },
  {
   "cell_type": "code",
   "execution_count": 79,
   "metadata": {
    "id": "_sYBtXasGrLb"
   },
   "outputs": [],
   "source": [
    "# convert to lower case\n",
    "df['product_color'] = df['product_color'].str.lower()\n",
    "# remove trailing white spaces\n",
    "df['product_color'] = df['product_color'].str.strip()"
   ]
  },
  {
   "cell_type": "code",
   "execution_count": 80,
   "metadata": {
    "id": "Bd4JbSJUGuda"
   },
   "outputs": [],
   "source": [
    "#Matching each color to its corresponding color category\n",
    "df['product_color'] = df.product_color.apply(switch)"
   ]
  },
  {
   "cell_type": "code",
   "execution_count": 81,
   "metadata": {
    "colab": {
     "base_uri": "https://localhost:8080/"
    },
    "id": "3OWZZL9pG-jT",
    "outputId": "5f437ae1-bb3c-49a6-dc06-39bfbb02157a"
   },
   "outputs": [
    {
     "data": {
      "text/plain": [
       "price                           0\n",
       "retail_price                    0\n",
       "units_sold                      0\n",
       "uses_ad_boosts                  0\n",
       "rating                          0\n",
       "rating_count                    0\n",
       "badges_count                    0\n",
       "badge_local_product             0\n",
       "badge_product_quality           0\n",
       "badge_fast_shipping             0\n",
       "product_color                   0\n",
       "product_variation_size_id       0\n",
       "product_variation_inventory     0\n",
       "shipping_option_price           0\n",
       "shipping_is_express             0\n",
       "countries_shipped_to            0\n",
       "inventory_total                 0\n",
       "has_urgency_banner              0\n",
       "origin_country                  0\n",
       "merchant_rating_count           0\n",
       "merchant_rating                 0\n",
       "merchant_has_profile_picture    0\n",
       "dtype: int64"
      ]
     },
     "execution_count": 81,
     "metadata": {},
     "output_type": "execute_result"
    }
   ],
   "source": [
    "missing_values_count = df.isnull().sum()\n",
    "\n",
    "# look at the values in all columns after handling them  \n",
    "missing_values_count[:]"
   ]
  },
  {
   "cell_type": "code",
   "execution_count": 82,
   "metadata": {
    "colab": {
     "base_uri": "https://localhost:8080/",
     "height": 206
    },
    "id": "Qe3H2PQpHK8T",
    "outputId": "8a649a7a-ad44-4223-ef2a-9cbfcb7ce07d"
   },
   "outputs": [
    {
     "data": {
      "text/html": [
       "\n",
       "  <div id=\"df-6e9f8e34-4200-479b-907b-50615f4d46fa\">\n",
       "    <div class=\"colab-df-container\">\n",
       "      <div>\n",
       "<style scoped>\n",
       "    .dataframe tbody tr th:only-of-type {\n",
       "        vertical-align: middle;\n",
       "    }\n",
       "\n",
       "    .dataframe tbody tr th {\n",
       "        vertical-align: top;\n",
       "    }\n",
       "\n",
       "    .dataframe thead th {\n",
       "        text-align: right;\n",
       "    }\n",
       "</style>\n",
       "<table border=\"1\" class=\"dataframe\">\n",
       "  <thead>\n",
       "    <tr style=\"text-align: right;\">\n",
       "      <th></th>\n",
       "      <th>retail_price</th>\n",
       "      <th>price</th>\n",
       "      <th>percent_discount</th>\n",
       "    </tr>\n",
       "  </thead>\n",
       "  <tbody>\n",
       "    <tr>\n",
       "      <th>0</th>\n",
       "      <td>7</td>\n",
       "      <td>8.00</td>\n",
       "      <td>-14.285714</td>\n",
       "    </tr>\n",
       "    <tr>\n",
       "      <th>1</th>\n",
       "      <td>7</td>\n",
       "      <td>8.00</td>\n",
       "      <td>-14.285714</td>\n",
       "    </tr>\n",
       "    <tr>\n",
       "      <th>2</th>\n",
       "      <td>34</td>\n",
       "      <td>6.00</td>\n",
       "      <td>82.352941</td>\n",
       "    </tr>\n",
       "    <tr>\n",
       "      <th>3</th>\n",
       "      <td>4</td>\n",
       "      <td>4.67</td>\n",
       "      <td>-16.750000</td>\n",
       "    </tr>\n",
       "    <tr>\n",
       "      <th>4</th>\n",
       "      <td>11</td>\n",
       "      <td>8.00</td>\n",
       "      <td>27.272727</td>\n",
       "    </tr>\n",
       "  </tbody>\n",
       "</table>\n",
       "</div>\n",
       "      <button class=\"colab-df-convert\" onclick=\"convertToInteractive('df-6e9f8e34-4200-479b-907b-50615f4d46fa')\"\n",
       "              title=\"Convert this dataframe to an interactive table.\"\n",
       "              style=\"display:none;\">\n",
       "        \n",
       "  <svg xmlns=\"http://www.w3.org/2000/svg\" height=\"24px\"viewBox=\"0 0 24 24\"\n",
       "       width=\"24px\">\n",
       "    <path d=\"M0 0h24v24H0V0z\" fill=\"none\"/>\n",
       "    <path d=\"M18.56 5.44l.94 2.06.94-2.06 2.06-.94-2.06-.94-.94-2.06-.94 2.06-2.06.94zm-11 1L8.5 8.5l.94-2.06 2.06-.94-2.06-.94L8.5 2.5l-.94 2.06-2.06.94zm10 10l.94 2.06.94-2.06 2.06-.94-2.06-.94-.94-2.06-.94 2.06-2.06.94z\"/><path d=\"M17.41 7.96l-1.37-1.37c-.4-.4-.92-.59-1.43-.59-.52 0-1.04.2-1.43.59L10.3 9.45l-7.72 7.72c-.78.78-.78 2.05 0 2.83L4 21.41c.39.39.9.59 1.41.59.51 0 1.02-.2 1.41-.59l7.78-7.78 2.81-2.81c.8-.78.8-2.07 0-2.86zM5.41 20L4 18.59l7.72-7.72 1.47 1.35L5.41 20z\"/>\n",
       "  </svg>\n",
       "      </button>\n",
       "      \n",
       "  <style>\n",
       "    .colab-df-container {\n",
       "      display:flex;\n",
       "      flex-wrap:wrap;\n",
       "      gap: 12px;\n",
       "    }\n",
       "\n",
       "    .colab-df-convert {\n",
       "      background-color: #E8F0FE;\n",
       "      border: none;\n",
       "      border-radius: 50%;\n",
       "      cursor: pointer;\n",
       "      display: none;\n",
       "      fill: #1967D2;\n",
       "      height: 32px;\n",
       "      padding: 0 0 0 0;\n",
       "      width: 32px;\n",
       "    }\n",
       "\n",
       "    .colab-df-convert:hover {\n",
       "      background-color: #E2EBFA;\n",
       "      box-shadow: 0px 1px 2px rgba(60, 64, 67, 0.3), 0px 1px 3px 1px rgba(60, 64, 67, 0.15);\n",
       "      fill: #174EA6;\n",
       "    }\n",
       "\n",
       "    [theme=dark] .colab-df-convert {\n",
       "      background-color: #3B4455;\n",
       "      fill: #D2E3FC;\n",
       "    }\n",
       "\n",
       "    [theme=dark] .colab-df-convert:hover {\n",
       "      background-color: #434B5C;\n",
       "      box-shadow: 0px 1px 3px 1px rgba(0, 0, 0, 0.15);\n",
       "      filter: drop-shadow(0px 1px 2px rgba(0, 0, 0, 0.3));\n",
       "      fill: #FFFFFF;\n",
       "    }\n",
       "  </style>\n",
       "\n",
       "      <script>\n",
       "        const buttonEl =\n",
       "          document.querySelector('#df-6e9f8e34-4200-479b-907b-50615f4d46fa button.colab-df-convert');\n",
       "        buttonEl.style.display =\n",
       "          google.colab.kernel.accessAllowed ? 'block' : 'none';\n",
       "\n",
       "        async function convertToInteractive(key) {\n",
       "          const element = document.querySelector('#df-6e9f8e34-4200-479b-907b-50615f4d46fa');\n",
       "          const dataTable =\n",
       "            await google.colab.kernel.invokeFunction('convertToInteractive',\n",
       "                                                     [key], {});\n",
       "          if (!dataTable) return;\n",
       "\n",
       "          const docLinkHtml = 'Like what you see? Visit the ' +\n",
       "            '<a target=\"_blank\" href=https://colab.research.google.com/notebooks/data_table.ipynb>data table notebook</a>'\n",
       "            + ' to learn more about interactive tables.';\n",
       "          element.innerHTML = '';\n",
       "          dataTable['output_type'] = 'display_data';\n",
       "          await google.colab.output.renderOutput(dataTable, element);\n",
       "          const docLink = document.createElement('div');\n",
       "          docLink.innerHTML = docLinkHtml;\n",
       "          element.appendChild(docLink);\n",
       "        }\n",
       "      </script>\n",
       "    </div>\n",
       "  </div>\n",
       "  "
      ],
      "text/plain": [
       "   retail_price  price  percent_discount\n",
       "0             7   8.00        -14.285714\n",
       "1             7   8.00        -14.285714\n",
       "2            34   6.00         82.352941\n",
       "3             4   4.67        -16.750000\n",
       "4            11   8.00         27.272727"
      ]
     },
     "execution_count": 82,
     "metadata": {},
     "output_type": "execute_result"
    }
   ],
   "source": [
    "#Creating discount feature\n",
    "df['percent_discount'] = (df['retail_price'] - df['price']) / df['retail_price'] * 100\n",
    "df[['retail_price', 'price', 'percent_discount']].head()"
   ]
  },
  {
   "cell_type": "code",
   "execution_count": 83,
   "metadata": {
    "id": "9hEL0gtLHLf-"
   },
   "outputs": [],
   "source": [
    "#One-hot encoding\n",
    "df = pd.get_dummies(df, columns = ['product_variation_size_id','origin_country'])"
   ]
  },
  {
   "cell_type": "code",
   "execution_count": 84,
   "metadata": {
    "id": "qdINp7v8HOQH"
   },
   "outputs": [],
   "source": [
    "Xtr=df.loc[:,df.columns!='rating'] #defing the features of our train dataset\n",
    "Ytr = df.rating #defing the lables and assigning them to Ytr"
   ]
  },
  {
   "cell_type": "code",
   "execution_count": 85,
   "metadata": {
    "colab": {
     "base_uri": "https://localhost:8080/"
    },
    "id": "k2ALR-pgJGfL",
    "outputId": "372bcd61-12a4-4f93-a286-a5623e04882e"
   },
   "outputs": [
    {
     "name": "stderr",
     "output_type": "stream",
     "text": [
      "/usr/local/lib/python3.7/dist-packages/pandas/core/generic.py:5516: SettingWithCopyWarning:\n",
      "\n",
      "\n",
      "A value is trying to be set on a copy of a slice from a DataFrame.\n",
      "Try using .loc[row_indexer,col_indexer] = value instead\n",
      "\n",
      "See the caveats in the documentation: https://pandas.pydata.org/pandas-docs/stable/user_guide/indexing.html#returning-a-view-versus-a-copy\n",
      "\n"
     ]
    }
   ],
   "source": [
    "Xtr.product_color = pd.Categorical(Xtr.product_color).codes #converting categorical colors into numeric values"
   ]
  },
  {
   "cell_type": "code",
   "execution_count": 86,
   "metadata": {
    "id": "UEo_BgG4HVZR"
   },
   "outputs": [],
   "source": [
    "from sklearn.preprocessing import StandardScaler #applying scaling to our data\n",
    "scaler = StandardScaler().fit(Xtr)\n",
    "Xtr = scaler.transform(Xtr)"
   ]
  },
  {
   "cell_type": "code",
   "execution_count": 87,
   "metadata": {
    "id": "ulZp3U5qrixC"
   },
   "outputs": [],
   "source": [
    "from sklearn import preprocessing\n",
    "\n",
    "\n",
    "scaler = preprocessing.Normalizer(norm='l2').fit(Xtr)"
   ]
  },
  {
   "cell_type": "code",
   "execution_count": 88,
   "metadata": {
    "colab": {
     "base_uri": "https://localhost:8080/"
    },
    "id": "-cmfUsK2HYpK",
    "outputId": "c5412029-9bc1-47b8-bd3b-f4de8154ba9c"
   },
   "outputs": [
    {
     "data": {
      "text/plain": [
       "SVC(C=10, gamma=0.001)"
      ]
     },
     "execution_count": 88,
     "metadata": {},
     "output_type": "execute_result"
    }
   ],
   "source": [
    "#Buildiing our Svm model\n",
    "from sklearn.svm import SVC   \n",
    "from sklearn.metrics import accuracy_score\n",
    "\n",
    "svm1 = SVC(kernel='rbf', gamma=0.001, C=10)\n",
    "svm1.fit(Xtr,Ytr)"
   ]
  },
  {
   "cell_type": "code",
   "execution_count": 89,
   "metadata": {
    "colab": {
     "base_uri": "https://localhost:8080/"
    },
    "id": "0G7RLUaxN7Vc",
    "outputId": "8b7115f3-008e-41e1-8a91-9e3604b87bb0"
   },
   "outputs": [
    {
     "name": "stdout",
     "output_type": "stream",
     "text": [
      "Fitting 5 folds for each of 18 candidates, totalling 90 fits\n"
     ]
    },
    {
     "name": "stderr",
     "output_type": "stream",
     "text": [
      "/usr/local/lib/python3.7/dist-packages/sklearn/model_selection/_split.py:680: UserWarning:\n",
      "\n",
      "The least populated class in y has only 2 members, which is less than n_splits=5.\n",
      "\n"
     ]
    },
    {
     "data": {
      "text/plain": [
       "GridSearchCV(cv=5, estimator=DecisionTreeClassifier(random_state=1024),\n",
       "             param_grid={'criterion': ['gini', 'entropy'],\n",
       "                         'max_depth': [2, 4, 6, 7, 8, 10, 12, 14, 16]},\n",
       "             verbose=True)"
      ]
     },
     "execution_count": 89,
     "metadata": {},
     "output_type": "execute_result"
    }
   ],
   "source": [
    "from sklearn.model_selection import GridSearchCV #importing GidSearchCv\n",
    "from sklearn import tree #importing tree \n",
    "from sklearn.tree import DecisionTreeClassifier #importing DecisionTreeClassifier\n",
    "#Using gridsearch to find the best parameters\n",
    "param_grid = {'criterion' :['gini', 'entropy'],\n",
    "              'max_depth' : [2,4,6,7,8,10,12,14,16]\n",
    "             }\n",
    "clf = DecisionTreeClassifier(random_state=1024)\n",
    "grid_search = GridSearchCV(estimator=clf, param_grid=param_grid, cv=5, verbose=True)\n",
    "grid_search.fit(Xtr, Ytr)"
   ]
  },
  {
   "cell_type": "code",
   "execution_count": 90,
   "metadata": {
    "colab": {
     "base_uri": "https://localhost:8080/"
    },
    "id": "G05lra1zODeK",
    "outputId": "5c819591-7f91-4bfb-d26a-c2e257377cce"
   },
   "outputs": [
    {
     "name": "stdout",
     "output_type": "stream",
     "text": [
      "{'criterion': 'gini', 'max_depth': 6} \n",
      " DecisionTreeClassifier(max_depth=6, random_state=1024) \n",
      " The best score is : 0.7868082610699174\n"
     ]
    }
   ],
   "source": [
    "print(grid_search.best_params_, '\\n' , grid_search.best_estimator_, '\\n The best score is :', grid_search.best_score_)"
   ]
  },
  {
   "cell_type": "code",
   "execution_count": 91,
   "metadata": {
    "colab": {
     "base_uri": "https://localhost:8080/"
    },
    "id": "EQKPBhMOOGCz",
    "outputId": "a0d008c0-ecc3-4146-8214-5995f226b6cb"
   },
   "outputs": [
    {
     "data": {
      "text/plain": [
       "DecisionTreeClassifier(max_depth=6, random_state=1024)"
      ]
     },
     "execution_count": 91,
     "metadata": {},
     "output_type": "execute_result"
    }
   ],
   "source": [
    "#Building a decison tree model using these parameters\n",
    "clf1 = DecisionTreeClassifier(criterion=\"gini\", max_depth=6, random_state=1024)\n",
    "clf1.fit(Xtr,Ytr) #Fitting the model with our samples of the train dataset"
   ]
  },
  {
   "cell_type": "markdown",
   "metadata": {},
   "source": [
    "## Test"
   ]
  },
  {
   "cell_type": "code",
   "execution_count": 92,
   "metadata": {
    "id": "Qb6k0R4qHiTC"
   },
   "outputs": [],
   "source": [
    "#Readinf our test dataset\n",
    "df1 = pd.read_csv('test_new.csv')"
   ]
  },
  {
   "cell_type": "code",
   "execution_count": 93,
   "metadata": {
    "id": "oQPN9UTnHlXq"
   },
   "outputs": [],
   "source": [
    "#Assigning id coluns to _id\n",
    "_id= df1['id']"
   ]
  },
  {
   "cell_type": "code",
   "execution_count": 94,
   "metadata": {
    "id": "4uOO7ktIHnUm"
   },
   "outputs": [],
   "source": [
    "#Dropping unnecessary columns \n",
    "df1.drop('tags',axis='columns', inplace=True)\n",
    "df1.drop('shipping_option_name',axis='columns', inplace=True)\n",
    "df1.drop('merchant_title',axis='columns', inplace=True)\n",
    "df1.drop('merchant_name',axis='columns', inplace=True)\n",
    "df1.drop('merchant_info_subtitle',axis='columns', inplace=True)\n",
    "df1.drop('merchant_profile_picture',axis='columns', inplace=True)\n",
    "df1.drop('urgency_text',axis='columns', inplace=True)\n",
    "df1.drop('currency_buyer',axis='columns', inplace=True)\n",
    "df1.drop('merchant_id',axis='columns',inplace=True)\n",
    "df1.drop('crawl_month',axis='columns', inplace=True)\n",
    "df1.drop('theme',axis='columns', inplace=True)\n",
    "df1.drop('id',axis='columns', inplace=True)"
   ]
  },
  {
   "cell_type": "code",
   "execution_count": 95,
   "metadata": {
    "id": "FwW1OQRvHqzO"
   },
   "outputs": [],
   "source": [
    "#Filling the missing valus with the most frequent value\n",
    "df1.loc[:, 'origin_country']=subset_df_data.fillna('CN')"
   ]
  },
  {
   "cell_type": "code",
   "execution_count": 96,
   "metadata": {
    "id": "lD3QkZf8HtWg"
   },
   "outputs": [],
   "source": [
    "#Filling the missing values with zeros\n",
    "df1.loc[:,'has_urgency_banner']=df1.loc[:,'has_urgency_banner'].fillna(0)"
   ]
  },
  {
   "cell_type": "code",
   "execution_count": 97,
   "metadata": {
    "id": "1KYsc43eH1O5"
   },
   "outputs": [],
   "source": [
    "#Handling Size column\n",
    "df1['product_variation_size_id'].replace(['S', 'S.', 's', 'Size S', 'Size-S', 'Size S.', 'Suit-S', 'size S','S Pink', 'pants-S', 'US-S', 'SIZE S', 'S (waist58-62cm)', 'Size--S', '25-S', 'Size/S', 'S Diameter 30cm', 'S..', 'S(Pink & Black)'], 'S', inplace=True)\n",
    "df1['product_variation_size_id'].replace(['XS', 'XS.', 'SIZE XS', 'Size-XS'], 'XS', inplace=True)\n",
    "df1['product_variation_size_id'].replace(['XXS', 'XXXS', 'SIZE-XXS', 'Size -XXS', 'Size XXS', 'Size-XXS', 'SIZE XXS'], 'XXS+', inplace=True)\n",
    "df1['product_variation_size_id'].replace(['M', 'M.', 'Size M'], 'M', inplace=True)\n",
    "df1['product_variation_size_id'].replace(['L', 'SizeL', '32/L', 'L.', 'Size-L'], 'L', inplace=True)\n",
    "df1['product_variation_size_id'].replace(['XL', '2XL', '1 PC - XL', 'X   L'], 'XL', inplace=True)\n",
    "df1['product_variation_size_id'].replace(['XXL', '4XL', '2XL', 'Size4XL', '3XL', 'XXXXXL', '1 PC - XL', 'SIZE-4XL', '04-3XL', 'Size-5XL', 'XXXXL', '5XL', 'XXXL'], 'XXL+', inplace=True)\n",
    "size_val_counts = df1['product_variation_size_id'].value_counts()\n",
    "# Select the values where the count is less than 5 \n",
    "minority = size_val_counts[size_val_counts <= 5].index\n",
    "df1.loc[df1['product_variation_size_id'].isin(minority), 'product_variation_size_id'] = \"Other\"\n",
    "df1['product_variation_size_id'] = df1['product_variation_size_id'].replace(np.nan, \"Other\")"
   ]
  },
  {
   "cell_type": "code",
   "execution_count": 98,
   "metadata": {
    "id": "IHC0c3pyH4Bf"
   },
   "outputs": [],
   "source": [
    "df1['product_color'] = df1['product_color'].str.lower()\n",
    "# remove trailing white spaces\n",
    "df1['product_color'] = df1['product_color'].str.strip()\n"
   ]
  },
  {
   "cell_type": "code",
   "execution_count": 99,
   "metadata": {
    "id": "JgzzEJc7H8Dh"
   },
   "outputs": [],
   "source": [
    "#handling color columns\n",
    "df1['product_color'] = df1.product_color.apply(switch)"
   ]
  },
  {
   "cell_type": "code",
   "execution_count": 100,
   "metadata": {
    "colab": {
     "base_uri": "https://localhost:8080/",
     "height": 206
    },
    "id": "osKbHeNsIKOu",
    "outputId": "e18212e7-c506-4cf3-ec99-eafebb183913"
   },
   "outputs": [
    {
     "data": {
      "text/html": [
       "\n",
       "  <div id=\"df-93147539-4668-4fe0-aecf-d667122f48ae\">\n",
       "    <div class=\"colab-df-container\">\n",
       "      <div>\n",
       "<style scoped>\n",
       "    .dataframe tbody tr th:only-of-type {\n",
       "        vertical-align: middle;\n",
       "    }\n",
       "\n",
       "    .dataframe tbody tr th {\n",
       "        vertical-align: top;\n",
       "    }\n",
       "\n",
       "    .dataframe thead th {\n",
       "        text-align: right;\n",
       "    }\n",
       "</style>\n",
       "<table border=\"1\" class=\"dataframe\">\n",
       "  <thead>\n",
       "    <tr style=\"text-align: right;\">\n",
       "      <th></th>\n",
       "      <th>retail_price</th>\n",
       "      <th>price</th>\n",
       "      <th>percent_discount</th>\n",
       "    </tr>\n",
       "  </thead>\n",
       "  <tbody>\n",
       "    <tr>\n",
       "      <th>0</th>\n",
       "      <td>5</td>\n",
       "      <td>5.75</td>\n",
       "      <td>-15.000000</td>\n",
       "    </tr>\n",
       "    <tr>\n",
       "      <th>1</th>\n",
       "      <td>7</td>\n",
       "      <td>7.00</td>\n",
       "      <td>0.000000</td>\n",
       "    </tr>\n",
       "    <tr>\n",
       "      <th>2</th>\n",
       "      <td>16</td>\n",
       "      <td>5.00</td>\n",
       "      <td>68.750000</td>\n",
       "    </tr>\n",
       "    <tr>\n",
       "      <th>3</th>\n",
       "      <td>27</td>\n",
       "      <td>18.00</td>\n",
       "      <td>33.333333</td>\n",
       "    </tr>\n",
       "    <tr>\n",
       "      <th>4</th>\n",
       "      <td>81</td>\n",
       "      <td>12.00</td>\n",
       "      <td>85.185185</td>\n",
       "    </tr>\n",
       "  </tbody>\n",
       "</table>\n",
       "</div>\n",
       "      <button class=\"colab-df-convert\" onclick=\"convertToInteractive('df-93147539-4668-4fe0-aecf-d667122f48ae')\"\n",
       "              title=\"Convert this dataframe to an interactive table.\"\n",
       "              style=\"display:none;\">\n",
       "        \n",
       "  <svg xmlns=\"http://www.w3.org/2000/svg\" height=\"24px\"viewBox=\"0 0 24 24\"\n",
       "       width=\"24px\">\n",
       "    <path d=\"M0 0h24v24H0V0z\" fill=\"none\"/>\n",
       "    <path d=\"M18.56 5.44l.94 2.06.94-2.06 2.06-.94-2.06-.94-.94-2.06-.94 2.06-2.06.94zm-11 1L8.5 8.5l.94-2.06 2.06-.94-2.06-.94L8.5 2.5l-.94 2.06-2.06.94zm10 10l.94 2.06.94-2.06 2.06-.94-2.06-.94-.94-2.06-.94 2.06-2.06.94z\"/><path d=\"M17.41 7.96l-1.37-1.37c-.4-.4-.92-.59-1.43-.59-.52 0-1.04.2-1.43.59L10.3 9.45l-7.72 7.72c-.78.78-.78 2.05 0 2.83L4 21.41c.39.39.9.59 1.41.59.51 0 1.02-.2 1.41-.59l7.78-7.78 2.81-2.81c.8-.78.8-2.07 0-2.86zM5.41 20L4 18.59l7.72-7.72 1.47 1.35L5.41 20z\"/>\n",
       "  </svg>\n",
       "      </button>\n",
       "      \n",
       "  <style>\n",
       "    .colab-df-container {\n",
       "      display:flex;\n",
       "      flex-wrap:wrap;\n",
       "      gap: 12px;\n",
       "    }\n",
       "\n",
       "    .colab-df-convert {\n",
       "      background-color: #E8F0FE;\n",
       "      border: none;\n",
       "      border-radius: 50%;\n",
       "      cursor: pointer;\n",
       "      display: none;\n",
       "      fill: #1967D2;\n",
       "      height: 32px;\n",
       "      padding: 0 0 0 0;\n",
       "      width: 32px;\n",
       "    }\n",
       "\n",
       "    .colab-df-convert:hover {\n",
       "      background-color: #E2EBFA;\n",
       "      box-shadow: 0px 1px 2px rgba(60, 64, 67, 0.3), 0px 1px 3px 1px rgba(60, 64, 67, 0.15);\n",
       "      fill: #174EA6;\n",
       "    }\n",
       "\n",
       "    [theme=dark] .colab-df-convert {\n",
       "      background-color: #3B4455;\n",
       "      fill: #D2E3FC;\n",
       "    }\n",
       "\n",
       "    [theme=dark] .colab-df-convert:hover {\n",
       "      background-color: #434B5C;\n",
       "      box-shadow: 0px 1px 3px 1px rgba(0, 0, 0, 0.15);\n",
       "      filter: drop-shadow(0px 1px 2px rgba(0, 0, 0, 0.3));\n",
       "      fill: #FFFFFF;\n",
       "    }\n",
       "  </style>\n",
       "\n",
       "      <script>\n",
       "        const buttonEl =\n",
       "          document.querySelector('#df-93147539-4668-4fe0-aecf-d667122f48ae button.colab-df-convert');\n",
       "        buttonEl.style.display =\n",
       "          google.colab.kernel.accessAllowed ? 'block' : 'none';\n",
       "\n",
       "        async function convertToInteractive(key) {\n",
       "          const element = document.querySelector('#df-93147539-4668-4fe0-aecf-d667122f48ae');\n",
       "          const dataTable =\n",
       "            await google.colab.kernel.invokeFunction('convertToInteractive',\n",
       "                                                     [key], {});\n",
       "          if (!dataTable) return;\n",
       "\n",
       "          const docLinkHtml = 'Like what you see? Visit the ' +\n",
       "            '<a target=\"_blank\" href=https://colab.research.google.com/notebooks/data_table.ipynb>data table notebook</a>'\n",
       "            + ' to learn more about interactive tables.';\n",
       "          element.innerHTML = '';\n",
       "          dataTable['output_type'] = 'display_data';\n",
       "          await google.colab.output.renderOutput(dataTable, element);\n",
       "          const docLink = document.createElement('div');\n",
       "          docLink.innerHTML = docLinkHtml;\n",
       "          element.appendChild(docLink);\n",
       "        }\n",
       "      </script>\n",
       "    </div>\n",
       "  </div>\n",
       "  "
      ],
      "text/plain": [
       "   retail_price  price  percent_discount\n",
       "0             5   5.75        -15.000000\n",
       "1             7   7.00          0.000000\n",
       "2            16   5.00         68.750000\n",
       "3            27  18.00         33.333333\n",
       "4            81  12.00         85.185185"
      ]
     },
     "execution_count": 100,
     "metadata": {},
     "output_type": "execute_result"
    }
   ],
   "source": [
    "#Creating discount feature\n",
    "df1['percent_discount'] = (df1['retail_price'] - df1['price']) / df1['retail_price'] * 100\n",
    "df1[['retail_price', 'price', 'percent_discount']].head()"
   ]
  },
  {
   "cell_type": "code",
   "execution_count": 101,
   "metadata": {
    "id": "Q4zT5f7OIN-c"
   },
   "outputs": [],
   "source": [
    "#Applying one_hot encoding\n",
    "df1 = pd.get_dummies(df1, columns = ['product_variation_size_id','origin_country'])"
   ]
  },
  {
   "cell_type": "code",
   "execution_count": 102,
   "metadata": {
    "id": "q1OicF_uIRMp"
   },
   "outputs": [],
   "source": [
    "#Defining our features in our test dataset\n",
    "Xts=df1.loc[:]\n"
   ]
  },
  {
   "cell_type": "code",
   "execution_count": 103,
   "metadata": {
    "id": "9fLtrQSDISjq"
   },
   "outputs": [],
   "source": [
    "#Converting from categorical to numeric\n",
    "Xts.product_color = pd.Categorical(Xts.product_color).codes"
   ]
  },
  {
   "cell_type": "code",
   "execution_count": 104,
   "metadata": {
    "id": "HYk4DuEkIVBX"
   },
   "outputs": [],
   "source": [
    "#Applying scaling\n",
    "scaler = StandardScaler().fit(Xts)\n",
    "Xts = scaler.transform(Xts)"
   ]
  },
  {
   "cell_type": "code",
   "execution_count": 105,
   "metadata": {
    "id": "uqJY0RrNrUnS"
   },
   "outputs": [],
   "source": [
    "from sklearn import preprocessing\n",
    "import numpy as np\n",
    "\n",
    "\n",
    "scaler = preprocessing.Normalizer(norm='l2').fit(Xts)"
   ]
  },
  {
   "cell_type": "code",
   "execution_count": 106,
   "metadata": {
    "colab": {
     "base_uri": "https://localhost:8080/"
    },
    "id": "0XaC-5h6IWrj",
    "outputId": "45014283-90fe-410c-dfb1-9179fa280682"
   },
   "outputs": [
    {
     "name": "stdout",
     "output_type": "stream",
     "text": [
      "[4. 4. 4. 4. 4. 4. 4. 4. 4. 4. 4. 4. 4. 4. 4. 4. 4. 4. 4. 4. 4. 4. 4. 4.\n",
      " 4. 4. 4. 5. 4. 4. 4. 4. 4. 4. 4. 4. 4. 4. 4. 4. 5. 4. 4. 4. 4. 4. 4. 4.\n",
      " 4. 4. 4. 4. 4. 4. 4. 4. 4. 4. 4. 4. 5. 4. 4. 4. 4. 4. 4. 4. 4. 4. 4. 4.\n",
      " 4. 4. 4. 4. 4. 4. 4. 4. 4. 4. 4. 4. 4. 4. 4. 4. 4. 5. 4. 4. 4. 4. 4. 4.\n",
      " 4. 4. 4. 4. 4. 4. 4. 4. 4. 4. 4. 4. 4. 4. 4. 4. 4. 5. 4. 4. 4. 4. 4. 4.\n",
      " 4. 4. 4. 4. 4. 4. 4. 4. 4. 4. 4. 4. 4. 4. 4. 4. 4. 4. 5. 4. 4. 4. 4. 5.\n",
      " 5. 4. 4. 4. 4. 4. 4. 4. 4. 4. 4. 4. 4. 4. 4. 4. 4. 4. 4. 4. 4. 4. 4. 4.\n",
      " 4. 5. 4. 4. 5. 4. 4. 4. 4. 4. 4. 4. 4. 4. 4. 4. 4. 4. 4. 4. 4. 4. 4. 4.\n",
      " 4. 4. 4. 4. 4. 4. 4. 4. 4. 5. 4. 4. 4. 4. 4. 4. 4. 4. 4. 4. 4. 4. 5. 4.\n",
      " 4. 4. 4. 4. 4. 4. 4. 4. 4. 4. 4. 4. 5. 4. 4. 4. 4. 4. 4. 4. 4. 4. 4. 4.\n",
      " 4. 4. 4. 4. 4. 4. 4. 4. 4. 4. 4. 4. 4. 4. 4. 4. 4. 2. 4. 4. 4. 4. 4. 4.\n",
      " 4. 4. 4. 4. 4. 4. 4. 4. 4. 4. 4. 4. 4. 4. 4. 4. 4. 4. 4. 4. 4. 5. 4. 4.\n",
      " 4. 4. 4. 4. 4. 4. 4. 4. 4. 4. 4. 4. 4. 4. 4. 4. 4. 5. 4. 4. 4. 4. 4. 4.\n",
      " 4. 4. 4. 4. 4. 4. 4. 4. 4. 4. 4. 4. 4. 4. 5. 4. 4. 4. 4. 4. 4. 4. 4. 4.\n",
      " 4. 4. 4. 5. 4. 4. 4. 4. 4. 4. 4. 4. 4. 4. 4. 4. 4. 4. 4. 4. 4. 4. 5. 4.\n",
      " 4. 4. 4. 4. 4. 4. 4. 4. 4. 4. 4. 4. 4. 4. 4. 4. 4. 4. 4. 4. 4. 4. 4. 4.\n",
      " 4. 4. 4. 4. 4. 4. 4. 4. 4. 4. 4. 4. 4. 4. 4. 4. 4. 4. 5. 4. 5. 4. 4. 4.\n",
      " 4. 4. 4. 4. 4. 4. 4. 4. 4. 4. 4. 4. 5. 4. 4. 4. 4. 4. 2. 4. 4. 4. 4. 4.\n",
      " 4. 4. 4. 4. 4. 4. 5. 5. 4. 4. 4. 4. 4. 4. 4. 4. 4. 4. 4. 4. 4. 4. 4. 4.\n",
      " 4. 4. 4. 4. 4. 4. 4. 4. 4. 4. 4. 4. 4. 4. 4. 4. 5. 4. 4. 4. 4. 4. 4.]\n"
     ]
    }
   ],
   "source": [
    "#Perdicting\n",
    "prediction3 = svm1.predict(Xts)\n",
    "print(prediction3)"
   ]
  },
  {
   "cell_type": "code",
   "execution_count": 107,
   "metadata": {
    "id": "U3vAHT2EIe5W"
   },
   "outputs": [],
   "source": [
    "pred_df = pd.DataFrame(data={'id': _id, 'rating': prediction3})\n",
    "\n",
    "pred_df.to_csv('pred_walkthroughS3.csv', index=False)"
   ]
  },
  {
   "cell_type": "code",
   "execution_count": 108,
   "metadata": {
    "colab": {
     "base_uri": "https://localhost:8080/"
    },
    "id": "_SNBBT3XOsy5",
    "outputId": "ece2eb9d-1291-48e4-a160-b9051c462a14"
   },
   "outputs": [
    {
     "name": "stdout",
     "output_type": "stream",
     "text": [
      "[4. 4. 4. 4. 4. 4. 4. 4. 4. 4. 4. 4. 4. 4. 4. 4. 4. 4. 4. 4. 4. 4. 4. 4.\n",
      " 4. 4. 4. 5. 4. 4. 4. 4. 4. 4. 4. 4. 4. 4. 4. 4. 5. 4. 4. 4. 4. 4. 4. 4.\n",
      " 4. 4. 4. 4. 4. 4. 4. 4. 4. 4. 4. 4. 5. 4. 4. 4. 4. 4. 4. 4. 4. 4. 4. 4.\n",
      " 4. 4. 4. 4. 4. 4. 4. 4. 4. 4. 4. 4. 4. 4. 4. 4. 4. 5. 4. 4. 4. 4. 4. 4.\n",
      " 4. 4. 4. 4. 4. 4. 4. 4. 4. 4. 4. 4. 4. 4. 4. 4. 4. 5. 4. 4. 4. 4. 4. 4.\n",
      " 4. 4. 4. 4. 4. 4. 4. 4. 4. 4. 4. 4. 4. 4. 4. 4. 4. 4. 5. 4. 4. 4. 4. 5.\n",
      " 5. 4. 4. 4. 4. 4. 4. 4. 4. 4. 4. 4. 4. 4. 4. 4. 4. 4. 4. 4. 4. 4. 4. 4.\n",
      " 4. 5. 4. 4. 5. 4. 4. 4. 4. 4. 4. 4. 4. 4. 4. 4. 4. 4. 4. 4. 4. 4. 4. 4.\n",
      " 4. 4. 4. 4. 4. 4. 4. 4. 4. 5. 4. 4. 4. 4. 4. 4. 4. 4. 4. 4. 4. 4. 5. 4.\n",
      " 4. 4. 4. 4. 4. 4. 4. 4. 4. 4. 4. 4. 5. 4. 4. 4. 4. 4. 4. 4. 4. 4. 4. 4.\n",
      " 4. 4. 4. 4. 4. 4. 4. 4. 4. 4. 4. 4. 4. 4. 4. 4. 4. 2. 4. 4. 4. 4. 4. 4.\n",
      " 4. 4. 4. 4. 4. 4. 4. 4. 4. 4. 4. 4. 4. 4. 4. 4. 4. 4. 4. 4. 4. 5. 4. 4.\n",
      " 4. 4. 4. 4. 4. 4. 4. 4. 4. 4. 4. 4. 4. 4. 4. 4. 4. 5. 4. 4. 4. 4. 4. 4.\n",
      " 4. 4. 4. 4. 4. 4. 4. 4. 4. 4. 4. 4. 4. 4. 5. 4. 4. 4. 4. 4. 4. 4. 4. 4.\n",
      " 4. 4. 4. 5. 4. 4. 4. 4. 4. 4. 4. 4. 4. 4. 4. 4. 4. 4. 4. 4. 4. 4. 5. 4.\n",
      " 4. 4. 4. 4. 4. 4. 4. 4. 4. 4. 4. 4. 4. 4. 4. 4. 4. 4. 4. 4. 4. 4. 4. 4.\n",
      " 4. 4. 4. 4. 4. 4. 4. 4. 4. 4. 4. 4. 4. 4. 4. 4. 4. 4. 5. 4. 5. 4. 4. 4.\n",
      " 4. 4. 4. 4. 4. 4. 4. 4. 4. 4. 4. 4. 5. 4. 4. 4. 4. 4. 2. 4. 4. 4. 4. 4.\n",
      " 4. 4. 4. 4. 4. 4. 5. 5. 4. 4. 4. 4. 4. 4. 4. 4. 4. 4. 4. 4. 4. 4. 4. 4.\n",
      " 4. 4. 4. 4. 4. 4. 4. 4. 4. 4. 4. 4. 4. 4. 4. 4. 5. 4. 4. 4. 4. 4. 4.]\n"
     ]
    }
   ],
   "source": [
    "#Perdicting\n",
    "prediction4 = clf1.predict(Xts)\n",
    "print(prediction3)"
   ]
  },
  {
   "cell_type": "code",
   "execution_count": 109,
   "metadata": {
    "id": "VQYQLUaTOwa_"
   },
   "outputs": [],
   "source": [
    "pred_df = pd.DataFrame(data={'id': _id, 'rating': prediction4})\n",
    "\n",
    "pred_df.to_csv('pred_walkthrough.csv', index=False)"
   ]
  },
  {
   "cell_type": "markdown",
   "metadata": {
    "id": "pXJVuOFquGev"
   },
   "source": [
    "The F1 score is 0.79 for decision tree , 0.75313 for svm  from our observation we found out that the performance degraded  than the first trial and that the best model in our case is decision tree"
   ]
  },
  {
   "cell_type": "markdown",
   "metadata": {},
   "source": [
    " ## Discussion (Questions)\n",
    "##### Why Data Mining is a misnomer? What is another preferred name?\n",
    "The term \"data mining\" is a misnomer, because the goal is the extraction of patterns and knowledge from large amounts of data, not the extraction (mining) of data itself. Another prefered names is knowledge discovery from database or knowledge extraction\n",
    "#### What is the general knowledge discovery process? What is the difference between a data engineer and data scientist/AI engineer?\n",
    "KDD refers to the overall process of discovering useful knowledge from data which involves( data selection, data cleaning and preprocessing, data transformation, data mining, pattern evaluation) \n",
    "Data Engineers collect relevant Data. They move and transform this Data into “pipelines” for the Data Science team. Data Scientists analyze, test, aggregate, optimize the data and present it for the company.\n",
    "#### In data mining, what is the difference between prediction and categorization?\n",
    "Classification is to predict categorical class labels( nominal/ discrete) while prediction models continuous-valued functions\n",
    "#### Why data science/machine learning is a bad idea in the context of information security?\n",
    "• There is no personal privacy\n",
    "• Difficult to verify against compliance\n",
    "• Increased risk of data breach and fine\n",
    "• Responsibility, accountability, liability\n",
    "• Should be part of the risk management framework\n",
    "#### What is CIA principle and how can we use it to access the security/privacy aspect of the AI system/pipelines?\n",
    "CIA refers to an information security model made up of the three main components: confidentiality, integrity and availability. Each component represents a fundamental objective of information security.\n",
    "confidentiality is to prevent sensitive information from unauthorized access attempts. Loss of confidentiality may lead to disclosure of personal information, proprietary information and government classified information\n",
    "Integrity and availability involves maintaining the consistency, accuracy and trustworthiness of data over its entire lifecycle. any corruption may lead to unauthorized transactions, wrong execution of software or orruption of data.\n",
    "Availability of information is that it should be consistently and readily accessible for authorized parties which involves properly maintaining hardware and technical infrastructure and systems that hold and display the information.\n",
    "Invailability may result denial of Service or loss of Data\n"
   ]
  },
  {
   "cell_type": "code",
   "execution_count": null,
   "metadata": {},
   "outputs": [],
   "source": []
  }
 ],
 "metadata": {
  "colab": {
   "name": "DL Version 0.1.ipynb",
   "provenance": [],
   "toc_visible": true
  },
  "kernelspec": {
   "display_name": "Python 3",
   "language": "python",
   "name": "python3"
  },
  "language_info": {
   "codemirror_mode": {
    "name": "ipython",
    "version": 3
   },
   "file_extension": ".py",
   "mimetype": "text/x-python",
   "name": "python",
   "nbconvert_exporter": "python",
   "pygments_lexer": "ipython3",
   "version": "3.7.6"
  }
 },
 "nbformat": 4,
 "nbformat_minor": 1
}
